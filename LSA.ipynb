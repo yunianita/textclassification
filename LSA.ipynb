{
  "cells": [
    {
      "cell_type": "markdown",
      "metadata": {
        "id": "view-in-github",
        "colab_type": "text"
      },
      "source": [
        "<a href=\"https://colab.research.google.com/github/yunianita/textclassification/blob/main/LSA.ipynb\" target=\"_parent\"><img src=\"https://colab.research.google.com/assets/colab-badge.svg\" alt=\"Open In Colab\"/></a>"
      ]
    },
    {
      "cell_type": "markdown",
      "metadata": {
        "id": "FJQdlZpURTBl"
      },
      "source": [
        "# Import Lib"
      ]
    },
    {
      "cell_type": "markdown",
      "metadata": {
        "id": "iYALGQsuaKep"
      },
      "source": [
        "Pada section ini mengambil library yang dibutuhkan"
      ]
    },
    {
      "cell_type": "code",
      "execution_count": null,
      "metadata": {
        "id": "fKntgUlTRK69",
        "colab": {
          "base_uri": "https://localhost:8080/"
        },
        "outputId": "cab22b23-681d-45f3-9e62-1ecccef82dcb"
      },
      "outputs": [
        {
          "output_type": "stream",
          "name": "stdout",
          "text": [
            "[nltk_data] Downloading collection 'popular'\n",
            "[nltk_data]    | \n",
            "[nltk_data]    | Downloading package cmudict to /root/nltk_data...\n",
            "[nltk_data]    |   Package cmudict is already up-to-date!\n",
            "[nltk_data]    | Downloading package gazetteers to /root/nltk_data...\n",
            "[nltk_data]    |   Package gazetteers is already up-to-date!\n",
            "[nltk_data]    | Downloading package genesis to /root/nltk_data...\n",
            "[nltk_data]    |   Package genesis is already up-to-date!\n",
            "[nltk_data]    | Downloading package gutenberg to /root/nltk_data...\n",
            "[nltk_data]    |   Package gutenberg is already up-to-date!\n",
            "[nltk_data]    | Downloading package inaugural to /root/nltk_data...\n",
            "[nltk_data]    |   Package inaugural is already up-to-date!\n",
            "[nltk_data]    | Downloading package movie_reviews to\n",
            "[nltk_data]    |     /root/nltk_data...\n",
            "[nltk_data]    |   Package movie_reviews is already up-to-date!\n",
            "[nltk_data]    | Downloading package names to /root/nltk_data...\n",
            "[nltk_data]    |   Package names is already up-to-date!\n",
            "[nltk_data]    | Downloading package shakespeare to /root/nltk_data...\n",
            "[nltk_data]    |   Package shakespeare is already up-to-date!\n",
            "[nltk_data]    | Downloading package stopwords to /root/nltk_data...\n",
            "[nltk_data]    |   Package stopwords is already up-to-date!\n",
            "[nltk_data]    | Downloading package treebank to /root/nltk_data...\n",
            "[nltk_data]    |   Package treebank is already up-to-date!\n",
            "[nltk_data]    | Downloading package twitter_samples to\n",
            "[nltk_data]    |     /root/nltk_data...\n",
            "[nltk_data]    |   Package twitter_samples is already up-to-date!\n",
            "[nltk_data]    | Downloading package omw to /root/nltk_data...\n",
            "[nltk_data]    |   Package omw is already up-to-date!\n",
            "[nltk_data]    | Downloading package omw-1.4 to /root/nltk_data...\n",
            "[nltk_data]    |   Package omw-1.4 is already up-to-date!\n",
            "[nltk_data]    | Downloading package wordnet to /root/nltk_data...\n",
            "[nltk_data]    |   Package wordnet is already up-to-date!\n",
            "[nltk_data]    | Downloading package wordnet2021 to /root/nltk_data...\n",
            "[nltk_data]    |   Package wordnet2021 is already up-to-date!\n",
            "[nltk_data]    | Downloading package wordnet31 to /root/nltk_data...\n",
            "[nltk_data]    |   Package wordnet31 is already up-to-date!\n",
            "[nltk_data]    | Downloading package wordnet_ic to /root/nltk_data...\n",
            "[nltk_data]    |   Package wordnet_ic is already up-to-date!\n",
            "[nltk_data]    | Downloading package words to /root/nltk_data...\n",
            "[nltk_data]    |   Package words is already up-to-date!\n",
            "[nltk_data]    | Downloading package maxent_ne_chunker to\n",
            "[nltk_data]    |     /root/nltk_data...\n",
            "[nltk_data]    |   Package maxent_ne_chunker is already up-to-date!\n",
            "[nltk_data]    | Downloading package punkt to /root/nltk_data...\n",
            "[nltk_data]    |   Package punkt is already up-to-date!\n",
            "[nltk_data]    | Downloading package snowball_data to\n",
            "[nltk_data]    |     /root/nltk_data...\n",
            "[nltk_data]    |   Package snowball_data is already up-to-date!\n",
            "[nltk_data]    | Downloading package averaged_perceptron_tagger to\n",
            "[nltk_data]    |     /root/nltk_data...\n",
            "[nltk_data]    |   Package averaged_perceptron_tagger is already up-\n",
            "[nltk_data]    |       to-date!\n",
            "[nltk_data]    | \n",
            "[nltk_data]  Done downloading collection popular\n",
            "Requirement already satisfied: Sastrawi in /usr/local/lib/python3.7/dist-packages (1.0.1)\n",
            "Requirement already satisfied: nlp-id in /usr/local/lib/python3.7/dist-packages (0.1.12.0)\n",
            "Requirement already satisfied: scikit-learn==0.22 in /usr/local/lib/python3.7/dist-packages (from nlp-id) (0.22)\n",
            "Requirement already satisfied: nltk==3.4.5 in /usr/local/lib/python3.7/dist-packages (from nlp-id) (3.4.5)\n",
            "Requirement already satisfied: wget==3.2 in /usr/local/lib/python3.7/dist-packages (from nlp-id) (3.2)\n",
            "Requirement already satisfied: six in /usr/local/lib/python3.7/dist-packages (from nltk==3.4.5->nlp-id) (1.15.0)\n",
            "Requirement already satisfied: joblib>=0.11 in /usr/local/lib/python3.7/dist-packages (from scikit-learn==0.22->nlp-id) (1.1.0)\n",
            "Requirement already satisfied: scipy>=0.17.0 in /usr/local/lib/python3.7/dist-packages (from scikit-learn==0.22->nlp-id) (1.4.1)\n",
            "Requirement already satisfied: numpy>=1.11.0 in /usr/local/lib/python3.7/dist-packages (from scikit-learn==0.22->nlp-id) (1.21.6)\n"
          ]
        }
      ],
      "source": [
        "import matplotlib.pyplot as plt\n",
        "import pandas as pd\n",
        "import seaborn as sns\n",
        "import re #5\n",
        "import numpy as np\n",
        "import nltk\n",
        "nltk.download(\"popular\")\n",
        "from nltk.corpus import stopwords\n",
        "!pip install Sastrawi\n",
        "from Sastrawi.Stemmer.StemmerFactory import StemmerFactory\n",
        "from sklearn.feature_extraction.text import TfidfVectorizer,CountVectorizer\n",
        "from gensim import corpora\n",
        "from gensim import models\n",
        "from sklearn.decomposition import LatentDirichletAllocation\n",
        "!pip install nlp-id"
      ]
    },
    {
      "cell_type": "markdown",
      "metadata": {
        "id": "nZw8e_FbRVHy"
      },
      "source": [
        "# Init Data"
      ]
    },
    {
      "cell_type": "markdown",
      "metadata": {
        "id": "7V1UQ4Uqcwa3"
      },
      "source": [
        "Section ini bertujuan untuk mengambil dataset"
      ]
    },
    {
      "cell_type": "code",
      "execution_count": null,
      "metadata": {
        "id": "7aQNYaxgRGRF"
      },
      "outputs": [],
      "source": [
        "# old\n",
        "#https://docs.google.com/spreadsheets/d/1tGJvXQNtf_YiRBj3BVcmkkywNuFdIVljeZsXBsghoi4/edit?usp=sharing\n",
        "\n",
        "# new\n",
        "# https://docs.google.com/spreadsheets/d/1fzDu9lrPNwhNff_JMseb05UJGprn0BGPKD3Y82nqLms/edit?usp=sharing\n",
        "from io import BytesIO\n",
        "\n",
        "import requests\n",
        "import pandas as pd\n",
        "\n",
        "# r = requests.get('https://docs.google.com/spreadsheet/ccc?key=1tGJvXQNtf_YiRBj3BVcmkkywNuFdIVljeZsXBsghoi4&output=xlsx')\n",
        "#r = requests.get('https://docs.google.com/spreadsheet/ccc?key=1fzDu9lrPNwhNff_JMseb05UJGprn0BGPKD3Y82nqLms&output=xlsx')\n",
        "#input satu data\n",
        "#r = requests.get('https://docs.google.com/spreadsheets/d/1uGUfHg9OrEgVGUddWQ68lXVat-Pt3mLqduWy36HZJJM/export')\n",
        "#input dua data\n",
        "#r = requests.get('https://docs.google.com/spreadsheets/d/1UWjjKNByxQWiw-1TW8wLupbclGDCcQMHJjQbMYzo26I/export?format=xlsx')\n",
        "#input tiga data\n",
        "#r = requests.get('https://docs.google.com/spreadsheets/d/1vGhJ__OHYsRFKqeJt9ceO3CFGCBG8PItfQ9Q-p-gjlY/export?format=xlsx')\n",
        "#input 300 data\n",
        "#r = requests.get('https://docs.google.com/spreadsheets/d/10qxK8VzXq8MzwjO3z64a0F60B0fL_IhheGjaHXrb7O0/export?format=xlsx')\n",
        "#input data MODIF1\n",
        "r = requests.get('https://docs.google.com/spreadsheets/d/1PBpiuWTGI4cgejGEzH2u1R9LMO4-EkoGdYUCfKCJlqw/export?format=xlsx')\n",
        "#input data MODIF CAMPUR\n",
        "#r = requests.get('https://docs.google.com/spreadsheets/d/1kWQzO7gEs_QBfZtVG-C44ITyzHO7E0gGrlQcKIie0w8/export?format=xlsx')\n",
        "data = r.content\n",
        "dataset = pd.read_excel(data, 'Sheet1', dtype=str, index_col=None)"
      ]
    },
    {
      "cell_type": "code",
      "execution_count": null,
      "metadata": {
        "colab": {
          "base_uri": "https://localhost:8080/"
        },
        "id": "Pt6Indi_W4D8",
        "outputId": "c716d322-0599-47c0-bcee-94e7d93bd889"
      },
      "outputs": [
        {
          "output_type": "stream",
          "name": "stdout",
          "text": [
            "Drive already mounted at /content/drive; to attempt to forcibly remount, call drive.mount(\"/content/drive\", force_remount=True).\n"
          ]
        }
      ],
      "source": [
        "from google.colab import drive\n",
        "drive.mount('/content/drive')"
      ]
    },
    {
      "cell_type": "code",
      "execution_count": null,
      "metadata": {
        "colab": {
          "base_uri": "https://localhost:8080/",
          "height": 727
        },
        "id": "g8f-DO2e_LCE",
        "outputId": "c631f301-1238-4653-b49d-72e1a6a65494"
      },
      "outputs": [
        {
          "output_type": "execute_result",
          "data": {
            "text/plain": [
              "      no                                              title  \\\n",
              "0    0.0  Mual disertai pusing dan mencret setelah makan...   \n",
              "1    1.0  Mual disertai pusing dan mencret setelah makan...   \n",
              "2    2.0  Mual disertai pusing dan mencret setelah makan...   \n",
              "3    3.0  Mual disertai pusing dan mencret setelah makan...   \n",
              "4    4.0  Mual disertai pusing dan mencret setelah makan...   \n",
              "5    5.0  Mual disertai pusing dan mencret setelah makan...   \n",
              "6    6.0  Mual disertai pusing dan mencret setelah makan...   \n",
              "7    7.0  Mual disertai pusing dan mencret setelah makan...   \n",
              "8    8.0  Mual disertai pusing dan mencret setelah makan...   \n",
              "9    9.0  Mual disertai pusing dan mencret setelah makan...   \n",
              "10  10.0  Mual disertai pusing dan mencret setelah makan...   \n",
              "11  11.0  Mual disertai pusing dan mencret setelah makan...   \n",
              "12  12.0  Mual disertai pusing dan mencret setelah makan...   \n",
              "\n",
              "                                             question  \\\n",
              "0   halo dok selamat malam, kemarin jam 18.15 saya...   \n",
              "1   halo dok selamat malam, kemarin jam 18.15 saya...   \n",
              "2   halo dok selamat malam, kemarin jam 18.15 saya...   \n",
              "3   halo dok selamat malam, kemarin jam 18.15 saya...   \n",
              "4   halo dok selamat malam, kemarin jam 18.15 saya...   \n",
              "5   halo dok selamat malam, kemarin jam 18.15 saya...   \n",
              "6   halo dok selamat malam, kemarin jam 18.15 saya...   \n",
              "7   halo dok selamat malam, kemarin jam 18.15 saya...   \n",
              "8   halo dok selamat malam, kemarin jam 18.15 saya...   \n",
              "9   halo dok selamat malam, kemarin jam 18.15 saya...   \n",
              "10  halo dok selamat malam, kemarin jam 18.15 saya...   \n",
              "11  halo dok selamat malam, kemarin jam 18.15 saya...   \n",
              "12  halo dok selamat malam, kemarin jam 18.15 saya...   \n",
              "\n",
              "                                               answer            topic_set  \\\n",
              "0        Halo yayan, Terima kasih atas pertanyaannya.  gangguan-pencernaan   \n",
              "1   Berdasarkan riwayat keluhan istri Anda yang su...  gangguan-pencernaan   \n",
              "2   Gejala muntah dan diare pada dasarnya merupaka...  gangguan-pencernaan   \n",
              "3   Kondisi ini dapat membaik dengan sendirinya da...  gangguan-pencernaan   \n",
              "4   Pantau terus gejala yang muncul, kembalikan ca...  gangguan-pencernaan   \n",
              "5   Selain itu, berikut anjuran yang dapat dilakuk...  gangguan-pencernaan   \n",
              "6   Minum air, sup, atau minuman elektrolit untuk ...  gangguan-pencernaan   \n",
              "7   Ketika makan nanti, makan sedikit - sedikit de...  gangguan-pencernaan   \n",
              "8                               Istirahat yang cukup.  gangguan-pencernaan   \n",
              "9   Menghindari susu dan produk susu, kopi, minuma...  gangguan-pencernaan   \n",
              "10  Apabila gejala tidak membaik dalam waktu 3-5 h...  gangguan-pencernaan   \n",
              "11  Semoga informasi ini dapat membantu dan semoga...  gangguan-pencernaan   \n",
              "12                                             Salam.  gangguan-pencernaan   \n",
              "\n",
              "                                       answer_labeled             labeled  \n",
              "0   Alo yayan, Terima kasih atas pertanyaannya. [F...   F1 F3 F4 F3 F5 F1  \n",
              "1   Alo yayan, Terima kasih atas pertanyaannya. [F...   F1 F3 F4 F3 F5 F2  \n",
              "2   Alo yayan, Terima kasih atas pertanyaannya. [F...   F1 F3 F4 F3 F5 F3  \n",
              "3   Alo yayan, Terima kasih atas pertanyaannya. [F...   F1 F3 F4 F3 F5 F4  \n",
              "4   Alo yayan, Terima kasih atas pertanyaannya. [F...   F1 F3 F4 F3 F5 F5  \n",
              "5   Alo yayan, Terima kasih atas pertanyaannya. [F...   F1 F3 F4 F3 F5 F6  \n",
              "6   Alo yayan, Terima kasih atas pertanyaannya. [F...   F1 F3 F4 F3 F5 F7  \n",
              "7   Alo yayan, Terima kasih atas pertanyaannya. [F...   F1 F3 F4 F3 F5 F8  \n",
              "8   Alo yayan, Terima kasih atas pertanyaannya. [F...   F1 F3 F4 F3 F5 F9  \n",
              "9   Alo yayan, Terima kasih atas pertanyaannya. [F...  F1 F3 F4 F3 F5 F10  \n",
              "10  Alo yayan, Terima kasih atas pertanyaannya. [F...  F1 F3 F4 F3 F5 F11  \n",
              "11  Alo yayan, Terima kasih atas pertanyaannya. [F...  F1 F3 F4 F3 F5 F12  \n",
              "12  Alo yayan, Terima kasih atas pertanyaannya. [F...  F1 F3 F4 F3 F5 F13  "
            ],
            "text/html": [
              "\n",
              "  <div id=\"df-971b80bf-fdd5-4f0a-9d1d-3fe07665ed32\">\n",
              "    <div class=\"colab-df-container\">\n",
              "      <div>\n",
              "<style scoped>\n",
              "    .dataframe tbody tr th:only-of-type {\n",
              "        vertical-align: middle;\n",
              "    }\n",
              "\n",
              "    .dataframe tbody tr th {\n",
              "        vertical-align: top;\n",
              "    }\n",
              "\n",
              "    .dataframe thead th {\n",
              "        text-align: right;\n",
              "    }\n",
              "</style>\n",
              "<table border=\"1\" class=\"dataframe\">\n",
              "  <thead>\n",
              "    <tr style=\"text-align: right;\">\n",
              "      <th></th>\n",
              "      <th>no</th>\n",
              "      <th>title</th>\n",
              "      <th>question</th>\n",
              "      <th>answer</th>\n",
              "      <th>topic_set</th>\n",
              "      <th>answer_labeled</th>\n",
              "      <th>labeled</th>\n",
              "    </tr>\n",
              "  </thead>\n",
              "  <tbody>\n",
              "    <tr>\n",
              "      <th>0</th>\n",
              "      <td>0.0</td>\n",
              "      <td>Mual disertai pusing dan mencret setelah makan...</td>\n",
              "      <td>halo dok selamat malam, kemarin jam 18.15 saya...</td>\n",
              "      <td>Halo yayan, Terima kasih atas pertanyaannya.</td>\n",
              "      <td>gangguan-pencernaan</td>\n",
              "      <td>Alo yayan, Terima kasih atas pertanyaannya. [F...</td>\n",
              "      <td>F1 F3 F4 F3 F5 F1</td>\n",
              "    </tr>\n",
              "    <tr>\n",
              "      <th>1</th>\n",
              "      <td>1.0</td>\n",
              "      <td>Mual disertai pusing dan mencret setelah makan...</td>\n",
              "      <td>halo dok selamat malam, kemarin jam 18.15 saya...</td>\n",
              "      <td>Berdasarkan riwayat keluhan istri Anda yang su...</td>\n",
              "      <td>gangguan-pencernaan</td>\n",
              "      <td>Alo yayan, Terima kasih atas pertanyaannya. [F...</td>\n",
              "      <td>F1 F3 F4 F3 F5 F2</td>\n",
              "    </tr>\n",
              "    <tr>\n",
              "      <th>2</th>\n",
              "      <td>2.0</td>\n",
              "      <td>Mual disertai pusing dan mencret setelah makan...</td>\n",
              "      <td>halo dok selamat malam, kemarin jam 18.15 saya...</td>\n",
              "      <td>Gejala muntah dan diare pada dasarnya merupaka...</td>\n",
              "      <td>gangguan-pencernaan</td>\n",
              "      <td>Alo yayan, Terima kasih atas pertanyaannya. [F...</td>\n",
              "      <td>F1 F3 F4 F3 F5 F3</td>\n",
              "    </tr>\n",
              "    <tr>\n",
              "      <th>3</th>\n",
              "      <td>3.0</td>\n",
              "      <td>Mual disertai pusing dan mencret setelah makan...</td>\n",
              "      <td>halo dok selamat malam, kemarin jam 18.15 saya...</td>\n",
              "      <td>Kondisi ini dapat membaik dengan sendirinya da...</td>\n",
              "      <td>gangguan-pencernaan</td>\n",
              "      <td>Alo yayan, Terima kasih atas pertanyaannya. [F...</td>\n",
              "      <td>F1 F3 F4 F3 F5 F4</td>\n",
              "    </tr>\n",
              "    <tr>\n",
              "      <th>4</th>\n",
              "      <td>4.0</td>\n",
              "      <td>Mual disertai pusing dan mencret setelah makan...</td>\n",
              "      <td>halo dok selamat malam, kemarin jam 18.15 saya...</td>\n",
              "      <td>Pantau terus gejala yang muncul, kembalikan ca...</td>\n",
              "      <td>gangguan-pencernaan</td>\n",
              "      <td>Alo yayan, Terima kasih atas pertanyaannya. [F...</td>\n",
              "      <td>F1 F3 F4 F3 F5 F5</td>\n",
              "    </tr>\n",
              "    <tr>\n",
              "      <th>5</th>\n",
              "      <td>5.0</td>\n",
              "      <td>Mual disertai pusing dan mencret setelah makan...</td>\n",
              "      <td>halo dok selamat malam, kemarin jam 18.15 saya...</td>\n",
              "      <td>Selain itu, berikut anjuran yang dapat dilakuk...</td>\n",
              "      <td>gangguan-pencernaan</td>\n",
              "      <td>Alo yayan, Terima kasih atas pertanyaannya. [F...</td>\n",
              "      <td>F1 F3 F4 F3 F5 F6</td>\n",
              "    </tr>\n",
              "    <tr>\n",
              "      <th>6</th>\n",
              "      <td>6.0</td>\n",
              "      <td>Mual disertai pusing dan mencret setelah makan...</td>\n",
              "      <td>halo dok selamat malam, kemarin jam 18.15 saya...</td>\n",
              "      <td>Minum air, sup, atau minuman elektrolit untuk ...</td>\n",
              "      <td>gangguan-pencernaan</td>\n",
              "      <td>Alo yayan, Terima kasih atas pertanyaannya. [F...</td>\n",
              "      <td>F1 F3 F4 F3 F5 F7</td>\n",
              "    </tr>\n",
              "    <tr>\n",
              "      <th>7</th>\n",
              "      <td>7.0</td>\n",
              "      <td>Mual disertai pusing dan mencret setelah makan...</td>\n",
              "      <td>halo dok selamat malam, kemarin jam 18.15 saya...</td>\n",
              "      <td>Ketika makan nanti, makan sedikit - sedikit de...</td>\n",
              "      <td>gangguan-pencernaan</td>\n",
              "      <td>Alo yayan, Terima kasih atas pertanyaannya. [F...</td>\n",
              "      <td>F1 F3 F4 F3 F5 F8</td>\n",
              "    </tr>\n",
              "    <tr>\n",
              "      <th>8</th>\n",
              "      <td>8.0</td>\n",
              "      <td>Mual disertai pusing dan mencret setelah makan...</td>\n",
              "      <td>halo dok selamat malam, kemarin jam 18.15 saya...</td>\n",
              "      <td>Istirahat yang cukup.</td>\n",
              "      <td>gangguan-pencernaan</td>\n",
              "      <td>Alo yayan, Terima kasih atas pertanyaannya. [F...</td>\n",
              "      <td>F1 F3 F4 F3 F5 F9</td>\n",
              "    </tr>\n",
              "    <tr>\n",
              "      <th>9</th>\n",
              "      <td>9.0</td>\n",
              "      <td>Mual disertai pusing dan mencret setelah makan...</td>\n",
              "      <td>halo dok selamat malam, kemarin jam 18.15 saya...</td>\n",
              "      <td>Menghindari susu dan produk susu, kopi, minuma...</td>\n",
              "      <td>gangguan-pencernaan</td>\n",
              "      <td>Alo yayan, Terima kasih atas pertanyaannya. [F...</td>\n",
              "      <td>F1 F3 F4 F3 F5 F10</td>\n",
              "    </tr>\n",
              "    <tr>\n",
              "      <th>10</th>\n",
              "      <td>10.0</td>\n",
              "      <td>Mual disertai pusing dan mencret setelah makan...</td>\n",
              "      <td>halo dok selamat malam, kemarin jam 18.15 saya...</td>\n",
              "      <td>Apabila gejala tidak membaik dalam waktu 3-5 h...</td>\n",
              "      <td>gangguan-pencernaan</td>\n",
              "      <td>Alo yayan, Terima kasih atas pertanyaannya. [F...</td>\n",
              "      <td>F1 F3 F4 F3 F5 F11</td>\n",
              "    </tr>\n",
              "    <tr>\n",
              "      <th>11</th>\n",
              "      <td>11.0</td>\n",
              "      <td>Mual disertai pusing dan mencret setelah makan...</td>\n",
              "      <td>halo dok selamat malam, kemarin jam 18.15 saya...</td>\n",
              "      <td>Semoga informasi ini dapat membantu dan semoga...</td>\n",
              "      <td>gangguan-pencernaan</td>\n",
              "      <td>Alo yayan, Terima kasih atas pertanyaannya. [F...</td>\n",
              "      <td>F1 F3 F4 F3 F5 F12</td>\n",
              "    </tr>\n",
              "    <tr>\n",
              "      <th>12</th>\n",
              "      <td>12.0</td>\n",
              "      <td>Mual disertai pusing dan mencret setelah makan...</td>\n",
              "      <td>halo dok selamat malam, kemarin jam 18.15 saya...</td>\n",
              "      <td>Salam.</td>\n",
              "      <td>gangguan-pencernaan</td>\n",
              "      <td>Alo yayan, Terima kasih atas pertanyaannya. [F...</td>\n",
              "      <td>F1 F3 F4 F3 F5 F13</td>\n",
              "    </tr>\n",
              "  </tbody>\n",
              "</table>\n",
              "</div>\n",
              "      <button class=\"colab-df-convert\" onclick=\"convertToInteractive('df-971b80bf-fdd5-4f0a-9d1d-3fe07665ed32')\"\n",
              "              title=\"Convert this dataframe to an interactive table.\"\n",
              "              style=\"display:none;\">\n",
              "        \n",
              "  <svg xmlns=\"http://www.w3.org/2000/svg\" height=\"24px\"viewBox=\"0 0 24 24\"\n",
              "       width=\"24px\">\n",
              "    <path d=\"M0 0h24v24H0V0z\" fill=\"none\"/>\n",
              "    <path d=\"M18.56 5.44l.94 2.06.94-2.06 2.06-.94-2.06-.94-.94-2.06-.94 2.06-2.06.94zm-11 1L8.5 8.5l.94-2.06 2.06-.94-2.06-.94L8.5 2.5l-.94 2.06-2.06.94zm10 10l.94 2.06.94-2.06 2.06-.94-2.06-.94-.94-2.06-.94 2.06-2.06.94z\"/><path d=\"M17.41 7.96l-1.37-1.37c-.4-.4-.92-.59-1.43-.59-.52 0-1.04.2-1.43.59L10.3 9.45l-7.72 7.72c-.78.78-.78 2.05 0 2.83L4 21.41c.39.39.9.59 1.41.59.51 0 1.02-.2 1.41-.59l7.78-7.78 2.81-2.81c.8-.78.8-2.07 0-2.86zM5.41 20L4 18.59l7.72-7.72 1.47 1.35L5.41 20z\"/>\n",
              "  </svg>\n",
              "      </button>\n",
              "      \n",
              "  <style>\n",
              "    .colab-df-container {\n",
              "      display:flex;\n",
              "      flex-wrap:wrap;\n",
              "      gap: 12px;\n",
              "    }\n",
              "\n",
              "    .colab-df-convert {\n",
              "      background-color: #E8F0FE;\n",
              "      border: none;\n",
              "      border-radius: 50%;\n",
              "      cursor: pointer;\n",
              "      display: none;\n",
              "      fill: #1967D2;\n",
              "      height: 32px;\n",
              "      padding: 0 0 0 0;\n",
              "      width: 32px;\n",
              "    }\n",
              "\n",
              "    .colab-df-convert:hover {\n",
              "      background-color: #E2EBFA;\n",
              "      box-shadow: 0px 1px 2px rgba(60, 64, 67, 0.3), 0px 1px 3px 1px rgba(60, 64, 67, 0.15);\n",
              "      fill: #174EA6;\n",
              "    }\n",
              "\n",
              "    [theme=dark] .colab-df-convert {\n",
              "      background-color: #3B4455;\n",
              "      fill: #D2E3FC;\n",
              "    }\n",
              "\n",
              "    [theme=dark] .colab-df-convert:hover {\n",
              "      background-color: #434B5C;\n",
              "      box-shadow: 0px 1px 3px 1px rgba(0, 0, 0, 0.15);\n",
              "      filter: drop-shadow(0px 1px 2px rgba(0, 0, 0, 0.3));\n",
              "      fill: #FFFFFF;\n",
              "    }\n",
              "  </style>\n",
              "\n",
              "      <script>\n",
              "        const buttonEl =\n",
              "          document.querySelector('#df-971b80bf-fdd5-4f0a-9d1d-3fe07665ed32 button.colab-df-convert');\n",
              "        buttonEl.style.display =\n",
              "          google.colab.kernel.accessAllowed ? 'block' : 'none';\n",
              "\n",
              "        async function convertToInteractive(key) {\n",
              "          const element = document.querySelector('#df-971b80bf-fdd5-4f0a-9d1d-3fe07665ed32');\n",
              "          const dataTable =\n",
              "            await google.colab.kernel.invokeFunction('convertToInteractive',\n",
              "                                                     [key], {});\n",
              "          if (!dataTable) return;\n",
              "\n",
              "          const docLinkHtml = 'Like what you see? Visit the ' +\n",
              "            '<a target=\"_blank\" href=https://colab.research.google.com/notebooks/data_table.ipynb>data table notebook</a>'\n",
              "            + ' to learn more about interactive tables.';\n",
              "          element.innerHTML = '';\n",
              "          dataTable['output_type'] = 'display_data';\n",
              "          await google.colab.output.renderOutput(dataTable, element);\n",
              "          const docLink = document.createElement('div');\n",
              "          docLink.innerHTML = docLinkHtml;\n",
              "          element.appendChild(docLink);\n",
              "        }\n",
              "      </script>\n",
              "    </div>\n",
              "  </div>\n",
              "  "
            ]
          },
          "metadata": {},
          "execution_count": 42
        }
      ],
      "source": [
        "dataset "
      ]
    },
    {
      "cell_type": "markdown",
      "metadata": {
        "id": "EmBHEUCczmvY"
      },
      "source": [
        "# Input Data dan PreProcessing dengan txt : Uji Cobaku 1"
      ]
    },
    {
      "cell_type": "code",
      "execution_count": null,
      "metadata": {
        "id": "BdoEC9PCrpwi"
      },
      "outputs": [],
      "source": [
        "#dataset['answer'][0].split('.')"
      ]
    },
    {
      "cell_type": "code",
      "execution_count": null,
      "metadata": {
        "colab": {
          "base_uri": "https://localhost:8080/"
        },
        "id": "vtFm7HFlrdRR",
        "outputId": "263a0d67-6a20-4a64-ccaa-a839134c6092"
      },
      "outputs": [
        {
          "output_type": "stream",
          "name": "stdout",
          "text": [
            "There are 14 sentences\n",
            "Halo yayan, Terima kasih atas pertanyaannya. \n",
            "Berdasarkan riwayat keluhan istri Anda yang sudah Anda sampaikan, yaitu muntah - muntah dan diare lebih dari 5-10x,  terdapat kemungkinan kondisi yang dialami oleh istri Anda, salah satunya adalah keracunan makanan, infeksi saluran cerna, adanya malapsorbsi / intoleransi makanan yang ditandai dengan gejala - gejala yang Anda sebutkan tersebut. \n",
            "Gejala muntah dan diare pada dasarnya merupakan respon tubuh yang wajar sebagaimana tubuh berusaha mengeluarkan toksin / racun dari makanan / minuman yang terkontaminasi yang dikonsumsi sebelumnya. \n",
            "Kondisi ini dapat membaik dengan sendirinya dalam hitungan beberapa hari tanpa perlu pengobatan khusus dari dokter. \n",
            "Pantau terus gejala yang muncul, kembalikan cairan tubuh yang keluar, dan monitor tanda - tanda  dehidrasi seperti lemas, mata cowong, tidak buang air kecil lebih dari 6 jam atau urin berwarna pekat, mulut kering dan rasa sangat haus, dan adanya tanda - tanda  kebingungan. \n",
            "Selain itu, berikut anjuran yang dapat dilakukan untuk mengurangi keluhan: Menghindari makan terlebih dahulu selama beberapa jam. \n",
            "Minum air, sup, atau minuman elektrolit untuk membantu mengembalikan cairan yang keluar dari tubuh istri Anda. \n",
            "Ketika makan nanti, makan sedikit - sedikit dengan makanan yang tawar seperti roti - rotian, nasi / bubur, biskuit. \n",
            "Istirahat yang cukup. \n",
            "Menghindari susu dan produk susu, kopi, minuman bersoda, dan makanan asam / pedas / berlemak terlebih dahulu. \n",
            "Apabila gejala tidak membaik dalam waktu 3-5 hari, masih terus muntah atau diare dan terdapat darah di dalamnya, demam, lemas, langsung hubungi petugas fasilitas layanan kesehatan terdekat. \n",
            "Semoga informasi ini dapat membantu dan semoga lekas sembuh. \n",
            "Salam.\n"
          ]
        }
      ],
      "source": [
        "#Nyoba Program\n",
        "from pathlib import Path\n",
        "filepath = Path(\"/content/drive/MyDrive/Data1.txt\")\n",
        "original_text = filepath.read_text().split(\".\")\n",
        "print(f\"There are {len(original_text)} sentences\")\n",
        "f = open(filepath,\"r\")\n",
        "kalimat = f.read()\n",
        "print(kalimat)"
      ]
    },
    {
      "cell_type": "code",
      "execution_count": null,
      "metadata": {
        "colab": {
          "base_uri": "https://localhost:8080/"
        },
        "id": "ao3k7jMdxCSz",
        "outputId": "5a42b93f-3e24-4bec-a672-bf2e2d1efa89"
      },
      "outputs": [
        {
          "output_type": "stream",
          "name": "stdout",
          "text": [
            "halo yayan, terima kasih atas pertanyaannya. \n",
            "berdasarkan riwayat keluhan istri anda yang sudah anda sampaikan, yaitu muntah - muntah dan diare lebih dari 5-10x,  terdapat kemungkinan kondisi yang dialami oleh istri anda, salah satunya adalah keracunan makanan, infeksi saluran cerna, adanya malapsorbsi / intoleransi makanan yang ditandai dengan gejala - gejala yang anda sebutkan tersebut. \n",
            "gejala muntah dan diare pada dasarnya merupakan respon tubuh yang wajar sebagaimana tubuh berusaha mengeluarkan toksin / racun dari makanan / minuman yang terkontaminasi yang dikonsumsi sebelumnya. \n",
            "kondisi ini dapat membaik dengan sendirinya dalam hitungan beberapa hari tanpa perlu pengobatan khusus dari dokter. \n",
            "pantau terus gejala yang muncul, kembalikan cairan tubuh yang keluar, dan monitor tanda - tanda  dehidrasi seperti lemas, mata cowong, tidak buang air kecil lebih dari 6 jam atau urin berwarna pekat, mulut kering dan rasa sangat haus, dan adanya tanda - tanda  kebingungan. \n",
            "selain itu, berikut anjuran yang dapat dilakukan untuk mengurangi keluhan: menghindari makan terlebih dahulu selama beberapa jam. \n",
            "minum air, sup, atau minuman elektrolit untuk membantu mengembalikan cairan yang keluar dari tubuh istri anda. \n",
            "ketika makan nanti, makan sedikit - sedikit dengan makanan yang tawar seperti roti - rotian, nasi / bubur, biskuit. \n",
            "istirahat yang cukup. \n",
            "menghindari susu dan produk susu, kopi, minuman bersoda, dan makanan asam / pedas / berlemak terlebih dahulu. \n",
            "apabila gejala tidak membaik dalam waktu 3-5 hari, masih terus muntah atau diare dan terdapat darah di dalamnya, demam, lemas, langsung hubungi petugas fasilitas layanan kesehatan terdekat. \n",
            "semoga informasi ini dapat membantu dan semoga lekas sembuh. \n",
            "salam.\n"
          ]
        }
      ],
      "source": [
        "#Case Folding\n",
        "kalimat=kalimat.lower()\n",
        "print(kalimat)"
      ]
    },
    {
      "cell_type": "code",
      "execution_count": null,
      "metadata": {
        "colab": {
          "base_uri": "https://localhost:8080/"
        },
        "id": "Dbd-QqTKztow",
        "outputId": "e07e6e94-8fb4-428a-bcc2-502cd6fbc57f"
      },
      "outputs": [
        {
          "output_type": "stream",
          "name": "stdout",
          "text": [
            "halo yayan terima kasih atas pertanyaannya \n",
            "berdasarkan riwayat keluhan istri anda yang sudah anda sampaikan yaitu muntah  muntah dan diare lebih dari x  terdapat kemungkinan kondisi yang dialami oleh istri anda salah satunya adalah keracunan makanan infeksi saluran cerna adanya malapsorbsi  intoleransi makanan yang ditandai dengan gejala  gejala yang anda sebutkan tersebut \n",
            "gejala muntah dan diare pada dasarnya merupakan respon tubuh yang wajar sebagaimana tubuh berusaha mengeluarkan toksin  racun dari makanan  minuman yang terkontaminasi yang dikonsumsi sebelumnya \n",
            "kondisi ini dapat membaik dengan sendirinya dalam hitungan beberapa hari tanpa perlu pengobatan khusus dari dokter \n",
            "pantau terus gejala yang muncul kembalikan cairan tubuh yang keluar dan monitor tanda  tanda  dehidrasi seperti lemas mata cowong tidak buang air kecil lebih dari  jam atau urin berwarna pekat mulut kering dan rasa sangat haus dan adanya tanda  tanda  kebingungan \n",
            "selain itu berikut anjuran yang dapat dilakukan untuk mengurangi keluhan menghindari makan terlebih dahulu selama beberapa jam \n",
            "minum air sup atau minuman elektrolit untuk membantu mengembalikan cairan yang keluar dari tubuh istri anda \n",
            "ketika makan nanti makan sedikit  sedikit dengan makanan yang tawar seperti roti  rotian nasi  bubur biskuit \n",
            "istirahat yang cukup \n",
            "menghindari susu dan produk susu kopi minuman bersoda dan makanan asam  pedas  berlemak terlebih dahulu \n",
            "apabila gejala tidak membaik dalam waktu  hari masih terus muntah atau diare dan terdapat darah di dalamnya demam lemas langsung hubungi petugas fasilitas layanan kesehatan terdekat \n",
            "semoga informasi ini dapat membantu dan semoga lekas sembuh \n",
            "salam\n"
          ]
        }
      ],
      "source": [
        "# remove punctuation, number\n",
        "import re # impor modul regular expression\n",
        "import string\n",
        "\n",
        "#Menghapus angka\n",
        "kalimat = re.sub(r\"\\d+\", \"\", kalimat)\n",
        "\n",
        "#Menghapus tanda baca\n",
        "kalimat = kalimat.translate(str.maketrans(\"\",\"\",string.punctuation))\n",
        "\n",
        "#Menghapus whitepace (karakter kosong)\n",
        "kalimat = kalimat.strip()\n",
        "print(kalimat)"
      ]
    },
    {
      "cell_type": "code",
      "execution_count": null,
      "metadata": {
        "colab": {
          "base_uri": "https://localhost:8080/"
        },
        "id": "wdzMV7xvbhAI",
        "outputId": "765f8bcf-4e5a-47d1-ac5e-e0405227fabc"
      },
      "outputs": [
        {
          "output_type": "stream",
          "name": "stdout",
          "text": [
            "['halo', 'yayan', 'terima', 'kasih', 'pertanyaannya', 'berdasarkan', 'riwayat', 'keluhan', 'istri', 'muntah', 'muntah', 'diare', 'x', 'kondisi', 'dialami', 'istri', 'salah', 'satunya', 'keracunan', 'makanan', 'infeksi', 'saluran', 'cerna', 'malapsorbsi', 'intoleransi', 'makanan', 'ditandai', 'gejala', 'gejala', 'sebutkan', 'gejala', 'muntah', 'diare', 'dasarnya', 'respon', 'tubuh', 'wajar', 'tubuh', 'berusaha', 'mengeluarkan', 'toksin', 'racun', 'makanan', 'minuman', 'terkontaminasi', 'dikonsumsi', 'kondisi', 'membaik', 'hitungan', 'pengobatan', 'khusus', 'dokter', 'pantau', 'gejala', 'muncul', 'kembalikan', 'cairan', 'tubuh', 'monitor', 'tanda', 'tanda', 'dehidrasi', 'lemas', 'mata', 'cowong', 'buang', 'air', 'jam', 'urin', 'berwarna', 'pekat', 'mulut', 'kering', 'haus', 'tanda', 'tanda', 'kebingungan', 'anjuran', 'mengurangi', 'keluhan', 'menghindari', 'makan', 'jam', 'minum', 'air', 'sup', 'minuman', 'elektrolit', 'membantu', 'mengembalikan', 'cairan', 'tubuh', 'istri', 'makan', 'makan', 'makanan', 'tawar', 'roti', 'rotian', 'nasi', 'bubur', 'biskuit', 'istirahat', 'menghindari', 'susu', 'produk', 'susu', 'kopi', 'minuman', 'bersoda', 'makanan', 'asam', 'pedas', 'berlemak', 'gejala', 'membaik', 'muntah', 'diare', 'darah', 'dalamnya', 'demam', 'lemas', 'langsung', 'hubungi', 'petugas', 'fasilitas', 'layanan', 'kesehatan', 'terdekat', 'semoga', 'informasi', 'membantu', 'semoga', 'lekas', 'sembuh', 'salam']\n",
            "halo yayan terima kasih pertanyaannya berdasarkan riwayat keluhan istri muntah muntah diare x kondisi dialami istri salah satunya keracunan makanan infeksi saluran cerna malapsorbsi intoleransi makanan ditandai gejala gejala sebutkan gejala muntah diare dasarnya respon tubuh wajar tubuh berusaha mengeluarkan toksin racun makanan minuman terkontaminasi dikonsumsi kondisi membaik hitungan pengobatan khusus dokter pantau gejala muncul kembalikan cairan tubuh monitor tanda tanda dehidrasi lemas mata cowong buang air jam urin berwarna pekat mulut kering haus tanda tanda kebingungan anjuran mengurangi keluhan menghindari makan jam minum air sup minuman elektrolit membantu mengembalikan cairan tubuh istri makan makan makanan tawar roti rotian nasi bubur biskuit istirahat menghindari susu produk susu kopi minuman bersoda makanan asam pedas berlemak gejala membaik muntah diare darah dalamnya demam lemas langsung hubungi petugas fasilitas layanan kesehatan terdekat semoga informasi membantu semoga lekas sembuh salam \n"
          ]
        }
      ],
      "source": [
        "#Hasil dari filter ini yaitu satu baris jadi jika dimasukkan ke proses segmentasi hasilnya dokumen terlalu sedikit\n",
        "from nltk.tokenize import sent_tokenize, word_tokenize\n",
        "from nltk.corpus import stopwords\n",
        "from nltk.probability import FreqDist\n",
        "\n",
        "kalimat = kalimat.translate(str.maketrans('','',string.punctuation)).lower()\n",
        " \n",
        "tokens = word_tokenize(kalimat)\n",
        "listStopword =  set(stopwords.words('indonesian'))\n",
        " \n",
        "removed = []\n",
        "for t in tokens:\n",
        "    if t not in listStopword:\n",
        "        removed.append(t)\n",
        " \n",
        "print(removed)\n",
        "\n",
        "kal=''\n",
        "for kata in removed:\n",
        "  kal+=kata+' '\n",
        "print(kal)"
      ]
    },
    {
      "cell_type": "code",
      "execution_count": null,
      "metadata": {
        "colab": {
          "base_uri": "https://localhost:8080/"
        },
        "id": "zUVF2TMCdyXl",
        "outputId": "bddb35c7-f3ba-43a3-df01-fba6af34f5b7"
      },
      "outputs": [
        {
          "output_type": "stream",
          "name": "stdout",
          "text": [
            "halo yayan terima kasih tanya dasar riwayat keluh istri muntah muntah diare x kondisi alami istri salah satu racun makan infeksi salur cerna malapsorbsi intoleransi makan tanda gejala gejala sebut gejala muntah diare dasar respon tubuh wajar tubuh usaha keluar toksin racun makan minum kontaminasi konsumsi kondisi baik hitung obat khusus dokter pantau gejala muncul kembali cair tubuh monitor tanda tanda dehidrasi lemas mata cowong buang air jam urin warna pekat mulut kering haus tanda tanda bingung anjur kurang keluh hindar makan jam minum air sup minum elektrolit bantu kembali cair tubuh istri makan makan makan tawar roti roti nasi bubur biskuit istirahat hindar susu produk susu kopi minum soda makan asam pedas lemak gejala baik muntah diare darah dalam demam lemas langsung hubung tugas fasilitas layan sehat dekat moga informasi bantu moga lekas sembuh salam\n"
          ]
        }
      ],
      "source": [
        "factory = StemmerFactory()\n",
        "stemmer = factory.create_stemmer()\n",
        " \n",
        "hasil = stemmer.stem(kal)\n",
        "print(hasil)"
      ]
    },
    {
      "cell_type": "markdown",
      "metadata": {
        "id": "EXQVyJu6u4lj"
      },
      "source": []
    },
    {
      "cell_type": "markdown",
      "metadata": {
        "id": "cBCqLFiBRhVM"
      },
      "source": [
        "# Preprocessing"
      ]
    },
    {
      "cell_type": "code",
      "execution_count": null,
      "metadata": {
        "id": "7vUwiXqAc091"
      },
      "outputs": [],
      "source": [
        "#Section ini untuk proses Preprocessing"
      ]
    },
    {
      "cell_type": "code",
      "execution_count": null,
      "metadata": {
        "id": "ZGWAFnj8RiuW"
      },
      "outputs": [],
      "source": [
        "# casefolding\n",
        "#from nltk import tokenize\n",
        "#sentences= tokenize.sent_tokenize(dataset['answer'][0].lower())\n",
        "#dataset['req_lower'] = sentences\n",
        "#dataset['req_lower'] = dataset['answer'].str.lower()\n",
        "# casefolding\n",
        "dataset['req_lower']= dataset['answer'].str.lower()"
      ]
    },
    {
      "cell_type": "code",
      "execution_count": null,
      "metadata": {
        "colab": {
          "base_uri": "https://localhost:8080/"
        },
        "id": "_Z8zHGCdRrxU",
        "outputId": "ccc51e7c-6c44-4c39-e94d-8bdeb490de27"
      },
      "outputs": [
        {
          "output_type": "stream",
          "name": "stderr",
          "text": [
            "/usr/local/lib/python3.7/dist-packages/ipykernel_launcher.py:16: FutureWarning: The default value of regex will change from True to False in a future version.\n",
            "  app.launch_new_instance()\n"
          ]
        }
      ],
      "source": [
        "# remove punctuation, number\n",
        "#dataset['req_punct'] = dataset['req_lower'].str.replace(r'[^\\w\\s]+', '')\n",
        "#import numpy as np\n",
        "\n",
        "#sent_punct=[item.replace(r'[^\\w\\s]+', '') for item in sentences]\n",
        "#myarray = np.array(sent_punct)\n",
        "#import re\n",
        "#def rem_number(sentence):\n",
        "  #sentence=str(sentence)\n",
        "  #rem_num = re.sub('[0-9]+', '', sentence)\n",
        "  #return rem_num\n",
        "\n",
        "#dataset['req_punct'] = dataset['req_punct'].apply(rem_number)\n",
        "#sent_punct2=[item.apply(rem_number) for item in sent_punct] \n",
        "# remove punctuation, number\n",
        "dataset['req_punct'] = dataset['req_lower'].str.replace(r'[^\\w\\s]+', '')\n",
        "\n",
        "import re\n",
        "def rem_number(sentence):\n",
        "  sentence=str(sentence)\n",
        "  rem_num = re.sub('[0-9]+', '', sentence)\n",
        "  return rem_num\n",
        "\n",
        "dataset['req_punct'] = dataset['req_punct'].apply(rem_number)"
      ]
    },
    {
      "cell_type": "code",
      "execution_count": null,
      "metadata": {
        "id": "XHisVSgm4uZB"
      },
      "outputs": [],
      "source": [
        "from nlp_id.lemmatizer import Lemmatizer \n",
        "lemmatizer = Lemmatizer() \n",
        "dataset['lemma'] = dataset['req_punct'].apply(lambda x: [lemmatizer.lemmatize(x)])"
      ]
    },
    {
      "cell_type": "code",
      "execution_count": null,
      "metadata": {
        "id": "EMC28MdZ9V2z"
      },
      "outputs": [],
      "source": [
        "def convert_list_to_string(sentence):\n",
        "  str1 = ' '.join(sentence)\n",
        "  return str1\n",
        "\n",
        "dataset['lemma'] = dataset['lemma'].apply(convert_list_to_string)"
      ]
    },
    {
      "cell_type": "code",
      "execution_count": null,
      "metadata": {
        "id": "UU-5j8VWR20H"
      },
      "outputs": [],
      "source": [
        "from nltk.tokenize.treebank import TreebankWordDetokenizer\n",
        "words = stopwords.words(\"indonesian\")\n",
        "dataset['stopwords'] = dataset['lemma'].apply(lambda x: [item for item in x.split() if item not in words])\n",
        "dataset['stopwords']= dataset['stopwords'].apply(lambda x: TreebankWordDetokenizer().detokenize(x))"
      ]
    },
    {
      "cell_type": "code",
      "execution_count": null,
      "metadata": {
        "id": "Wx0KRllQS4sr"
      },
      "outputs": [],
      "source": [
        "dataset['req_stopwords'] = dataset['req_punct'].apply(lambda x: [item for item in x.split()])"
      ]
    },
    {
      "cell_type": "code",
      "execution_count": null,
      "metadata": {
        "colab": {
          "base_uri": "https://localhost:8080/",
          "height": 1000
        },
        "id": "l_jvxF6Y_0IH",
        "outputId": "4a4c124f-6a91-4ac0-8cc6-7dfa75d1ed8e"
      },
      "outputs": [
        {
          "output_type": "execute_result",
          "data": {
            "text/plain": [
              "      no                                              title  \\\n",
              "0    0.0  Mual disertai pusing dan mencret setelah makan...   \n",
              "1    1.0  Mual disertai pusing dan mencret setelah makan...   \n",
              "2    2.0  Mual disertai pusing dan mencret setelah makan...   \n",
              "3    3.0  Mual disertai pusing dan mencret setelah makan...   \n",
              "4    4.0  Mual disertai pusing dan mencret setelah makan...   \n",
              "5    5.0  Mual disertai pusing dan mencret setelah makan...   \n",
              "6    6.0  Mual disertai pusing dan mencret setelah makan...   \n",
              "7    7.0  Mual disertai pusing dan mencret setelah makan...   \n",
              "8    8.0  Mual disertai pusing dan mencret setelah makan...   \n",
              "9    9.0  Mual disertai pusing dan mencret setelah makan...   \n",
              "10  10.0  Mual disertai pusing dan mencret setelah makan...   \n",
              "11  11.0  Mual disertai pusing dan mencret setelah makan...   \n",
              "12  12.0  Mual disertai pusing dan mencret setelah makan...   \n",
              "\n",
              "                                             question  \\\n",
              "0   halo dok selamat malam, kemarin jam 18.15 saya...   \n",
              "1   halo dok selamat malam, kemarin jam 18.15 saya...   \n",
              "2   halo dok selamat malam, kemarin jam 18.15 saya...   \n",
              "3   halo dok selamat malam, kemarin jam 18.15 saya...   \n",
              "4   halo dok selamat malam, kemarin jam 18.15 saya...   \n",
              "5   halo dok selamat malam, kemarin jam 18.15 saya...   \n",
              "6   halo dok selamat malam, kemarin jam 18.15 saya...   \n",
              "7   halo dok selamat malam, kemarin jam 18.15 saya...   \n",
              "8   halo dok selamat malam, kemarin jam 18.15 saya...   \n",
              "9   halo dok selamat malam, kemarin jam 18.15 saya...   \n",
              "10  halo dok selamat malam, kemarin jam 18.15 saya...   \n",
              "11  halo dok selamat malam, kemarin jam 18.15 saya...   \n",
              "12  halo dok selamat malam, kemarin jam 18.15 saya...   \n",
              "\n",
              "                                               answer            topic_set  \\\n",
              "0        Halo yayan, Terima kasih atas pertanyaannya.  gangguan-pencernaan   \n",
              "1   Berdasarkan riwayat keluhan istri Anda yang su...  gangguan-pencernaan   \n",
              "2   Gejala muntah dan diare pada dasarnya merupaka...  gangguan-pencernaan   \n",
              "3   Kondisi ini dapat membaik dengan sendirinya da...  gangguan-pencernaan   \n",
              "4   Pantau terus gejala yang muncul, kembalikan ca...  gangguan-pencernaan   \n",
              "5   Selain itu, berikut anjuran yang dapat dilakuk...  gangguan-pencernaan   \n",
              "6   Minum air, sup, atau minuman elektrolit untuk ...  gangguan-pencernaan   \n",
              "7   Ketika makan nanti, makan sedikit - sedikit de...  gangguan-pencernaan   \n",
              "8                               Istirahat yang cukup.  gangguan-pencernaan   \n",
              "9   Menghindari susu dan produk susu, kopi, minuma...  gangguan-pencernaan   \n",
              "10  Apabila gejala tidak membaik dalam waktu 3-5 h...  gangguan-pencernaan   \n",
              "11  Semoga informasi ini dapat membantu dan semoga...  gangguan-pencernaan   \n",
              "12                                             Salam.  gangguan-pencernaan   \n",
              "\n",
              "                                       answer_labeled             labeled  \\\n",
              "0   Alo yayan, Terima kasih atas pertanyaannya. [F...   F1 F3 F4 F3 F5 F1   \n",
              "1   Alo yayan, Terima kasih atas pertanyaannya. [F...   F1 F3 F4 F3 F5 F2   \n",
              "2   Alo yayan, Terima kasih atas pertanyaannya. [F...   F1 F3 F4 F3 F5 F3   \n",
              "3   Alo yayan, Terima kasih atas pertanyaannya. [F...   F1 F3 F4 F3 F5 F4   \n",
              "4   Alo yayan, Terima kasih atas pertanyaannya. [F...   F1 F3 F4 F3 F5 F5   \n",
              "5   Alo yayan, Terima kasih atas pertanyaannya. [F...   F1 F3 F4 F3 F5 F6   \n",
              "6   Alo yayan, Terima kasih atas pertanyaannya. [F...   F1 F3 F4 F3 F5 F7   \n",
              "7   Alo yayan, Terima kasih atas pertanyaannya. [F...   F1 F3 F4 F3 F5 F8   \n",
              "8   Alo yayan, Terima kasih atas pertanyaannya. [F...   F1 F3 F4 F3 F5 F9   \n",
              "9   Alo yayan, Terima kasih atas pertanyaannya. [F...  F1 F3 F4 F3 F5 F10   \n",
              "10  Alo yayan, Terima kasih atas pertanyaannya. [F...  F1 F3 F4 F3 F5 F11   \n",
              "11  Alo yayan, Terima kasih atas pertanyaannya. [F...  F1 F3 F4 F3 F5 F12   \n",
              "12  Alo yayan, Terima kasih atas pertanyaannya. [F...  F1 F3 F4 F3 F5 F13   \n",
              "\n",
              "                                            req_lower  \\\n",
              "0        halo yayan, terima kasih atas pertanyaannya.   \n",
              "1   berdasarkan riwayat keluhan istri anda yang su...   \n",
              "2   gejala muntah dan diare pada dasarnya merupaka...   \n",
              "3   kondisi ini dapat membaik dengan sendirinya da...   \n",
              "4   pantau terus gejala yang muncul, kembalikan ca...   \n",
              "5   selain itu, berikut anjuran yang dapat dilakuk...   \n",
              "6   minum air, sup, atau minuman elektrolit untuk ...   \n",
              "7   ketika makan nanti, makan sedikit - sedikit de...   \n",
              "8                               istirahat yang cukup.   \n",
              "9   menghindari susu dan produk susu, kopi, minuma...   \n",
              "10  apabila gejala tidak membaik dalam waktu 3-5 h...   \n",
              "11  semoga informasi ini dapat membantu dan semoga...   \n",
              "12                                             salam.   \n",
              "\n",
              "                                            req_punct  \\\n",
              "0          halo yayan terima kasih atas pertanyaannya   \n",
              "1   berdasarkan riwayat keluhan istri anda yang su...   \n",
              "2   gejala muntah dan diare pada dasarnya merupaka...   \n",
              "3   kondisi ini dapat membaik dengan sendirinya da...   \n",
              "4   pantau terus gejala yang muncul kembalikan cai...   \n",
              "5   selain itu berikut anjuran yang dapat dilakuka...   \n",
              "6   minum air sup atau minuman elektrolit untuk me...   \n",
              "7   ketika makan nanti makan sedikit  sedikit deng...   \n",
              "8                                istirahat yang cukup   \n",
              "9   menghindari susu dan produk susu kopi minuman ...   \n",
              "10  apabila gejala tidak membaik dalam waktu  hari...   \n",
              "11  semoga informasi ini dapat membantu dan semoga...   \n",
              "12                                              salam   \n",
              "\n",
              "                                                lemma  \\\n",
              "0                  halo yayan terima kasih atas tanya   \n",
              "1   dasar riwayat keluh istri anda yang sudah anda...   \n",
              "2   gejala muntah dan diare pada dasar rupa respon...   \n",
              "3   kondisi ini dapat baik dengan sendiri dalam hi...   \n",
              "4   pantau terus gejala yang muncul kembali cair t...   \n",
              "5   selain itu ikut anjur yang dapat laku untuk ku...   \n",
              "6   minum air sup atau minum elektrolit untuk bant...   \n",
              "7   ketika makan nanti makan sedikit sedikit denga...   \n",
              "8                                istirahat yang cukup   \n",
              "9   hindar susu dan produk susu kopi minum soda da...   \n",
              "10  apabila gejala tidak baik dalam waktu hari mas...   \n",
              "11  moga informasi ini dapat bantu dan moga lekas ...   \n",
              "12                                              salam   \n",
              "\n",
              "                                            stopwords  \\\n",
              "0                             halo yayan terima kasih   \n",
              "1   dasar riwayat keluh istri muntah muntah diare ...   \n",
              "2   gejala muntah diare dasar rupa respon tubuh wa...   \n",
              "3                   kondisi hitung obat khusus dokter   \n",
              "4   pantau gejala muncul cair tubuh monitor tanda ...   \n",
              "5                   anjur laku keluh hindar makan jam   \n",
              "6   minum air sup minum elektrolit bantu cair tubu...   \n",
              "7   makan makan makan tawar roti roti nasi bubur b...   \n",
              "8                                           istirahat   \n",
              "9   hindar susu produk susu kopi minum soda makan ...   \n",
              "10  gejala muntah diare darah demam lemas langsung...   \n",
              "11             moga informasi bantu moga lekas sembuh   \n",
              "12                                              salam   \n",
              "\n",
              "                                        req_stopwords  \n",
              "0   [halo, yayan, terima, kasih, atas, pertanyaannya]  \n",
              "1   [berdasarkan, riwayat, keluhan, istri, anda, y...  \n",
              "2   [gejala, muntah, dan, diare, pada, dasarnya, m...  \n",
              "3   [kondisi, ini, dapat, membaik, dengan, sendiri...  \n",
              "4   [pantau, terus, gejala, yang, muncul, kembalik...  \n",
              "5   [selain, itu, berikut, anjuran, yang, dapat, d...  \n",
              "6   [minum, air, sup, atau, minuman, elektrolit, u...  \n",
              "7   [ketika, makan, nanti, makan, sedikit, sedikit...  \n",
              "8                            [istirahat, yang, cukup]  \n",
              "9   [menghindari, susu, dan, produk, susu, kopi, m...  \n",
              "10  [apabila, gejala, tidak, membaik, dalam, waktu...  \n",
              "11  [semoga, informasi, ini, dapat, membantu, dan,...  \n",
              "12                                            [salam]  "
            ],
            "text/html": [
              "\n",
              "  <div id=\"df-ee314908-6edb-4625-b18c-1982a3eb0e83\">\n",
              "    <div class=\"colab-df-container\">\n",
              "      <div>\n",
              "<style scoped>\n",
              "    .dataframe tbody tr th:only-of-type {\n",
              "        vertical-align: middle;\n",
              "    }\n",
              "\n",
              "    .dataframe tbody tr th {\n",
              "        vertical-align: top;\n",
              "    }\n",
              "\n",
              "    .dataframe thead th {\n",
              "        text-align: right;\n",
              "    }\n",
              "</style>\n",
              "<table border=\"1\" class=\"dataframe\">\n",
              "  <thead>\n",
              "    <tr style=\"text-align: right;\">\n",
              "      <th></th>\n",
              "      <th>no</th>\n",
              "      <th>title</th>\n",
              "      <th>question</th>\n",
              "      <th>answer</th>\n",
              "      <th>topic_set</th>\n",
              "      <th>answer_labeled</th>\n",
              "      <th>labeled</th>\n",
              "      <th>req_lower</th>\n",
              "      <th>req_punct</th>\n",
              "      <th>lemma</th>\n",
              "      <th>stopwords</th>\n",
              "      <th>req_stopwords</th>\n",
              "    </tr>\n",
              "  </thead>\n",
              "  <tbody>\n",
              "    <tr>\n",
              "      <th>0</th>\n",
              "      <td>0.0</td>\n",
              "      <td>Mual disertai pusing dan mencret setelah makan...</td>\n",
              "      <td>halo dok selamat malam, kemarin jam 18.15 saya...</td>\n",
              "      <td>Halo yayan, Terima kasih atas pertanyaannya.</td>\n",
              "      <td>gangguan-pencernaan</td>\n",
              "      <td>Alo yayan, Terima kasih atas pertanyaannya. [F...</td>\n",
              "      <td>F1 F3 F4 F3 F5 F1</td>\n",
              "      <td>halo yayan, terima kasih atas pertanyaannya.</td>\n",
              "      <td>halo yayan terima kasih atas pertanyaannya</td>\n",
              "      <td>halo yayan terima kasih atas tanya</td>\n",
              "      <td>halo yayan terima kasih</td>\n",
              "      <td>[halo, yayan, terima, kasih, atas, pertanyaannya]</td>\n",
              "    </tr>\n",
              "    <tr>\n",
              "      <th>1</th>\n",
              "      <td>1.0</td>\n",
              "      <td>Mual disertai pusing dan mencret setelah makan...</td>\n",
              "      <td>halo dok selamat malam, kemarin jam 18.15 saya...</td>\n",
              "      <td>Berdasarkan riwayat keluhan istri Anda yang su...</td>\n",
              "      <td>gangguan-pencernaan</td>\n",
              "      <td>Alo yayan, Terima kasih atas pertanyaannya. [F...</td>\n",
              "      <td>F1 F3 F4 F3 F5 F2</td>\n",
              "      <td>berdasarkan riwayat keluhan istri anda yang su...</td>\n",
              "      <td>berdasarkan riwayat keluhan istri anda yang su...</td>\n",
              "      <td>dasar riwayat keluh istri anda yang sudah anda...</td>\n",
              "      <td>dasar riwayat keluh istri muntah muntah diare ...</td>\n",
              "      <td>[berdasarkan, riwayat, keluhan, istri, anda, y...</td>\n",
              "    </tr>\n",
              "    <tr>\n",
              "      <th>2</th>\n",
              "      <td>2.0</td>\n",
              "      <td>Mual disertai pusing dan mencret setelah makan...</td>\n",
              "      <td>halo dok selamat malam, kemarin jam 18.15 saya...</td>\n",
              "      <td>Gejala muntah dan diare pada dasarnya merupaka...</td>\n",
              "      <td>gangguan-pencernaan</td>\n",
              "      <td>Alo yayan, Terima kasih atas pertanyaannya. [F...</td>\n",
              "      <td>F1 F3 F4 F3 F5 F3</td>\n",
              "      <td>gejala muntah dan diare pada dasarnya merupaka...</td>\n",
              "      <td>gejala muntah dan diare pada dasarnya merupaka...</td>\n",
              "      <td>gejala muntah dan diare pada dasar rupa respon...</td>\n",
              "      <td>gejala muntah diare dasar rupa respon tubuh wa...</td>\n",
              "      <td>[gejala, muntah, dan, diare, pada, dasarnya, m...</td>\n",
              "    </tr>\n",
              "    <tr>\n",
              "      <th>3</th>\n",
              "      <td>3.0</td>\n",
              "      <td>Mual disertai pusing dan mencret setelah makan...</td>\n",
              "      <td>halo dok selamat malam, kemarin jam 18.15 saya...</td>\n",
              "      <td>Kondisi ini dapat membaik dengan sendirinya da...</td>\n",
              "      <td>gangguan-pencernaan</td>\n",
              "      <td>Alo yayan, Terima kasih atas pertanyaannya. [F...</td>\n",
              "      <td>F1 F3 F4 F3 F5 F4</td>\n",
              "      <td>kondisi ini dapat membaik dengan sendirinya da...</td>\n",
              "      <td>kondisi ini dapat membaik dengan sendirinya da...</td>\n",
              "      <td>kondisi ini dapat baik dengan sendiri dalam hi...</td>\n",
              "      <td>kondisi hitung obat khusus dokter</td>\n",
              "      <td>[kondisi, ini, dapat, membaik, dengan, sendiri...</td>\n",
              "    </tr>\n",
              "    <tr>\n",
              "      <th>4</th>\n",
              "      <td>4.0</td>\n",
              "      <td>Mual disertai pusing dan mencret setelah makan...</td>\n",
              "      <td>halo dok selamat malam, kemarin jam 18.15 saya...</td>\n",
              "      <td>Pantau terus gejala yang muncul, kembalikan ca...</td>\n",
              "      <td>gangguan-pencernaan</td>\n",
              "      <td>Alo yayan, Terima kasih atas pertanyaannya. [F...</td>\n",
              "      <td>F1 F3 F4 F3 F5 F5</td>\n",
              "      <td>pantau terus gejala yang muncul, kembalikan ca...</td>\n",
              "      <td>pantau terus gejala yang muncul kembalikan cai...</td>\n",
              "      <td>pantau terus gejala yang muncul kembali cair t...</td>\n",
              "      <td>pantau gejala muncul cair tubuh monitor tanda ...</td>\n",
              "      <td>[pantau, terus, gejala, yang, muncul, kembalik...</td>\n",
              "    </tr>\n",
              "    <tr>\n",
              "      <th>5</th>\n",
              "      <td>5.0</td>\n",
              "      <td>Mual disertai pusing dan mencret setelah makan...</td>\n",
              "      <td>halo dok selamat malam, kemarin jam 18.15 saya...</td>\n",
              "      <td>Selain itu, berikut anjuran yang dapat dilakuk...</td>\n",
              "      <td>gangguan-pencernaan</td>\n",
              "      <td>Alo yayan, Terima kasih atas pertanyaannya. [F...</td>\n",
              "      <td>F1 F3 F4 F3 F5 F6</td>\n",
              "      <td>selain itu, berikut anjuran yang dapat dilakuk...</td>\n",
              "      <td>selain itu berikut anjuran yang dapat dilakuka...</td>\n",
              "      <td>selain itu ikut anjur yang dapat laku untuk ku...</td>\n",
              "      <td>anjur laku keluh hindar makan jam</td>\n",
              "      <td>[selain, itu, berikut, anjuran, yang, dapat, d...</td>\n",
              "    </tr>\n",
              "    <tr>\n",
              "      <th>6</th>\n",
              "      <td>6.0</td>\n",
              "      <td>Mual disertai pusing dan mencret setelah makan...</td>\n",
              "      <td>halo dok selamat malam, kemarin jam 18.15 saya...</td>\n",
              "      <td>Minum air, sup, atau minuman elektrolit untuk ...</td>\n",
              "      <td>gangguan-pencernaan</td>\n",
              "      <td>Alo yayan, Terima kasih atas pertanyaannya. [F...</td>\n",
              "      <td>F1 F3 F4 F3 F5 F7</td>\n",
              "      <td>minum air, sup, atau minuman elektrolit untuk ...</td>\n",
              "      <td>minum air sup atau minuman elektrolit untuk me...</td>\n",
              "      <td>minum air sup atau minum elektrolit untuk bant...</td>\n",
              "      <td>minum air sup minum elektrolit bantu cair tubu...</td>\n",
              "      <td>[minum, air, sup, atau, minuman, elektrolit, u...</td>\n",
              "    </tr>\n",
              "    <tr>\n",
              "      <th>7</th>\n",
              "      <td>7.0</td>\n",
              "      <td>Mual disertai pusing dan mencret setelah makan...</td>\n",
              "      <td>halo dok selamat malam, kemarin jam 18.15 saya...</td>\n",
              "      <td>Ketika makan nanti, makan sedikit - sedikit de...</td>\n",
              "      <td>gangguan-pencernaan</td>\n",
              "      <td>Alo yayan, Terima kasih atas pertanyaannya. [F...</td>\n",
              "      <td>F1 F3 F4 F3 F5 F8</td>\n",
              "      <td>ketika makan nanti, makan sedikit - sedikit de...</td>\n",
              "      <td>ketika makan nanti makan sedikit  sedikit deng...</td>\n",
              "      <td>ketika makan nanti makan sedikit sedikit denga...</td>\n",
              "      <td>makan makan makan tawar roti roti nasi bubur b...</td>\n",
              "      <td>[ketika, makan, nanti, makan, sedikit, sedikit...</td>\n",
              "    </tr>\n",
              "    <tr>\n",
              "      <th>8</th>\n",
              "      <td>8.0</td>\n",
              "      <td>Mual disertai pusing dan mencret setelah makan...</td>\n",
              "      <td>halo dok selamat malam, kemarin jam 18.15 saya...</td>\n",
              "      <td>Istirahat yang cukup.</td>\n",
              "      <td>gangguan-pencernaan</td>\n",
              "      <td>Alo yayan, Terima kasih atas pertanyaannya. [F...</td>\n",
              "      <td>F1 F3 F4 F3 F5 F9</td>\n",
              "      <td>istirahat yang cukup.</td>\n",
              "      <td>istirahat yang cukup</td>\n",
              "      <td>istirahat yang cukup</td>\n",
              "      <td>istirahat</td>\n",
              "      <td>[istirahat, yang, cukup]</td>\n",
              "    </tr>\n",
              "    <tr>\n",
              "      <th>9</th>\n",
              "      <td>9.0</td>\n",
              "      <td>Mual disertai pusing dan mencret setelah makan...</td>\n",
              "      <td>halo dok selamat malam, kemarin jam 18.15 saya...</td>\n",
              "      <td>Menghindari susu dan produk susu, kopi, minuma...</td>\n",
              "      <td>gangguan-pencernaan</td>\n",
              "      <td>Alo yayan, Terima kasih atas pertanyaannya. [F...</td>\n",
              "      <td>F1 F3 F4 F3 F5 F10</td>\n",
              "      <td>menghindari susu dan produk susu, kopi, minuma...</td>\n",
              "      <td>menghindari susu dan produk susu kopi minuman ...</td>\n",
              "      <td>hindar susu dan produk susu kopi minum soda da...</td>\n",
              "      <td>hindar susu produk susu kopi minum soda makan ...</td>\n",
              "      <td>[menghindari, susu, dan, produk, susu, kopi, m...</td>\n",
              "    </tr>\n",
              "    <tr>\n",
              "      <th>10</th>\n",
              "      <td>10.0</td>\n",
              "      <td>Mual disertai pusing dan mencret setelah makan...</td>\n",
              "      <td>halo dok selamat malam, kemarin jam 18.15 saya...</td>\n",
              "      <td>Apabila gejala tidak membaik dalam waktu 3-5 h...</td>\n",
              "      <td>gangguan-pencernaan</td>\n",
              "      <td>Alo yayan, Terima kasih atas pertanyaannya. [F...</td>\n",
              "      <td>F1 F3 F4 F3 F5 F11</td>\n",
              "      <td>apabila gejala tidak membaik dalam waktu 3-5 h...</td>\n",
              "      <td>apabila gejala tidak membaik dalam waktu  hari...</td>\n",
              "      <td>apabila gejala tidak baik dalam waktu hari mas...</td>\n",
              "      <td>gejala muntah diare darah demam lemas langsung...</td>\n",
              "      <td>[apabila, gejala, tidak, membaik, dalam, waktu...</td>\n",
              "    </tr>\n",
              "    <tr>\n",
              "      <th>11</th>\n",
              "      <td>11.0</td>\n",
              "      <td>Mual disertai pusing dan mencret setelah makan...</td>\n",
              "      <td>halo dok selamat malam, kemarin jam 18.15 saya...</td>\n",
              "      <td>Semoga informasi ini dapat membantu dan semoga...</td>\n",
              "      <td>gangguan-pencernaan</td>\n",
              "      <td>Alo yayan, Terima kasih atas pertanyaannya. [F...</td>\n",
              "      <td>F1 F3 F4 F3 F5 F12</td>\n",
              "      <td>semoga informasi ini dapat membantu dan semoga...</td>\n",
              "      <td>semoga informasi ini dapat membantu dan semoga...</td>\n",
              "      <td>moga informasi ini dapat bantu dan moga lekas ...</td>\n",
              "      <td>moga informasi bantu moga lekas sembuh</td>\n",
              "      <td>[semoga, informasi, ini, dapat, membantu, dan,...</td>\n",
              "    </tr>\n",
              "    <tr>\n",
              "      <th>12</th>\n",
              "      <td>12.0</td>\n",
              "      <td>Mual disertai pusing dan mencret setelah makan...</td>\n",
              "      <td>halo dok selamat malam, kemarin jam 18.15 saya...</td>\n",
              "      <td>Salam.</td>\n",
              "      <td>gangguan-pencernaan</td>\n",
              "      <td>Alo yayan, Terima kasih atas pertanyaannya. [F...</td>\n",
              "      <td>F1 F3 F4 F3 F5 F13</td>\n",
              "      <td>salam.</td>\n",
              "      <td>salam</td>\n",
              "      <td>salam</td>\n",
              "      <td>salam</td>\n",
              "      <td>[salam]</td>\n",
              "    </tr>\n",
              "  </tbody>\n",
              "</table>\n",
              "</div>\n",
              "      <button class=\"colab-df-convert\" onclick=\"convertToInteractive('df-ee314908-6edb-4625-b18c-1982a3eb0e83')\"\n",
              "              title=\"Convert this dataframe to an interactive table.\"\n",
              "              style=\"display:none;\">\n",
              "        \n",
              "  <svg xmlns=\"http://www.w3.org/2000/svg\" height=\"24px\"viewBox=\"0 0 24 24\"\n",
              "       width=\"24px\">\n",
              "    <path d=\"M0 0h24v24H0V0z\" fill=\"none\"/>\n",
              "    <path d=\"M18.56 5.44l.94 2.06.94-2.06 2.06-.94-2.06-.94-.94-2.06-.94 2.06-2.06.94zm-11 1L8.5 8.5l.94-2.06 2.06-.94-2.06-.94L8.5 2.5l-.94 2.06-2.06.94zm10 10l.94 2.06.94-2.06 2.06-.94-2.06-.94-.94-2.06-.94 2.06-2.06.94z\"/><path d=\"M17.41 7.96l-1.37-1.37c-.4-.4-.92-.59-1.43-.59-.52 0-1.04.2-1.43.59L10.3 9.45l-7.72 7.72c-.78.78-.78 2.05 0 2.83L4 21.41c.39.39.9.59 1.41.59.51 0 1.02-.2 1.41-.59l7.78-7.78 2.81-2.81c.8-.78.8-2.07 0-2.86zM5.41 20L4 18.59l7.72-7.72 1.47 1.35L5.41 20z\"/>\n",
              "  </svg>\n",
              "      </button>\n",
              "      \n",
              "  <style>\n",
              "    .colab-df-container {\n",
              "      display:flex;\n",
              "      flex-wrap:wrap;\n",
              "      gap: 12px;\n",
              "    }\n",
              "\n",
              "    .colab-df-convert {\n",
              "      background-color: #E8F0FE;\n",
              "      border: none;\n",
              "      border-radius: 50%;\n",
              "      cursor: pointer;\n",
              "      display: none;\n",
              "      fill: #1967D2;\n",
              "      height: 32px;\n",
              "      padding: 0 0 0 0;\n",
              "      width: 32px;\n",
              "    }\n",
              "\n",
              "    .colab-df-convert:hover {\n",
              "      background-color: #E2EBFA;\n",
              "      box-shadow: 0px 1px 2px rgba(60, 64, 67, 0.3), 0px 1px 3px 1px rgba(60, 64, 67, 0.15);\n",
              "      fill: #174EA6;\n",
              "    }\n",
              "\n",
              "    [theme=dark] .colab-df-convert {\n",
              "      background-color: #3B4455;\n",
              "      fill: #D2E3FC;\n",
              "    }\n",
              "\n",
              "    [theme=dark] .colab-df-convert:hover {\n",
              "      background-color: #434B5C;\n",
              "      box-shadow: 0px 1px 3px 1px rgba(0, 0, 0, 0.15);\n",
              "      filter: drop-shadow(0px 1px 2px rgba(0, 0, 0, 0.3));\n",
              "      fill: #FFFFFF;\n",
              "    }\n",
              "  </style>\n",
              "\n",
              "      <script>\n",
              "        const buttonEl =\n",
              "          document.querySelector('#df-ee314908-6edb-4625-b18c-1982a3eb0e83 button.colab-df-convert');\n",
              "        buttonEl.style.display =\n",
              "          google.colab.kernel.accessAllowed ? 'block' : 'none';\n",
              "\n",
              "        async function convertToInteractive(key) {\n",
              "          const element = document.querySelector('#df-ee314908-6edb-4625-b18c-1982a3eb0e83');\n",
              "          const dataTable =\n",
              "            await google.colab.kernel.invokeFunction('convertToInteractive',\n",
              "                                                     [key], {});\n",
              "          if (!dataTable) return;\n",
              "\n",
              "          const docLinkHtml = 'Like what you see? Visit the ' +\n",
              "            '<a target=\"_blank\" href=https://colab.research.google.com/notebooks/data_table.ipynb>data table notebook</a>'\n",
              "            + ' to learn more about interactive tables.';\n",
              "          element.innerHTML = '';\n",
              "          dataTable['output_type'] = 'display_data';\n",
              "          await google.colab.output.renderOutput(dataTable, element);\n",
              "          const docLink = document.createElement('div');\n",
              "          docLink.innerHTML = docLinkHtml;\n",
              "          element.appendChild(docLink);\n",
              "        }\n",
              "      </script>\n",
              "    </div>\n",
              "  </div>\n",
              "  "
            ]
          },
          "metadata": {},
          "execution_count": 50
        }
      ],
      "source": [
        "dataset"
      ]
    },
    {
      "cell_type": "markdown",
      "metadata": {
        "id": "P6snuexE9uoc"
      },
      "source": [
        "# LSA GENSIM"
      ]
    },
    {
      "cell_type": "markdown",
      "metadata": {
        "id": "GXWUf7RYTjhk"
      },
      "source": [
        "# TFIDF"
      ]
    },
    {
      "cell_type": "markdown",
      "metadata": {
        "id": "nYHtecKJc7K7"
      },
      "source": [
        "Membuat TF IDF menggunakan dataset yang telah di preprocessing"
      ]
    },
    {
      "cell_type": "code",
      "execution_count": null,
      "metadata": {
        "id": "XzNXUcY2Tk0C"
      },
      "outputs": [],
      "source": [
        "from gensim import corpora\n",
        "dictionary = corpora.Dictionary(dataset['req_stopwords'])\n",
        "corpus = [dictionary.doc2bow(text) for text in dataset['req_stopwords']]"
      ]
    },
    {
      "cell_type": "code",
      "execution_count": null,
      "metadata": {
        "id": "-x_eI7YXU-8f"
      },
      "outputs": [],
      "source": [
        "from gensim import models\n",
        "\n",
        "tfidf = models.TfidfModel(corpus)  # step 1 -- initialize a model"
      ]
    },
    {
      "cell_type": "code",
      "execution_count": null,
      "metadata": {
        "id": "KnbsqVM3VL4h"
      },
      "outputs": [],
      "source": [
        "corpus_tfidf = tfidf[corpus]"
      ]
    },
    {
      "cell_type": "markdown",
      "metadata": {
        "id": "tHabw4irVWdI"
      },
      "source": [
        "## LSA"
      ]
    },
    {
      "cell_type": "markdown",
      "metadata": {
        "id": "M8OdYiqSc_9X"
      },
      "source": [
        "Proses LSA Gensim"
      ]
    },
    {
      "cell_type": "code",
      "execution_count": null,
      "metadata": {
        "id": "dzB3LwXAU_sS"
      },
      "outputs": [],
      "source": [
        "lsi_model = models.LsiModel(corpus_tfidf, id2word=dictionary, num_topics=6)  # initialize an LSI transformation\n",
        "corpus_lsi = lsi_model[corpus_tfidf] "
      ]
    },
    {
      "cell_type": "markdown",
      "metadata": {
        "id": "hAbq1cDhdBqR"
      },
      "source": [
        "Menampilkan 10 kata teratas di setiap topik"
      ]
    },
    {
      "cell_type": "code",
      "execution_count": null,
      "metadata": {
        "colab": {
          "base_uri": "https://localhost:8080/"
        },
        "id": "EWB624p5VO_h",
        "outputId": "1731ad9a-06ca-49da-c6fd-6ab8d934ed4b"
      },
      "outputs": [
        {
          "data": {
            "text/plain": [
              "[(0,\n",
              "  '0.201*\"menstruasi\" + 0.143*\"kehamilan\" + 0.121*\"haid\" + 0.115*\"bayi\" + 0.102*\"obat\" + 0.095*\"hari\" + 0.094*\"siklus\" + 0.092*\"lambung\" + 0.084*\"nyeri\" + 0.084*\"tanda\"'),\n",
              " (1,\n",
              "  '0.298*\"menstruasi\" + -0.251*\"bayi\" + 0.206*\"haid\" + 0.179*\"kehamilan\" + -0.177*\"batuk\" + -0.173*\"lambung\" + -0.156*\"paru\" + 0.148*\"siklus\" + -0.130*\"obat\" + 0.123*\"testpack\"'),\n",
              " (2,\n",
              "  '-0.703*\"bayi\" + -0.201*\"asi\" + -0.190*\"anak\" + 0.168*\"lambung\" + 0.114*\"asam\" + -0.106*\"menyusu\" + 0.093*\"paru\" + 0.091*\"kemih\" + 0.084*\"batuk\" + -0.079*\"beri\"'),\n",
              " (3,\n",
              "  '-0.402*\"kemih\" + -0.218*\"bak\" + 0.218*\"lambung\" + -0.169*\"saluran\" + 0.161*\"asam\" + 0.155*\"batuk\" + -0.150*\"buang\" + -0.135*\"infeksi\" + 0.133*\"haid\" + 0.133*\"paru\"'),\n",
              " (4,\n",
              "  '0.362*\"paru\" + 0.347*\"batuk\" + -0.279*\"lambung\" + 0.185*\"dahak\" + -0.155*\"asam\" + -0.146*\"obat\" + 0.145*\"tuberkulosis\" + 0.133*\"tes\" + 0.126*\"tbc\" + 0.114*\"nafas\"'),\n",
              " (5,\n",
              "  '-0.309*\"kb\" + 0.236*\"kehamilan\" + -0.221*\"â\" + 0.216*\"testpack\" + 0.179*\"tanda\" + -0.177*\"iud\" + -0.177*\"suntik\" + 0.164*\"lambung\" + -0.157*\"vagina\" + -0.125*\"gatal\"')]"
            ]
          },
          "execution_count": 19,
          "metadata": {},
          "output_type": "execute_result"
        }
      ],
      "source": [
        "lsi_model.print_topics(6)"
      ]
    },
    {
      "cell_type": "code",
      "execution_count": null,
      "metadata": {
        "colab": {
          "base_uri": "https://localhost:8080/"
        },
        "id": "-h26oaTEVyQr",
        "outputId": "0d196af0-f171-4878-9ea4-7246b8ed930d"
      },
      "outputs": [
        {
          "data": {
            "text/plain": [
              "[(0,\n",
              "  '0.201*\"menstruasi\" + 0.143*\"kehamilan\" + 0.121*\"haid\" + 0.115*\"bayi\" + 0.102*\"obat\" + 0.095*\"hari\" + 0.094*\"siklus\" + 0.092*\"lambung\" + 0.084*\"nyeri\" + 0.084*\"tanda\"'),\n",
              " (1,\n",
              "  '0.298*\"menstruasi\" + -0.251*\"bayi\" + 0.206*\"haid\" + 0.179*\"kehamilan\" + -0.177*\"batuk\" + -0.173*\"lambung\" + -0.156*\"paru\" + 0.148*\"siklus\" + -0.130*\"obat\" + 0.123*\"testpack\"'),\n",
              " (2,\n",
              "  '-0.703*\"bayi\" + -0.201*\"asi\" + -0.190*\"anak\" + 0.168*\"lambung\" + 0.114*\"asam\" + -0.106*\"menyusu\" + 0.093*\"paru\" + 0.091*\"kemih\" + 0.084*\"batuk\" + -0.079*\"beri\"'),\n",
              " (3,\n",
              "  '-0.402*\"kemih\" + -0.218*\"bak\" + 0.218*\"lambung\" + -0.169*\"saluran\" + 0.161*\"asam\" + 0.155*\"batuk\" + -0.150*\"buang\" + -0.135*\"infeksi\" + 0.133*\"haid\" + 0.133*\"paru\"'),\n",
              " (4,\n",
              "  '0.362*\"paru\" + 0.347*\"batuk\" + -0.279*\"lambung\" + 0.185*\"dahak\" + -0.155*\"asam\" + -0.146*\"obat\" + 0.145*\"tuberkulosis\" + 0.133*\"tes\" + 0.126*\"tbc\" + 0.114*\"nafas\"'),\n",
              " (5,\n",
              "  '-0.309*\"kb\" + 0.236*\"kehamilan\" + -0.221*\"â\" + 0.216*\"testpack\" + 0.179*\"tanda\" + -0.177*\"iud\" + -0.177*\"suntik\" + 0.164*\"lambung\" + -0.157*\"vagina\" + -0.125*\"gatal\"')]"
            ]
          },
          "execution_count": 20,
          "metadata": {},
          "output_type": "execute_result"
        }
      ],
      "source": [
        "lsi_model.show_topics()"
      ]
    },
    {
      "cell_type": "code",
      "execution_count": null,
      "metadata": {
        "colab": {
          "base_uri": "https://localhost:8080/"
        },
        "id": "1jE00ct-p5P8",
        "outputId": "8cd51876-5b70-458b-a468-3d0db86ff8d6"
      },
      "outputs": [
        {
          "name": "stdout",
          "output_type": "stream",
          "text": [
            "Doc # 1\n",
            "Topic 0 : 0.23500910587717014\n",
            "Topic 1 : -0.1018393847859983\n",
            "Topic 2 : 0.009417011486239859\n",
            "Topic 3 : -0.010744617222452315\n",
            "Topic 4 : -0.0735949064372703\n",
            "Topic 5 : 0.06029318367626857\n",
            "\n",
            "Doc # 2\n",
            "Topic 0 : 0.3343054027803443\n",
            "Topic 1 : 0.2117486457416118\n",
            "Topic 2 : 0.004130328602723389\n",
            "Topic 3 : 0.07728685916737904\n",
            "Topic 4 : 0.018827034532973057\n",
            "Topic 5 : -0.07553667851019216\n",
            "\n",
            "Doc # 3\n",
            "Topic 0 : 0.11967589451669158\n",
            "Topic 1 : -0.05240761548773779\n",
            "Topic 2 : 0.014702287518830237\n",
            "Topic 3 : 0.012631045014580759\n",
            "Topic 4 : -0.036326125728961545\n",
            "Topic 5 : -0.06307392460120011\n",
            "\n",
            "Doc # 4\n",
            "Topic 0 : 0.21660608528716457\n",
            "Topic 1 : -0.08294365211360005\n",
            "Topic 2 : 0.04246164164956374\n",
            "Topic 3 : 0.023702680924300487\n",
            "Topic 4 : -0.09479463218784932\n",
            "Topic 5 : 0.01415168679639329\n",
            "\n",
            "Doc # 5\n",
            "Topic 0 : 0.27812450195431915\n",
            "Topic 1 : -0.17185772649338696\n",
            "Topic 2 : 0.1392064094961602\n",
            "Topic 3 : 0.11378868169794337\n",
            "Topic 4 : -0.20350983600100694\n",
            "Topic 5 : 0.11790880515874984\n",
            "\n",
            "Doc # 6\n",
            "Topic 0 : 0.2020193665601587\n",
            "Topic 1 : -0.18812534836668252\n",
            "Topic 2 : -0.4504036040971535\n",
            "Topic 3 : 0.05475638435668562\n",
            "Topic 4 : -0.03445407181952698\n",
            "Topic 5 : 0.03677909003424175\n",
            "\n",
            "Doc # 7\n",
            "Topic 0 : 0.19585560279487393\n",
            "Topic 1 : -0.13242960371754361\n",
            "Topic 2 : 0.04091765146769265\n",
            "Topic 3 : 0.06130934599691921\n",
            "Topic 4 : -0.14277418777223608\n",
            "Topic 5 : -0.07172520117149066\n",
            "\n",
            "Doc # 8\n",
            "Topic 0 : 0.11883871712320408\n",
            "Topic 1 : 0.06029279229732257\n",
            "Topic 2 : -0.03865225798105337\n",
            "Topic 3 : -0.008941254612724563\n",
            "Topic 4 : 0.009547672670621236\n",
            "Topic 5 : 0.044874086836769043\n",
            "\n",
            "Doc # 9\n",
            "Topic 0 : 0.1660808203315886\n",
            "Topic 1 : -0.057861903643388786\n",
            "Topic 2 : 0.0347714495875822\n",
            "Topic 3 : 0.03369724150916246\n",
            "Topic 4 : -0.07926416087136472\n",
            "Topic 5 : -0.005860810274042743\n",
            "\n",
            "Doc # 10\n",
            "Topic 0 : 0.23353917041093128\n",
            "Topic 1 : 0.049939256162920276\n",
            "Topic 2 : 0.03662652922264243\n",
            "Topic 3 : -0.028210565540533153\n",
            "Topic 4 : 0.07548685795643902\n",
            "Topic 5 : -0.0022584390523037066\n",
            "\n",
            "Doc # 11\n",
            "Topic 0 : 0.19177948879471957\n",
            "Topic 1 : 0.05164480865567507\n",
            "Topic 2 : 0.03115838307308159\n",
            "Topic 3 : -0.05405371792484202\n",
            "Topic 4 : 0.03244201351860034\n",
            "Topic 5 : -0.0510038056988523\n",
            "\n",
            "Doc # 12\n",
            "Topic 0 : 0.13427622027005331\n",
            "Topic 1 : -0.11852736276675664\n",
            "Topic 2 : 0.04416700853426599\n",
            "Topic 3 : 0.07127225169278383\n",
            "Topic 4 : 0.017398702909933374\n",
            "Topic 5 : -0.012911858709151118\n",
            "\n",
            "Doc # 13\n",
            "Topic 0 : 0.2646729630104779\n",
            "Topic 1 : -0.22735363146307608\n",
            "Topic 2 : 0.19283798108353473\n",
            "Topic 3 : 0.19277691689625892\n",
            "Topic 4 : 0.24530705755451263\n",
            "Topic 5 : 0.043213961771711946\n",
            "\n",
            "Doc # 14\n",
            "Topic 0 : 0.27469543848973343\n",
            "Topic 1 : 0.19933796735447856\n",
            "Topic 2 : -0.03278216403197003\n",
            "Topic 3 : -0.05542836982753408\n",
            "Topic 4 : 0.038410308797931884\n",
            "Topic 5 : 0.057265778550159005\n",
            "\n",
            "Doc # 15\n",
            "Topic 0 : 0.31957763953058577\n",
            "Topic 1 : 0.3014642786126007\n",
            "Topic 2 : -0.021428610948640008\n",
            "Topic 3 : 0.017388521439864683\n",
            "Topic 4 : 0.042286024212008756\n",
            "Topic 5 : -0.01865132660316745\n",
            "\n",
            "Doc # 16\n",
            "Topic 0 : 0.1348148301371642\n",
            "Topic 1 : -0.036909760244172245\n",
            "Topic 2 : 0.009577571338364902\n",
            "Topic 3 : 0.04871146507414177\n",
            "Topic 4 : -0.08666420222199539\n",
            "Topic 5 : 0.019141945233578036\n",
            "\n",
            "Doc # 17\n",
            "Topic 0 : 0.28088043022714637\n",
            "Topic 1 : -0.23613840092665606\n",
            "Topic 2 : 0.16917396128802561\n",
            "Topic 3 : 0.11723850542191641\n",
            "Topic 4 : 0.05066399011438876\n",
            "Topic 5 : 0.08205951459053684\n",
            "\n",
            "Doc # 18\n",
            "Topic 0 : 0.18823448339791596\n",
            "Topic 1 : -0.11838849492409761\n",
            "Topic 2 : 0.0554037090648883\n",
            "Topic 3 : -0.0001043729968068533\n",
            "Topic 4 : -0.10490617545783522\n",
            "Topic 5 : -0.06872058784774115\n",
            "\n",
            "Doc # 19\n",
            "Topic 0 : 0.24738862280266868\n",
            "Topic 1 : -0.20558976888483768\n",
            "Topic 2 : 0.17503022219997616\n",
            "Topic 3 : 0.20632003884914038\n",
            "Topic 4 : -0.30121472232289936\n",
            "Topic 5 : 0.18919904220604075\n",
            "\n",
            "Doc # 20\n",
            "Topic 0 : 0.2178682261942267\n",
            "Topic 1 : 0.051636668634697305\n",
            "Topic 2 : 0.0139158149605648\n",
            "Topic 3 : -0.07533130686201611\n",
            "Topic 4 : 0.038446288811240306\n",
            "Topic 5 : 0.0873066569861543\n",
            "\n",
            "Doc # 21\n",
            "Topic 0 : 0.2965199022337157\n",
            "Topic 1 : 0.13988589307117466\n",
            "Topic 2 : -0.005448332273020189\n",
            "Topic 3 : 0.01926912340453011\n",
            "Topic 4 : 0.021447943047562864\n",
            "Topic 5 : -0.07520487547427016\n",
            "\n",
            "Doc # 22\n",
            "Topic 0 : 0.1733913782283585\n",
            "Topic 1 : 0.08812667126335029\n",
            "Topic 2 : -0.04376402311121806\n",
            "Topic 3 : -0.0005627364374029087\n",
            "Topic 4 : -0.01468269353185744\n",
            "Topic 5 : -0.02215228920473463\n",
            "\n",
            "Doc # 23\n",
            "Topic 0 : 0.2111548422445437\n",
            "Topic 1 : 0.10460486273438181\n",
            "Topic 2 : -0.01984693241050593\n",
            "Topic 3 : 0.013034906147098058\n",
            "Topic 4 : -0.08042544235415566\n",
            "Topic 5 : -0.22223771597487554\n",
            "\n",
            "Doc # 24\n",
            "Topic 0 : 0.24868545755749544\n",
            "Topic 1 : -0.07714542981644508\n",
            "Topic 2 : 0.08019883702517341\n",
            "Topic 3 : -0.3830158288926496\n",
            "Topic 4 : -0.03778089629538241\n",
            "Topic 5 : -0.022712925501297037\n",
            "\n",
            "Doc # 25\n",
            "Topic 0 : 0.2983021568296156\n",
            "Topic 1 : 0.10315152693476586\n",
            "Topic 2 : 0.0863406372453011\n",
            "Topic 3 : 0.015739587624703507\n",
            "Topic 4 : 0.04709677484745975\n",
            "Topic 5 : -0.014250368880222616\n",
            "\n",
            "Doc # 26\n",
            "Topic 0 : 0.2399818588526311\n",
            "Topic 1 : -0.21365267815488415\n",
            "Topic 2 : -0.4700348565460433\n",
            "Topic 3 : -0.01639759369205644\n",
            "Topic 4 : 0.014336103040277347\n",
            "Topic 5 : -0.1341345897817688\n",
            "\n",
            "Doc # 27\n",
            "Topic 0 : 0.13746984172257484\n",
            "Topic 1 : -0.045570360313032694\n",
            "Topic 2 : 0.0014163072053651352\n",
            "Topic 3 : 0.020303171400932483\n",
            "Topic 4 : -0.0729019145754696\n",
            "Topic 5 : -0.05926144671109071\n",
            "\n",
            "Doc # 28\n",
            "Topic 0 : 0.16997263004138857\n",
            "Topic 1 : 0.10839309609988078\n",
            "Topic 2 : -0.02239953985885289\n",
            "Topic 3 : -0.01855728018030426\n",
            "Topic 4 : 0.015615104102123748\n",
            "Topic 5 : 0.028277110035202644\n",
            "\n",
            "Doc # 29\n",
            "Topic 0 : 0.24905879167127343\n",
            "Topic 1 : -0.24676202677907236\n",
            "Topic 2 : 0.131743315953842\n",
            "Topic 3 : 0.13700500022655882\n",
            "Topic 4 : 0.3663435089257116\n",
            "Topic 5 : -0.03545044005176591\n",
            "\n",
            "Doc # 30\n",
            "Topic 0 : 0.19886703507601114\n",
            "Topic 1 : -0.12810632261863536\n",
            "Topic 2 : 0.0763852981396524\n",
            "Topic 3 : -0.3294388549975458\n",
            "Topic 4 : -0.03883812400856238\n",
            "Topic 5 : -0.023455216210787066\n",
            "\n",
            "Doc # 31\n",
            "Topic 0 : 0.2256911582785442\n",
            "Topic 1 : 0.10708154749161511\n",
            "Topic 2 : -0.010907913148820916\n",
            "Topic 3 : 0.04491885670146759\n",
            "Topic 4 : -0.03473974913612294\n",
            "Topic 5 : 0.012479493352822682\n",
            "\n",
            "Doc # 32\n",
            "Topic 0 : 0.24227320770185115\n",
            "Topic 1 : -0.1350004944171308\n",
            "Topic 2 : 0.0813926586542729\n",
            "Topic 3 : -0.3729467112416827\n",
            "Topic 4 : -0.03460431948608506\n",
            "Topic 5 : -0.07123461611728177\n",
            "\n",
            "Doc # 33\n",
            "Topic 0 : 0.17211638364902263\n",
            "Topic 1 : -0.020206622186834753\n",
            "Topic 2 : 0.02319750302237351\n",
            "Topic 3 : -0.05895991947365781\n",
            "Topic 4 : 0.011056232601710254\n",
            "Topic 5 : -0.039655011627032645\n",
            "\n",
            "Doc # 34\n",
            "Topic 0 : 0.19696134455319927\n",
            "Topic 1 : -0.1076756914801146\n",
            "Topic 2 : -0.05393157388881953\n",
            "Topic 3 : 0.027384977413759424\n",
            "Topic 4 : -0.06549473258499101\n",
            "Topic 5 : -0.0982209248767102\n",
            "\n",
            "Doc # 35\n",
            "Topic 0 : 0.23529475127849503\n",
            "Topic 1 : -0.17419562618331905\n",
            "Topic 2 : 0.13988532769871875\n",
            "Topic 3 : 0.15229190035174\n",
            "Topic 4 : -0.22733642211005672\n",
            "Topic 5 : 0.05818846974990065\n",
            "\n",
            "Doc # 36\n",
            "Topic 0 : 0.28680384313769824\n",
            "Topic 1 : 0.10547259914989819\n",
            "Topic 2 : -0.029125278178434518\n",
            "Topic 3 : 0.008938142349885561\n",
            "Topic 4 : -0.004287102930862608\n",
            "Topic 5 : 0.03959849698233146\n",
            "\n",
            "Doc # 37\n",
            "Topic 0 : 0.2615236264230282\n",
            "Topic 1 : -0.1533090052849851\n",
            "Topic 2 : 0.09203089141514387\n",
            "Topic 3 : 0.03363902936203465\n",
            "Topic 4 : -0.17110946133641702\n",
            "Topic 5 : 0.052220005107222196\n",
            "\n",
            "Doc # 38\n",
            "Topic 0 : 0.13750313109689144\n",
            "Topic 1 : -0.04285943858352194\n",
            "Topic 2 : -0.009325729247236918\n",
            "Topic 3 : -0.013638637941416166\n",
            "Topic 4 : -0.0245739235608047\n",
            "Topic 5 : -0.11138293288639234\n",
            "\n",
            "Doc # 39\n",
            "Topic 0 : 0.23771996583193894\n",
            "Topic 1 : -0.05692666192238358\n",
            "Topic 2 : 0.026790639777566187\n",
            "Topic 3 : 0.07863639741689375\n",
            "Topic 4 : -0.14516718994104894\n",
            "Topic 5 : -0.0007713821828164194\n",
            "\n",
            "Doc # 40\n",
            "Topic 0 : 0.15805571604910565\n",
            "Topic 1 : -0.12888056222005892\n",
            "Topic 2 : 0.06268811540632725\n",
            "Topic 3 : 0.012592774944274668\n",
            "Topic 4 : -0.07210604996961797\n",
            "Topic 5 : -0.058703786922792094\n",
            "\n",
            "Doc # 41\n",
            "Topic 0 : 0.17752282274607273\n",
            "Topic 1 : 0.011263128054844385\n",
            "Topic 2 : -0.0047354565057194185\n",
            "Topic 3 : -0.02315629410516698\n",
            "Topic 4 : -0.0025679905009653855\n",
            "Topic 5 : 0.01003314695186625\n",
            "\n",
            "Doc # 42\n",
            "Topic 0 : 0.23593048606218348\n",
            "Topic 1 : -0.1480834691919697\n",
            "Topic 2 : 0.03413135499357618\n",
            "Topic 3 : 0.07151715578657056\n",
            "Topic 4 : -0.03760243830966297\n",
            "Topic 5 : -0.09508208802359402\n",
            "\n",
            "Doc # 43\n",
            "Topic 0 : 0.1233965103559329\n",
            "Topic 1 : -0.051073426399345485\n",
            "Topic 2 : 0.018506493118169244\n",
            "Topic 3 : 0.03553968083518986\n",
            "Topic 4 : -0.08150456663264613\n",
            "Topic 5 : -0.02768227935365082\n",
            "\n",
            "Doc # 44\n",
            "Topic 0 : 0.3555302810867354\n",
            "Topic 1 : 0.1737440377218777\n",
            "Topic 2 : -0.016418727938341645\n",
            "Topic 3 : 0.06045895549980871\n",
            "Topic 4 : 0.02702888147054794\n",
            "Topic 5 : -0.02903710138619439\n",
            "\n",
            "Doc # 45\n",
            "Topic 0 : 0.20196437865659025\n",
            "Topic 1 : -0.10297217323847349\n",
            "Topic 2 : 0.11340850382746108\n",
            "Topic 3 : 0.06853374571710764\n",
            "Topic 4 : -0.0691204539966693\n",
            "Topic 5 : 0.0980628995469743\n",
            "\n",
            "Doc # 46\n",
            "Topic 0 : 0.1752336562053621\n",
            "Topic 1 : -0.17160085020625698\n",
            "Topic 2 : -0.22755560015374954\n",
            "Topic 3 : 0.0009619261985170434\n",
            "Topic 4 : 0.04804631430905251\n",
            "Topic 5 : 0.04537830495655891\n",
            "\n",
            "Doc # 47\n",
            "Topic 0 : 0.26142931541814746\n",
            "Topic 1 : 0.03222530305157579\n",
            "Topic 2 : -0.03618959788598007\n",
            "Topic 3 : 0.13892749060475365\n",
            "Topic 4 : -0.09254195564757794\n",
            "Topic 5 : -0.11028322441669657\n",
            "\n",
            "Doc # 48\n",
            "Topic 0 : 0.30322648321976575\n",
            "Topic 1 : -0.1831961339150142\n",
            "Topic 2 : 0.17029239079349962\n",
            "Topic 3 : 0.11895812337491414\n",
            "Topic 4 : -0.22622138694941682\n",
            "Topic 5 : 0.1168462956929391\n",
            "\n",
            "Doc # 49\n",
            "Topic 0 : 0.3001361910204167\n",
            "Topic 1 : -0.008563374212494597\n",
            "Topic 2 : 0.04128355083617801\n",
            "Topic 3 : -0.08052684919008787\n",
            "Topic 4 : 0.03277208125302777\n",
            "Topic 5 : 0.028888879320500892\n",
            "\n",
            "Doc # 50\n",
            "Topic 0 : 0.3266391366900377\n",
            "Topic 1 : 0.16916103194384063\n",
            "Topic 2 : 0.00158686903399105\n",
            "Topic 3 : -0.18673466993653265\n",
            "Topic 4 : 0.083993908290681\n",
            "Topic 5 : 0.37952267551359126\n",
            "\n",
            "Doc # 51\n",
            "Topic 0 : 0.23722735471689516\n",
            "Topic 1 : -0.23227994744516076\n",
            "Topic 2 : 0.11923252640535216\n",
            "Topic 3 : 0.11682518971358559\n",
            "Topic 4 : -0.02069299751776715\n",
            "Topic 5 : -0.012763135155275863\n",
            "\n",
            "Doc # 52\n",
            "Topic 0 : 0.15290068558538011\n",
            "Topic 1 : -0.12240726418677583\n",
            "Topic 2 : 0.014502180635493824\n",
            "Topic 3 : -0.017585053356870477\n",
            "Topic 4 : 0.02590098588851338\n",
            "Topic 5 : -0.06111547007741962\n",
            "\n",
            "Doc # 53\n",
            "Topic 0 : 0.20361027934572937\n",
            "Topic 1 : -0.14389011137649077\n",
            "Topic 2 : 0.1167698867076688\n",
            "Topic 3 : -0.4879480709393002\n",
            "Topic 4 : -0.009178247024312233\n",
            "Topic 5 : -0.006968765307216684\n",
            "\n",
            "Doc # 54\n",
            "Topic 0 : 0.22577707088334\n",
            "Topic 1 : 0.1188306455281841\n",
            "Topic 2 : -0.002983014509426192\n",
            "Topic 3 : -0.16320878258055838\n",
            "Topic 4 : 0.07361858840231975\n",
            "Topic 5 : 0.2508377473560419\n",
            "\n",
            "Doc # 55\n",
            "Topic 0 : 0.14082129468793328\n",
            "Topic 1 : -0.0993215018627171\n",
            "Topic 2 : -0.17122414182337303\n",
            "Topic 3 : -0.05356368698707174\n",
            "Topic 4 : -0.027788543415604137\n",
            "Topic 5 : -0.03549031520212867\n",
            "\n",
            "Doc # 56\n",
            "Topic 0 : 0.2950498248937011\n",
            "Topic 1 : 0.22134500259909165\n",
            "Topic 2 : -0.03349505352084775\n",
            "Topic 3 : -0.04020542945722619\n",
            "Topic 4 : 0.062356779102872524\n",
            "Topic 5 : 0.1396442372793965\n",
            "\n",
            "Doc # 57\n",
            "Topic 0 : 0.40648986680551724\n",
            "Topic 1 : 0.20108405856006634\n",
            "Topic 2 : 0.03112042176915502\n",
            "Topic 3 : 0.031127592909256246\n",
            "Topic 4 : 0.14214086464796008\n",
            "Topic 5 : 0.15145927366794437\n",
            "\n",
            "Doc # 58\n",
            "Topic 0 : 0.21200668938520933\n",
            "Topic 1 : -0.09974615172555046\n",
            "Topic 2 : 0.07099335600720451\n",
            "Topic 3 : -0.1751148862891487\n",
            "Topic 4 : -0.046134238386315064\n",
            "Topic 5 : -0.02435553449101574\n",
            "\n",
            "Doc # 59\n",
            "Topic 0 : 0.2680948774997162\n",
            "Topic 1 : 0.13148102971245917\n",
            "Topic 2 : 0.005008985964731277\n",
            "Topic 3 : -0.03935698469695538\n",
            "Topic 4 : 0.08718425000162582\n",
            "Topic 5 : 0.19854027437534588\n",
            "\n",
            "Doc # 60\n",
            "Topic 0 : 0.3190271044027755\n",
            "Topic 1 : 0.10335016044095917\n",
            "Topic 2 : 0.03309631719171879\n",
            "Topic 3 : 0.012359273863149969\n",
            "Topic 4 : 0.017844574388997277\n",
            "Topic 5 : -0.0043664015389060905\n",
            "\n",
            "Doc # 61\n",
            "Topic 0 : 0.25976393374182954\n",
            "Topic 1 : 0.1817251043651878\n",
            "Topic 2 : 0.005232048653528861\n",
            "Topic 3 : 0.12416021511161068\n",
            "Topic 4 : -0.11474530436377987\n",
            "Topic 5 : -0.22102734607155114\n",
            "\n",
            "Doc # 62\n",
            "Topic 0 : 0.1400225779550894\n",
            "Topic 1 : -0.09827092346630839\n",
            "Topic 2 : 0.010839266473356556\n",
            "Topic 3 : 0.03675014875331249\n",
            "Topic 4 : -0.08711923925406767\n",
            "Topic 5 : -0.06900055846753592\n",
            "\n",
            "Doc # 63\n",
            "Topic 0 : 0.09151208194268091\n",
            "Topic 1 : 0.012401374896546736\n",
            "Topic 2 : -0.043221464559665364\n",
            "Topic 3 : -0.022049501638025673\n",
            "Topic 4 : 0.00534562368767768\n",
            "Topic 5 : 0.04403544406524511\n",
            "\n",
            "Doc # 64\n",
            "Topic 0 : 0.25731779470535043\n",
            "Topic 1 : -0.26129340450686717\n",
            "Topic 2 : 0.14985204033051275\n",
            "Topic 3 : 0.1302512658404723\n",
            "Topic 4 : 0.2200546548305724\n",
            "Topic 5 : -0.017768827105586114\n",
            "\n",
            "Doc # 65\n",
            "Topic 0 : 0.26199159499028024\n",
            "Topic 1 : 0.08702145600984014\n",
            "Topic 2 : -0.03261527387446374\n",
            "Topic 3 : -0.06884341617724053\n",
            "Topic 4 : 0.016348341022905083\n",
            "Topic 5 : 0.19464356969923802\n",
            "\n",
            "Doc # 66\n",
            "Topic 0 : 0.18015556537853972\n",
            "Topic 1 : -0.17080165139772835\n",
            "Topic 2 : 0.10695212004063623\n",
            "Topic 3 : 0.09660153476572857\n",
            "Topic 4 : 0.21674298990236623\n",
            "Topic 5 : -0.01780478004264403\n",
            "\n",
            "Doc # 67\n",
            "Topic 0 : 0.25466036169709005\n",
            "Topic 1 : -0.27102226382932687\n",
            "Topic 2 : -0.3830250048330663\n",
            "Topic 3 : 0.049100406503974715\n",
            "Topic 4 : -0.042945436696580325\n",
            "Topic 5 : 0.007049290667831909\n",
            "\n",
            "Doc # 68\n",
            "Topic 0 : 0.2549342797687411\n",
            "Topic 1 : -0.06418196816619641\n",
            "Topic 2 : 0.05091603373574868\n",
            "Topic 3 : 0.08953744370733022\n",
            "Topic 4 : -0.07728047155492322\n",
            "Topic 5 : 0.05333511538058114\n",
            "\n",
            "Doc # 69\n",
            "Topic 0 : 0.3424257288674036\n",
            "Topic 1 : 0.16187029401067154\n",
            "Topic 2 : 0.0032433927459099717\n",
            "Topic 3 : 0.020465391599237007\n",
            "Topic 4 : 0.017201422287559213\n",
            "Topic 5 : 0.09839872483802209\n",
            "\n",
            "Doc # 70\n",
            "Topic 0 : 0.30651263783926347\n",
            "Topic 1 : 0.20489403302706866\n",
            "Topic 2 : -0.015830613175861676\n",
            "Topic 3 : 0.09645930815822758\n",
            "Topic 4 : -0.04199212213989871\n",
            "Topic 5 : -0.08652773839746566\n",
            "\n",
            "Doc # 71\n",
            "Topic 0 : 0.21794644891170903\n",
            "Topic 1 : -0.026171365390178288\n",
            "Topic 2 : 0.02968424830865187\n",
            "Topic 3 : -0.029865362321895083\n",
            "Topic 4 : -0.04559085047389242\n",
            "Topic 5 : 0.04148607799871281\n",
            "\n",
            "Doc # 72\n",
            "Topic 0 : 0.27830191217456035\n",
            "Topic 1 : 0.176319662716925\n",
            "Topic 2 : -0.009297709842336147\n",
            "Topic 3 : 0.01013277820328826\n",
            "Topic 4 : 0.019613389741505425\n",
            "Topic 5 : -0.043718064660956665\n",
            "\n",
            "Doc # 73\n",
            "Topic 0 : 0.23707206865367372\n",
            "Topic 1 : -0.1338881983604489\n",
            "Topic 2 : 0.02704300085474755\n",
            "Topic 3 : 0.051791551960760705\n",
            "Topic 4 : -0.151845389051199\n",
            "Topic 5 : -0.09334336029454322\n",
            "\n",
            "Doc # 74\n",
            "Topic 0 : 0.2524166433060001\n",
            "Topic 1 : -0.11882496264698467\n",
            "Topic 2 : 0.10652329236004751\n",
            "Topic 3 : -0.37606477341403843\n",
            "Topic 4 : -0.03360261538826476\n",
            "Topic 5 : -0.029841793786736646\n",
            "\n",
            "Doc # 75\n",
            "Topic 0 : 0.25064929999772684\n",
            "Topic 1 : -0.21971512384784245\n",
            "Topic 2 : 0.1801822044874777\n",
            "Topic 3 : 0.17377561879624248\n",
            "Topic 4 : -0.3238113671265945\n",
            "Topic 5 : 0.09769446201622038\n",
            "\n",
            "Doc # 76\n",
            "Topic 0 : 0.2213117241767083\n",
            "Topic 1 : 0.10536746345303796\n",
            "Topic 2 : -0.002561937187061317\n",
            "Topic 3 : -0.08104201644332518\n",
            "Topic 4 : 0.01980642939797724\n",
            "Topic 5 : -0.011679758035740487\n",
            "\n",
            "Doc # 77\n",
            "Topic 0 : 0.4203730632126196\n",
            "Topic 1 : 0.2943441779263813\n",
            "Topic 2 : -0.008154702203481743\n",
            "Topic 3 : 0.09977286254175684\n",
            "Topic 4 : -0.013080450333486014\n",
            "Topic 5 : -0.13090323765131343\n",
            "\n",
            "Doc # 78\n",
            "Topic 0 : 0.21209519884095412\n",
            "Topic 1 : 0.08138942655042776\n",
            "Topic 2 : 0.016090450489660645\n",
            "Topic 3 : 0.11561912472140705\n",
            "Topic 4 : -0.07866217122854367\n",
            "Topic 5 : -0.2961326404544357\n",
            "\n",
            "Doc # 79\n",
            "Topic 0 : 0.21199462379703216\n",
            "Topic 1 : -0.17111487283129095\n",
            "Topic 2 : -0.09820171919230082\n",
            "Topic 3 : 0.01741569647650041\n",
            "Topic 4 : 0.14450467913814583\n",
            "Topic 5 : -0.09126476088978487\n",
            "\n",
            "Doc # 80\n",
            "Topic 0 : 0.18404657140814795\n",
            "Topic 1 : -0.07893631649182868\n",
            "Topic 2 : 0.05456916685859118\n",
            "Topic 3 : -0.15718057945938785\n",
            "Topic 4 : -0.010924185526039012\n",
            "Topic 5 : -0.20008091363414454\n",
            "\n",
            "Doc # 81\n",
            "Topic 0 : 0.1933816696426208\n",
            "Topic 1 : -0.09891035308293178\n",
            "Topic 2 : 0.049847479923132515\n",
            "Topic 3 : -0.1620038584461354\n",
            "Topic 4 : -0.014864793484557166\n",
            "Topic 5 : 0.01641157942040299\n",
            "\n",
            "Doc # 82\n",
            "Topic 0 : 0.34317567716248887\n",
            "Topic 1 : 0.20288687706847214\n",
            "Topic 2 : 0.010596316591713985\n",
            "Topic 3 : 0.022525496654307815\n",
            "Topic 4 : -0.007592954403566309\n",
            "Topic 5 : -0.13332839975478683\n",
            "\n",
            "Doc # 83\n",
            "Topic 0 : 0.19925723220875632\n",
            "Topic 1 : -0.18078395740674202\n",
            "Topic 2 : -0.46906656696403304\n",
            "Topic 3 : 0.04277963081495471\n",
            "Topic 4 : 0.01389495600242931\n",
            "Topic 5 : 0.03197963329897503\n",
            "\n",
            "Doc # 84\n",
            "Topic 0 : 0.1508757295475498\n",
            "Topic 1 : -0.12189123154175525\n",
            "Topic 2 : -0.27023393010103947\n",
            "Topic 3 : -0.01459740507063434\n",
            "Topic 4 : -0.012142417063139975\n",
            "Topic 5 : 0.017235770788888674\n",
            "\n",
            "Doc # 85\n",
            "Topic 0 : 0.16940153373173356\n",
            "Topic 1 : 0.043370573274535765\n",
            "Topic 2 : -0.04461306390190767\n",
            "Topic 3 : -0.059565848188007746\n",
            "Topic 4 : 0.022215140520907527\n",
            "Topic 5 : -0.020398719468725623\n",
            "\n",
            "Doc # 86\n",
            "Topic 0 : 0.17158932436975868\n",
            "Topic 1 : -0.019407490294614423\n",
            "Topic 2 : 7.174527626148381e-05\n",
            "Topic 3 : 0.02088038214143431\n",
            "Topic 4 : -0.04929886637325653\n",
            "Topic 5 : -0.023494688295345297\n",
            "\n",
            "Doc # 87\n",
            "Topic 0 : 0.24973660208395107\n",
            "Topic 1 : -0.1689412293119576\n",
            "Topic 2 : 0.11309224588819668\n",
            "Topic 3 : 0.12606955632621988\n",
            "Topic 4 : -0.056039504529570135\n",
            "Topic 5 : 0.07519880758982725\n",
            "\n",
            "Doc # 88\n",
            "Topic 0 : 0.059123201961985394\n",
            "Topic 1 : -0.008337930018159264\n",
            "Topic 2 : 0.017299180354781934\n",
            "Topic 3 : -0.049318519130310615\n",
            "Topic 4 : -0.0067916857798147184\n",
            "Topic 5 : -0.0730338305548261\n",
            "\n",
            "Doc # 89\n",
            "Topic 0 : 0.20922082451118318\n",
            "Topic 1 : 0.00957132398085268\n",
            "Topic 2 : 0.01090855861967868\n",
            "Topic 3 : 0.054064337053955636\n",
            "Topic 4 : -0.06479479456603299\n",
            "Topic 5 : -0.11493307511223168\n",
            "\n",
            "Doc # 90\n",
            "Topic 0 : 0.12230552518916604\n",
            "Topic 1 : -0.05471672745553304\n",
            "Topic 2 : -0.0699687926996808\n",
            "Topic 3 : -0.025371065628916563\n",
            "Topic 4 : 0.007197001087289982\n",
            "Topic 5 : -0.015922192725826782\n",
            "\n",
            "Doc # 91\n",
            "Topic 0 : 0.19250630267699662\n",
            "Topic 1 : -0.12178951472131493\n",
            "Topic 2 : 0.054920407147123936\n",
            "Topic 3 : 0.11417194317797343\n",
            "Topic 4 : 0.2844386207081199\n",
            "Topic 5 : -0.05053295245870759\n",
            "\n",
            "Doc # 92\n",
            "Topic 0 : 0.2665217758153568\n",
            "Topic 1 : -0.09639837095035875\n",
            "Topic 2 : 0.11416710336060205\n",
            "Topic 3 : -0.15194903725863818\n",
            "Topic 4 : -0.03482558680280801\n",
            "Topic 5 : 0.018366438982300896\n",
            "\n",
            "Doc # 93\n",
            "Topic 0 : 0.23406821630482777\n",
            "Topic 1 : -0.10081736012014118\n",
            "Topic 2 : 0.08879759870802524\n",
            "Topic 3 : -0.07369043432002065\n",
            "Topic 4 : -0.04963733439281128\n",
            "Topic 5 : 0.04275104582589639\n",
            "\n",
            "Doc # 94\n",
            "Topic 0 : 0.23594393499601657\n",
            "Topic 1 : -0.20902701372902907\n",
            "Topic 2 : 0.11700322991982429\n",
            "Topic 3 : 0.137527045283869\n",
            "Topic 4 : -0.26633276507894293\n",
            "Topic 5 : 0.07385758818368908\n",
            "\n",
            "Doc # 95\n",
            "Topic 0 : 0.1908501005079782\n",
            "Topic 1 : -0.0022540196296795423\n",
            "Topic 2 : 0.022359707101149446\n",
            "Topic 3 : 0.03588586732611756\n",
            "Topic 4 : -0.09119285182348247\n",
            "Topic 5 : -0.04634466988168989\n",
            "\n",
            "Doc # 96\n",
            "Topic 0 : 0.25950429561699223\n",
            "Topic 1 : 0.20882877907527148\n",
            "Topic 2 : -0.015123191861395461\n",
            "Topic 3 : 0.11759487976824264\n",
            "Topic 4 : -0.02811823525752433\n",
            "Topic 5 : -0.10198089788387513\n",
            "\n",
            "Doc # 97\n",
            "Topic 0 : 0.18528801013526727\n",
            "Topic 1 : -0.12785830167205922\n",
            "Topic 2 : 0.06477658763794833\n",
            "Topic 3 : 0.07978257801144233\n",
            "Topic 4 : -0.17465198905598722\n",
            "Topic 5 : -0.05050220031867913\n",
            "\n",
            "Doc # 98\n",
            "Topic 0 : 0.35493228599648996\n",
            "Topic 1 : 0.2853946851077359\n",
            "Topic 2 : -0.015038917925670825\n",
            "Topic 3 : 0.0913668879211835\n",
            "Topic 4 : 0.006086546974838469\n",
            "Topic 5 : -0.03476357954671061\n",
            "\n",
            "Doc # 99\n",
            "Topic 0 : 0.3155516096744127\n",
            "Topic 1 : 0.18501430210923714\n",
            "Topic 2 : -0.016212124456070797\n",
            "Topic 3 : 0.03098373703480883\n",
            "Topic 4 : 0.04134128470426538\n",
            "Topic 5 : 0.10296819938410397\n",
            "\n",
            "Doc # 100\n",
            "Topic 0 : 0.20596184018073266\n",
            "Topic 1 : -0.029096201449168198\n",
            "Topic 2 : 0.010335748749066417\n",
            "Topic 3 : 0.017333887372653557\n",
            "Topic 4 : -0.06035857699875793\n",
            "Topic 5 : 0.016927810280313947\n",
            "\n",
            "Doc # 101\n",
            "Topic 0 : 0.17051923797669638\n",
            "Topic 1 : 0.04249972548443771\n",
            "Topic 2 : -0.019729932320622545\n",
            "Topic 3 : -0.005924878898639346\n",
            "Topic 4 : 0.009744289039156345\n",
            "Topic 5 : 0.12532097773113002\n",
            "\n",
            "Doc # 102\n",
            "Topic 0 : 0.25955385554266397\n",
            "Topic 1 : 0.08981010420076563\n",
            "Topic 2 : -0.039143869189972647\n",
            "Topic 3 : -0.04476229601374548\n",
            "Topic 4 : 0.03373632016621354\n",
            "Topic 5 : 0.13517412720148114\n",
            "\n",
            "Doc # 103\n",
            "Topic 0 : 0.2361761064489332\n",
            "Topic 1 : -0.19154406167512136\n",
            "Topic 2 : 0.16281880320074635\n",
            "Topic 3 : 0.18189966199047417\n",
            "Topic 4 : -0.26264376761074737\n",
            "Topic 5 : 0.11823784381834572\n",
            "\n",
            "Doc # 104\n",
            "Topic 0 : 0.26645982368888543\n",
            "Topic 1 : 0.014794809922848096\n",
            "Topic 2 : 0.0037431811745469554\n",
            "Topic 3 : 0.049683284176839926\n",
            "Topic 4 : -0.06500036650865051\n",
            "Topic 5 : 0.08061984349229849\n",
            "\n",
            "Doc # 105\n",
            "Topic 0 : 0.27474527972509993\n",
            "Topic 1 : -0.22160123360724862\n",
            "Topic 2 : -0.518306682645091\n",
            "Topic 3 : 0.0351122903358234\n",
            "Topic 4 : 0.012320316470970141\n",
            "Topic 5 : 0.045137125571795104\n",
            "\n",
            "Doc # 106\n",
            "Topic 0 : 0.13277908117740989\n",
            "Topic 1 : 0.07593460091290481\n",
            "Topic 2 : -0.028338874757893328\n",
            "Topic 3 : 0.013168814084115533\n",
            "Topic 4 : 0.015529854366171278\n",
            "Topic 5 : -0.007339527045760523\n",
            "\n",
            "Doc # 107\n",
            "Topic 0 : 0.27615504830478654\n",
            "Topic 1 : -0.002190466566868659\n",
            "Topic 2 : 0.1030909363180989\n",
            "Topic 3 : -0.07735175741867403\n",
            "Topic 4 : 0.08628910772969252\n",
            "Topic 5 : -0.030908896539565994\n",
            "\n",
            "Doc # 108\n",
            "Topic 0 : 0.17781902374009015\n",
            "Topic 1 : 0.018450903650728774\n",
            "Topic 2 : -0.021946971588396574\n",
            "Topic 3 : -0.02934671382619358\n",
            "Topic 4 : -0.02890498284635874\n",
            "Topic 5 : -0.035895151479339166\n",
            "\n",
            "Doc # 109\n",
            "Topic 0 : 0.11641704282462259\n",
            "Topic 1 : -0.11659601716113098\n",
            "Topic 2 : 0.01399285425450107\n",
            "Topic 3 : 0.060203265653664295\n",
            "Topic 4 : 0.20255779058422413\n",
            "Topic 5 : -0.06485510665892755\n",
            "\n",
            "Doc # 110\n",
            "Topic 0 : 0.17669640850061033\n",
            "Topic 1 : -0.11178181984156989\n",
            "Topic 2 : -0.17946066264454932\n",
            "Topic 3 : -0.0212416084535394\n",
            "Topic 4 : -0.013423804163386918\n",
            "Topic 5 : 0.006680687287569513\n",
            "\n",
            "Doc # 111\n",
            "Topic 0 : 0.28359225814964667\n",
            "Topic 1 : -0.12574948869461805\n",
            "Topic 2 : 0.1421576960111178\n",
            "Topic 3 : -0.14833058446478253\n",
            "Topic 4 : -0.13429067781515974\n",
            "Topic 5 : 0.056199190813145436\n",
            "\n",
            "Doc # 112\n",
            "Topic 0 : 0.16991938634554776\n",
            "Topic 1 : -0.17137802387873888\n",
            "Topic 2 : -0.5295441021442627\n",
            "Topic 3 : 0.0227679101613356\n",
            "Topic 4 : -0.02965844735276914\n",
            "Topic 5 : 0.07754777687315703\n",
            "\n",
            "Doc # 113\n",
            "Topic 0 : 0.1946462032684561\n",
            "Topic 1 : -0.12229477061237821\n",
            "Topic 2 : 0.060913452385609704\n",
            "Topic 3 : 0.011610659121530054\n",
            "Topic 4 : -0.030012147494015144\n",
            "Topic 5 : 0.022263289335702825\n",
            "\n",
            "Doc # 114\n",
            "Topic 0 : 0.2832336479809141\n",
            "Topic 1 : -0.22469830817393344\n",
            "Topic 2 : 0.15871438082403733\n",
            "Topic 3 : 0.06028131706505491\n",
            "Topic 4 : -0.04817601962718671\n",
            "Topic 5 : 0.06888931767916248\n",
            "\n",
            "Doc # 115\n",
            "Topic 0 : 0.23537183261475747\n",
            "Topic 1 : -0.21900031972153208\n",
            "Topic 2 : -0.11114793131693727\n",
            "Topic 3 : 0.049082297953677766\n",
            "Topic 4 : 0.09728121806874125\n",
            "Topic 5 : -0.08077425463470815\n",
            "\n",
            "Doc # 116\n",
            "Topic 0 : 0.18893618036729434\n",
            "Topic 1 : -0.07928021423607681\n",
            "Topic 2 : -0.034131719765953715\n",
            "Topic 3 : -0.03577241294215388\n",
            "Topic 4 : -0.03460405393868644\n",
            "Topic 5 : -0.16144366667273663\n",
            "\n",
            "Doc # 117\n",
            "Topic 0 : 0.4010199447723971\n",
            "Topic 1 : 0.20598656913888433\n",
            "Topic 2 : 0.037627028650096414\n",
            "Topic 3 : 0.036558379764916896\n",
            "Topic 4 : 0.03879661625092826\n",
            "Topic 5 : 0.013441612014417516\n",
            "\n",
            "Doc # 118\n",
            "Topic 0 : 0.28688055891526354\n",
            "Topic 1 : 0.21371078192226348\n",
            "Topic 2 : -0.024244081768797582\n",
            "Topic 3 : 0.028213662014533736\n",
            "Topic 4 : -0.006325313706476766\n",
            "Topic 5 : -0.05419465499099859\n",
            "\n",
            "Doc # 119\n",
            "Topic 0 : 0.29697028172362966\n",
            "Topic 1 : 0.22027416168703773\n",
            "Topic 2 : -0.0689260190922328\n",
            "Topic 3 : 0.057688757843684185\n",
            "Topic 4 : 0.006459098820626546\n",
            "Topic 5 : 0.017096737022154574\n",
            "\n",
            "Doc # 120\n",
            "Topic 0 : 0.22709360585860827\n",
            "Topic 1 : -0.24058423803835888\n",
            "Topic 2 : 0.1528608300300261\n",
            "Topic 3 : 0.1557677097397953\n",
            "Topic 4 : 0.3633955473630227\n",
            "Topic 5 : -0.02401919538130813\n",
            "\n",
            "Doc # 121\n",
            "Topic 0 : 0.15991429424796516\n",
            "Topic 1 : -0.16289492741190523\n",
            "Topic 2 : -0.2415655012071713\n",
            "Topic 3 : -0.02276775870667833\n",
            "Topic 4 : 0.04176316000223504\n",
            "Topic 5 : -0.01250242931783065\n",
            "\n",
            "Doc # 122\n",
            "Topic 0 : 0.24529917233800125\n",
            "Topic 1 : -0.019093125946087433\n",
            "Topic 2 : 0.05431712862848452\n",
            "Topic 3 : -0.12819387251187475\n",
            "Topic 4 : -0.0767585579220492\n",
            "Topic 5 : -0.06277077729221504\n",
            "\n",
            "Doc # 123\n",
            "Topic 0 : 0.304049310194958\n",
            "Topic 1 : 0.18119034961129382\n",
            "Topic 2 : 0.0007964809017775569\n",
            "Topic 3 : -0.06898502590134652\n",
            "Topic 4 : 0.050532263369565664\n",
            "Topic 5 : 0.1711136520150366\n",
            "\n",
            "Doc # 124\n",
            "Topic 0 : 0.24610905664539592\n",
            "Topic 1 : -0.07630702750923893\n",
            "Topic 2 : 0.06984044814903988\n",
            "Topic 3 : -0.235089784639367\n",
            "Topic 4 : 0.01222958626067639\n",
            "Topic 5 : 0.031582344410179125\n",
            "\n",
            "Doc # 125\n",
            "Topic 0 : 0.14246625654855138\n",
            "Topic 1 : -0.07079148476930643\n",
            "Topic 2 : 0.01983932664871635\n",
            "Topic 3 : 0.03141176535039959\n",
            "Topic 4 : -0.07981289403621336\n",
            "Topic 5 : -0.05122603189561444\n",
            "\n",
            "Doc # 126\n",
            "Topic 0 : 0.2014949046159842\n",
            "Topic 1 : 0.14376720629179116\n",
            "Topic 2 : -0.0005051454226186965\n",
            "Topic 3 : 0.05777161975693213\n",
            "Topic 4 : -0.08313329268792824\n",
            "Topic 5 : -0.2778267824145665\n",
            "\n",
            "Doc # 127\n",
            "Topic 0 : 0.20128452118885895\n",
            "Topic 1 : 0.06597946442745542\n",
            "Topic 2 : 0.002754127043552465\n",
            "Topic 3 : 0.03425095623411981\n",
            "Topic 4 : -0.0632857434543794\n",
            "Topic 5 : -0.06330410309679424\n",
            "\n",
            "Doc # 128\n",
            "Topic 0 : 0.1929698456499323\n",
            "Topic 1 : -0.07409352956789639\n",
            "Topic 2 : 0.012905392191805896\n",
            "Topic 3 : -0.08712255415831022\n",
            "Topic 4 : -0.04053017457266568\n",
            "Topic 5 : -0.07641567001314106\n",
            "\n",
            "Doc # 129\n",
            "Topic 0 : 0.22370273077526617\n",
            "Topic 1 : -0.08883825684877353\n",
            "Topic 2 : -0.006247393136655632\n",
            "Topic 3 : -0.07036709713598455\n",
            "Topic 4 : -0.037677200801923376\n",
            "Topic 5 : 0.019608269912985924\n",
            "\n",
            "Doc # 130\n",
            "Topic 0 : 0.18326109989551337\n",
            "Topic 1 : -0.04334840712609024\n",
            "Topic 2 : 0.039917019367565316\n",
            "Topic 3 : -0.15926730218701454\n",
            "Topic 4 : -0.032127904027815866\n",
            "Topic 5 : -0.16335269227240956\n",
            "\n",
            "Doc # 131\n",
            "Topic 0 : 0.2823031516585965\n",
            "Topic 1 : 0.1749576772326224\n",
            "Topic 2 : -0.023276874588761414\n",
            "Topic 3 : -0.06336432445393794\n",
            "Topic 4 : 0.05352278638581804\n",
            "Topic 5 : 0.1950941598284442\n",
            "\n",
            "Doc # 132\n",
            "Topic 0 : 0.2993763725121324\n",
            "Topic 1 : 0.23856939747664554\n",
            "Topic 2 : 0.00772600458195365\n",
            "Topic 3 : 0.11119152040512009\n",
            "Topic 4 : 0.031172655242244912\n",
            "Topic 5 : -0.07203331026322041\n",
            "\n",
            "Doc # 133\n",
            "Topic 0 : 0.2046029670515283\n",
            "Topic 1 : -0.16153135640384944\n",
            "Topic 2 : 0.10710180632406784\n",
            "Topic 3 : 0.12483759850193357\n",
            "Topic 4 : -0.024542150818139978\n",
            "Topic 5 : 0.0841385833049345\n",
            "\n",
            "Doc # 134\n",
            "Topic 0 : 0.19407114927854885\n",
            "Topic 1 : -0.1452328004751664\n",
            "Topic 2 : 0.06435147085366007\n",
            "Topic 3 : 0.044359789749692236\n",
            "Topic 4 : -0.009160603262359861\n",
            "Topic 5 : -0.09792314957599722\n",
            "\n",
            "Doc # 135\n",
            "Topic 0 : 0.2545837450254513\n",
            "Topic 1 : -0.11996725366422195\n",
            "Topic 2 : 0.04536850043327099\n",
            "Topic 3 : 0.04624970343768741\n",
            "Topic 4 : -0.029780871253913963\n",
            "Topic 5 : -0.004413551804895022\n",
            "\n",
            "Doc # 136\n",
            "Topic 0 : 0.2458043757269144\n",
            "Topic 1 : -0.02995976456232465\n",
            "Topic 2 : 0.03197641640773154\n",
            "Topic 3 : -0.11081969474795053\n",
            "Topic 4 : -0.034592406085987785\n",
            "Topic 5 : -0.1308144063022904\n",
            "\n",
            "Doc # 137\n",
            "Topic 0 : 0.13414583625144463\n",
            "Topic 1 : -0.044897537408694836\n",
            "Topic 2 : -0.04566938583569478\n",
            "Topic 3 : -0.017528605937422354\n",
            "Topic 4 : 0.005811087080150028\n",
            "Topic 5 : -0.015061976046082054\n",
            "\n",
            "Doc # 138\n",
            "Topic 0 : 0.2256931938202222\n",
            "Topic 1 : 0.1536075734642398\n",
            "Topic 2 : -0.04393121132043724\n",
            "Topic 3 : 0.031594157197822215\n",
            "Topic 4 : 0.0014486029917839885\n",
            "Topic 5 : -0.21780469540130992\n",
            "\n",
            "Doc # 139\n",
            "Topic 0 : 0.2659285199145769\n",
            "Topic 1 : -0.31451031727026524\n",
            "Topic 2 : 0.16175769626605918\n",
            "Topic 3 : 0.15659015659021036\n",
            "Topic 4 : 0.5320716481958447\n",
            "Topic 5 : -0.041942010327845704\n",
            "\n",
            "Doc # 140\n",
            "Topic 0 : 0.32018537358002636\n",
            "Topic 1 : 0.09811014018551639\n",
            "Topic 2 : 0.03520523851224507\n",
            "Topic 3 : -0.03582890676847658\n",
            "Topic 4 : 0.06279127625028731\n",
            "Topic 5 : 0.11835983938666024\n",
            "\n",
            "Doc # 141\n",
            "Topic 0 : 0.23514599904391265\n",
            "Topic 1 : -0.22949063405527942\n",
            "Topic 2 : -0.5486599817375238\n",
            "Topic 3 : 0.008316068522909528\n",
            "Topic 4 : -0.019639727227982035\n",
            "Topic 5 : 0.0664928142283263\n",
            "\n",
            "Doc # 142\n",
            "Topic 0 : 0.25984376624181177\n",
            "Topic 1 : 0.22337395825355366\n",
            "Topic 2 : -0.0120738786282872\n",
            "Topic 3 : 0.004932071372529261\n",
            "Topic 4 : 0.02138779021257027\n",
            "Topic 5 : 0.03714006441259686\n",
            "\n",
            "Doc # 143\n",
            "Topic 0 : 0.37394556539383195\n",
            "Topic 1 : 0.2860117656367617\n",
            "Topic 2 : -0.009959451553554512\n",
            "Topic 3 : 0.08401597188011688\n",
            "Topic 4 : 0.010909157459003367\n",
            "Topic 5 : -0.07567457285808442\n",
            "\n",
            "Doc # 144\n",
            "Topic 0 : 0.2874384578931447\n",
            "Topic 1 : 0.12219862077234658\n",
            "Topic 2 : 0.04158609363150288\n",
            "Topic 3 : 0.049393470827200504\n",
            "Topic 4 : -0.0034936582638290074\n",
            "Topic 5 : 0.023865565348693076\n",
            "\n",
            "Doc # 145\n",
            "Topic 0 : 0.32312982624950437\n",
            "Topic 1 : -0.13588846999080045\n",
            "Topic 2 : 0.09772990417178055\n",
            "Topic 3 : 0.05161718091265769\n",
            "Topic 4 : 0.24882072810295994\n",
            "Topic 5 : -0.00540052177444177\n",
            "\n",
            "Doc # 146\n",
            "Topic 0 : 0.1917430389123335\n",
            "Topic 1 : -0.07822318224022126\n",
            "Topic 2 : 0.03726543960439591\n",
            "Topic 3 : 0.009881403662279157\n",
            "Topic 4 : 0.05000472560399259\n",
            "Topic 5 : -0.026422777578035912\n",
            "\n",
            "Doc # 147\n",
            "Topic 0 : 0.19214706430259626\n",
            "Topic 1 : 0.07306537157549665\n",
            "Topic 2 : -0.05512347779416014\n",
            "Topic 3 : 0.002182124229161889\n",
            "Topic 4 : 0.014805184616952701\n",
            "Topic 5 : -0.28544968478149646\n",
            "\n",
            "Doc # 148\n",
            "Topic 0 : 0.3639418008538711\n",
            "Topic 1 : 0.11766673155209542\n",
            "Topic 2 : 0.06314215837031192\n",
            "Topic 3 : -0.00898494796855757\n",
            "Topic 4 : -0.07778776254378586\n",
            "Topic 5 : -0.015149837473921554\n",
            "\n",
            "Doc # 149\n",
            "Topic 0 : 0.22506199005847694\n",
            "Topic 1 : -0.16816778602317048\n",
            "Topic 2 : -0.4592423651639978\n",
            "Topic 3 : 0.051066118630462266\n",
            "Topic 4 : -0.04959469269811384\n",
            "Topic 5 : 0.01780049320007191\n",
            "\n",
            "Doc # 150\n",
            "Topic 0 : 0.14537152307592552\n",
            "Topic 1 : 0.007852492870525907\n",
            "Topic 2 : 0.004335495480103204\n",
            "Topic 3 : -0.011821445666540698\n",
            "Topic 4 : 0.007695375537779662\n",
            "Topic 5 : 0.014568611384623856\n",
            "\n",
            "Doc # 151\n",
            "Topic 0 : 0.09376794853425299\n",
            "Topic 1 : -0.0629047039433652\n",
            "Topic 2 : 0.032380383369018904\n",
            "Topic 3 : -0.012298866258769988\n",
            "Topic 4 : -0.0736835921933089\n",
            "Topic 5 : -0.08974322711638116\n",
            "\n",
            "Doc # 152\n",
            "Topic 0 : 0.2250364764257322\n",
            "Topic 1 : -0.20528040475029413\n",
            "Topic 2 : -0.458961332594202\n",
            "Topic 3 : -0.0300684494740105\n",
            "Topic 4 : -0.0518143697288069\n",
            "Topic 5 : 0.07246493956055011\n",
            "\n",
            "Doc # 153\n",
            "Topic 0 : 0.20363131034927073\n",
            "Topic 1 : -0.06683427203693529\n",
            "Topic 2 : 0.04432315730411381\n",
            "Topic 3 : -0.18810661417726443\n",
            "Topic 4 : -0.03904530421220913\n",
            "Topic 5 : -0.24492909831764992\n",
            "\n",
            "Doc # 154\n",
            "Topic 0 : 0.22035088712341927\n",
            "Topic 1 : -0.1713281844022594\n",
            "Topic 2 : -0.30166937949796585\n",
            "Topic 3 : -0.06637718973171028\n",
            "Topic 4 : -0.021456900108814243\n",
            "Topic 5 : 0.05659339482917354\n",
            "\n",
            "Doc # 155\n",
            "Topic 0 : 0.08865986182342651\n",
            "Topic 1 : -0.04982354510416051\n",
            "Topic 2 : -0.0007319797984029084\n",
            "Topic 3 : -0.008925678698397893\n",
            "Topic 4 : -0.05625037271637185\n",
            "Topic 5 : -0.02218098670705357\n",
            "\n",
            "Doc # 156\n",
            "Topic 0 : 0.2540057296539073\n",
            "Topic 1 : 0.1555029554322331\n",
            "Topic 2 : -0.015033763082208973\n",
            "Topic 3 : 0.00420128849947802\n",
            "Topic 4 : -0.05794832814984339\n",
            "Topic 5 : -0.2900108757876559\n",
            "\n",
            "Doc # 157\n",
            "Topic 0 : 0.08209532552799359\n",
            "Topic 1 : -0.03576820340769763\n",
            "Topic 2 : -0.001887714550752416\n",
            "Topic 3 : 0.013916454306180626\n",
            "Topic 4 : -0.06261554991788255\n",
            "Topic 5 : -0.04196582282261801\n",
            "\n",
            "Doc # 158\n",
            "Topic 0 : 0.27300501346138495\n",
            "Topic 1 : 0.14198650812520985\n",
            "Topic 2 : 0.003286163984043442\n",
            "Topic 3 : 0.06081064849581306\n",
            "Topic 4 : -0.017950849441884898\n",
            "Topic 5 : -0.04883348960562523\n",
            "\n",
            "Doc # 159\n",
            "Topic 0 : 0.157938645322053\n",
            "Topic 1 : -0.08433274450674569\n",
            "Topic 2 : 0.014770894336383723\n",
            "Topic 3 : 0.07424595835672503\n",
            "Topic 4 : -0.11123035216342003\n",
            "Topic 5 : 0.007065968843066469\n",
            "\n",
            "Doc # 160\n",
            "Topic 0 : 0.1406835447912736\n",
            "Topic 1 : 0.020263635160041232\n",
            "Topic 2 : -0.02958078854993212\n",
            "Topic 3 : -0.03702747798462273\n",
            "Topic 4 : 0.009625890210559153\n",
            "Topic 5 : 0.0714986470835095\n",
            "\n",
            "Doc # 161\n",
            "Topic 0 : 0.1651325406144816\n",
            "Topic 1 : 0.030412264110202647\n",
            "Topic 2 : -0.08589120737396488\n",
            "Topic 3 : -0.054423996724273095\n",
            "Topic 4 : 0.0020872889162728073\n",
            "Topic 5 : 0.07787716263807895\n",
            "\n",
            "Doc # 162\n",
            "Topic 0 : 0.23022049799707123\n",
            "Topic 1 : -0.2199099652356516\n",
            "Topic 2 : 0.08285340913045909\n",
            "Topic 3 : 0.1061273317722683\n",
            "Topic 4 : 0.3049606435133808\n",
            "Topic 5 : -0.08329140175206601\n",
            "\n",
            "Doc # 163\n",
            "Topic 0 : 0.21991740286630895\n",
            "Topic 1 : -0.10016665912668933\n",
            "Topic 2 : 0.017549985850148917\n",
            "Topic 3 : -0.07710879136648302\n",
            "Topic 4 : -0.07774940329044934\n",
            "Topic 5 : 0.0391429160131125\n",
            "\n",
            "Doc # 164\n",
            "Topic 0 : 0.2612936820456402\n",
            "Topic 1 : -0.007636071130133605\n",
            "Topic 2 : 0.029869998293533068\n",
            "Topic 3 : -0.021351735316108667\n",
            "Topic 4 : -0.046945205210583194\n",
            "Topic 5 : -0.06609404716538955\n",
            "\n",
            "Doc # 165\n",
            "Topic 0 : 0.15388958458378532\n",
            "Topic 1 : -0.055264638934989965\n",
            "Topic 2 : 0.03706003631758989\n",
            "Topic 3 : -0.0935813236651715\n",
            "Topic 4 : -0.018210779092119572\n",
            "Topic 5 : -0.09123822662802943\n",
            "\n",
            "Doc # 166\n",
            "Topic 0 : 0.12522494770714565\n",
            "Topic 1 : 0.0035322864406144563\n",
            "Topic 2 : 0.0023624498458176472\n",
            "Topic 3 : -0.016370842226346972\n",
            "Topic 4 : -0.010247854503156155\n",
            "Topic 5 : -0.0634435055264489\n",
            "\n",
            "Doc # 167\n",
            "Topic 0 : 0.22913600138125087\n",
            "Topic 1 : 0.0630952884111562\n",
            "Topic 2 : 0.041627483227301094\n",
            "Topic 3 : -0.059315830401014506\n",
            "Topic 4 : -0.007726995611545731\n",
            "Topic 5 : 0.037827843698396\n",
            "\n",
            "Doc # 168\n",
            "Topic 0 : 0.22303874475276825\n",
            "Topic 1 : -0.09577728760892312\n",
            "Topic 2 : 0.05296811102111389\n",
            "Topic 3 : -0.20740405118747976\n",
            "Topic 4 : -0.029830443601321793\n",
            "Topic 5 : -0.26076413739952564\n",
            "\n",
            "Doc # 169\n",
            "Topic 0 : 0.18093424494034863\n",
            "Topic 1 : -0.02811645033236011\n",
            "Topic 2 : 0.022139247211053974\n",
            "Topic 3 : -0.17874269780967608\n",
            "Topic 4 : -0.028487478025953965\n",
            "Topic 5 : -0.16579258400959127\n",
            "\n",
            "Doc # 170\n",
            "Topic 0 : 0.2569285796267245\n",
            "Topic 1 : -0.15462071377720135\n",
            "Topic 2 : 0.12612603813586465\n",
            "Topic 3 : -0.4155954457311143\n",
            "Topic 4 : -0.031103104784918335\n",
            "Topic 5 : 0.03638673877252151\n",
            "\n",
            "Doc # 171\n",
            "Topic 0 : 0.21676549761477792\n",
            "Topic 1 : -0.09042251977385705\n",
            "Topic 2 : 0.07003510304548745\n",
            "Topic 3 : -0.19172574577463877\n",
            "Topic 4 : -0.042211011825529214\n",
            "Topic 5 : -0.051332844741380015\n",
            "\n",
            "Doc # 172\n",
            "Topic 0 : 0.27511800266451336\n",
            "Topic 1 : 0.16787650286566094\n",
            "Topic 2 : -0.015969647249651664\n",
            "Topic 3 : -0.09334572729391102\n",
            "Topic 4 : 0.07607024254137185\n",
            "Topic 5 : 0.2961759962031055\n",
            "\n",
            "Doc # 173\n",
            "Topic 0 : 0.1091438358888268\n",
            "Topic 1 : -0.04983455519560102\n",
            "Topic 2 : 0.00642386692870737\n",
            "Topic 3 : 0.026463636173790082\n",
            "Topic 4 : -0.0898003111081784\n",
            "Topic 5 : -0.08118268479345668\n",
            "\n",
            "Doc # 174\n",
            "Topic 0 : 0.23755726712741115\n",
            "Topic 1 : 0.17828298860808214\n",
            "Topic 2 : -0.008046916159835087\n",
            "Topic 3 : 0.07455668901091944\n",
            "Topic 4 : -0.031137722882585653\n",
            "Topic 5 : -0.11670674763638315\n",
            "\n",
            "Doc # 175\n",
            "Topic 0 : 0.13913765385662316\n",
            "Topic 1 : -0.011132399245133573\n",
            "Topic 2 : -0.037598198850769586\n",
            "Topic 3 : -0.08586158521706314\n",
            "Topic 4 : 0.0225932952405293\n",
            "Topic 5 : -0.259248991903483\n",
            "\n",
            "Doc # 176\n",
            "Topic 0 : 0.3234984827950475\n",
            "Topic 1 : 0.08833588049706213\n",
            "Topic 2 : 0.03916410268888578\n",
            "Topic 3 : -0.1136808214833438\n",
            "Topic 4 : -0.009373297798161099\n",
            "Topic 5 : -0.03351876978348278\n",
            "\n",
            "Doc # 177\n",
            "Topic 0 : 0.29928613959273875\n",
            "Topic 1 : -0.2594525929962414\n",
            "Topic 2 : 0.21538742826144466\n",
            "Topic 3 : 0.2357052117939936\n",
            "Topic 4 : -0.30471765888147817\n",
            "Topic 5 : 0.14767966378727196\n",
            "\n",
            "Doc # 178\n",
            "Topic 0 : 0.2693375046314989\n",
            "Topic 1 : 0.17285372763689863\n",
            "Topic 2 : 0.0020582531372877366\n",
            "Topic 3 : 0.00835528623644832\n",
            "Topic 4 : 0.04269422347062098\n",
            "Topic 5 : 0.00038824745260705485\n",
            "\n",
            "Doc # 179\n",
            "Topic 0 : 0.17839712565150082\n",
            "Topic 1 : -0.008507575050810184\n",
            "Topic 2 : -5.9465766482029824e-05\n",
            "Topic 3 : -0.0380877816063758\n",
            "Topic 4 : -0.018674513179614598\n",
            "Topic 5 : 0.024857439696906913\n",
            "\n",
            "Doc # 180\n",
            "Topic 0 : 0.17272113177401816\n",
            "Topic 1 : -0.08646729871947352\n",
            "Topic 2 : 0.04332552159565848\n",
            "Topic 3 : -0.043059976402793576\n",
            "Topic 4 : -0.0035660644123162843\n",
            "Topic 5 : -0.018584208698451166\n",
            "\n",
            "Doc # 181\n",
            "Topic 0 : 0.24604504429078167\n",
            "Topic 1 : -0.2639948757923616\n",
            "Topic 2 : 0.22889448933847192\n",
            "Topic 3 : 0.2506355610490559\n",
            "Topic 4 : -0.26736178011547984\n",
            "Topic 5 : 0.18570486463074015\n",
            "\n",
            "Doc # 182\n",
            "Topic 0 : 0.16053658877565127\n",
            "Topic 1 : 0.11015132721716786\n",
            "Topic 2 : -0.010795632483274201\n",
            "Topic 3 : 0.03816013758296306\n",
            "Topic 4 : -0.0739147010920237\n",
            "Topic 5 : -0.2358815049374106\n",
            "\n",
            "Doc # 183\n",
            "Topic 0 : 0.3423998571934444\n",
            "Topic 1 : 0.24266826918867132\n",
            "Topic 2 : -0.0357531019383973\n",
            "Topic 3 : 0.061877774312161585\n",
            "Topic 4 : 0.01489720627024591\n",
            "Topic 5 : -0.12646185551186329\n",
            "\n",
            "Doc # 184\n",
            "Topic 0 : 0.2329727481382067\n",
            "Topic 1 : -0.07191181489117184\n",
            "Topic 2 : 0.06866014447479885\n",
            "Topic 3 : -0.30354803122779406\n",
            "Topic 4 : 0.010762521064920153\n",
            "Topic 5 : 0.04518558676467658\n",
            "\n",
            "Doc # 185\n",
            "Topic 0 : 0.32350118219726626\n",
            "Topic 1 : -0.0007434897695738081\n",
            "Topic 2 : 0.056599716196842204\n",
            "Topic 3 : -0.028921385171532143\n",
            "Topic 4 : 0.01647906698552908\n",
            "Topic 5 : 0.025130161158801876\n",
            "\n",
            "Doc # 186\n",
            "Topic 0 : 0.3810927554000134\n",
            "Topic 1 : 0.28018092414350415\n",
            "Topic 2 : -0.026980926686126432\n",
            "Topic 3 : -0.07332038839208324\n",
            "Topic 4 : 0.04999605745061373\n",
            "Topic 5 : 0.1916198565485796\n",
            "\n",
            "Doc # 187\n",
            "Topic 0 : 0.14684273466137707\n",
            "Topic 1 : -0.0401856698365441\n",
            "Topic 2 : 0.04127947918838124\n",
            "Topic 3 : 0.029456886414260572\n",
            "Topic 4 : -0.07955277607506048\n",
            "Topic 5 : -0.00797686766293355\n",
            "\n",
            "Doc # 188\n",
            "Topic 0 : 0.1924405058956581\n",
            "Topic 1 : -0.06348132101255924\n",
            "Topic 2 : 0.023956838029328596\n",
            "Topic 3 : -0.05390837416297122\n",
            "Topic 4 : -0.04424081193439952\n",
            "Topic 5 : 0.013729302487604761\n",
            "\n",
            "Doc # 189\n",
            "Topic 0 : 0.2664204866736999\n",
            "Topic 1 : -0.03991813906190369\n",
            "Topic 2 : 0.007945197665919446\n",
            "Topic 3 : 0.003190936148059196\n",
            "Topic 4 : 0.08112563083485645\n",
            "Topic 5 : 0.13451981566352197\n",
            "\n",
            "Doc # 190\n",
            "Topic 0 : 0.35214291009286336\n",
            "Topic 1 : 0.28970694371961675\n",
            "Topic 2 : -0.018954494953605766\n",
            "Topic 3 : 0.10858042565239767\n",
            "Topic 4 : 0.005339182794791854\n",
            "Topic 5 : -0.054046344285427435\n",
            "\n",
            "Doc # 191\n",
            "Topic 0 : 0.14038338619914223\n",
            "Topic 1 : 0.07092310950697758\n",
            "Topic 2 : -0.01731448594225101\n",
            "Topic 3 : -0.015058222157074379\n",
            "Topic 4 : -0.0037778282836828\n",
            "Topic 5 : -0.021572942350367174\n",
            "\n",
            "Doc # 192\n",
            "Topic 0 : 0.2908623292126777\n",
            "Topic 1 : -0.15680882514792432\n",
            "Topic 2 : 0.1372378495377926\n",
            "Topic 3 : -0.24672166491319075\n",
            "Topic 4 : -0.09729108624549926\n",
            "Topic 5 : 0.08770040779050779\n",
            "\n",
            "Doc # 193\n",
            "Topic 0 : 0.26770521489882537\n",
            "Topic 1 : -0.2666815787713392\n",
            "Topic 2 : 0.12431813425333149\n",
            "Topic 3 : 0.1272480283188044\n",
            "Topic 4 : 0.2861805487100351\n",
            "Topic 5 : -0.02685094178260488\n",
            "\n",
            "Doc # 194\n",
            "Topic 0 : 0.1331538008349009\n",
            "Topic 1 : -0.04119941975433876\n",
            "Topic 2 : 0.017474403241830416\n",
            "Topic 3 : 0.005816246617598605\n",
            "Topic 4 : -0.022555226865494903\n",
            "Topic 5 : -0.04655430819499382\n",
            "\n",
            "Doc # 195\n",
            "Topic 0 : 0.18376253812224047\n",
            "Topic 1 : -0.10651248255353025\n",
            "Topic 2 : -0.16467143424365843\n",
            "Topic 3 : 0.02938057413454879\n",
            "Topic 4 : -0.016123528708167943\n",
            "Topic 5 : 0.011250345686224556\n",
            "\n",
            "Doc # 196\n",
            "Topic 0 : 0.217684197858629\n",
            "Topic 1 : -0.19537659934349652\n",
            "Topic 2 : 0.13010984409366633\n",
            "Topic 3 : 0.09108194464914937\n",
            "Topic 4 : 0.3617431906445481\n",
            "Topic 5 : -0.03156378058298258\n",
            "\n",
            "Doc # 197\n",
            "Topic 0 : 0.2873708938420273\n",
            "Topic 1 : 0.24652877691913247\n",
            "Topic 2 : -0.04003561665903858\n",
            "Topic 3 : 0.07777899576297564\n",
            "Topic 4 : 0.008812922561013783\n",
            "Topic 5 : -0.04835901786910504\n",
            "\n",
            "Doc # 198\n",
            "Topic 0 : 0.1794848847557395\n",
            "Topic 1 : -0.14962796328142766\n",
            "Topic 2 : -0.4283740591117298\n",
            "Topic 3 : 0.015674875616500286\n",
            "Topic 4 : -0.012078930782077836\n",
            "Topic 5 : 0.023187835375770127\n",
            "\n",
            "Doc # 199\n",
            "Topic 0 : 0.17225627647773561\n",
            "Topic 1 : -0.13478222509742563\n",
            "Topic 2 : -0.18498642509689686\n",
            "Topic 3 : -0.018214421562849466\n",
            "Topic 4 : 0.011099878009817793\n",
            "Topic 5 : -0.029216682668832768\n",
            "\n",
            "Doc # 200\n",
            "Topic 0 : 0.2389728085873199\n",
            "Topic 1 : -0.20551351485304287\n",
            "Topic 2 : 0.11132784088476373\n",
            "Topic 3 : 0.0989146400037079\n",
            "Topic 4 : 0.2643616817028521\n",
            "Topic 5 : -0.12081251689973202\n",
            "\n",
            "Doc # 201\n",
            "Topic 0 : 0.25836949690924427\n",
            "Topic 1 : -0.06580513519829805\n",
            "Topic 2 : 0.06402179704772205\n",
            "Topic 3 : -0.10651127911858202\n",
            "Topic 4 : -0.05829382197699433\n",
            "Topic 5 : -0.07118623697296116\n",
            "\n",
            "Doc # 202\n",
            "Topic 0 : 0.29690537734579525\n",
            "Topic 1 : -0.33987813763442465\n",
            "Topic 2 : -0.3605660723470363\n",
            "Topic 3 : 0.06271679720538172\n",
            "Topic 4 : 0.14448950101956334\n",
            "Topic 5 : 0.0009083485057126704\n",
            "\n",
            "Doc # 203\n",
            "Topic 0 : 0.20685973930731322\n",
            "Topic 1 : 0.050275478662773904\n",
            "Topic 2 : -0.05605039418907079\n",
            "Topic 3 : -0.028086548134025686\n",
            "Topic 4 : 0.013547042895352628\n",
            "Topic 5 : 0.09086987013590848\n",
            "\n",
            "Doc # 204\n",
            "Topic 0 : 0.20237483842185552\n",
            "Topic 1 : -0.21727786898953813\n",
            "Topic 2 : 0.13487996050433743\n",
            "Topic 3 : 0.10542726659978933\n",
            "Topic 4 : 0.2768970939162838\n",
            "Topic 5 : -0.03965437026540231\n",
            "\n",
            "Doc # 205\n",
            "Topic 0 : 0.18507731304857258\n",
            "Topic 1 : -0.007792733994156346\n",
            "Topic 2 : 0.06598497030526702\n",
            "Topic 3 : -0.09248757879272587\n",
            "Topic 4 : 0.036371262673279295\n",
            "Topic 5 : -0.03483894576885667\n",
            "\n",
            "Doc # 206\n",
            "Topic 0 : 0.2008120757646916\n",
            "Topic 1 : 0.09599280405921956\n",
            "Topic 2 : 0.0003031430982054785\n",
            "Topic 3 : -0.07886884213736498\n",
            "Topic 4 : 0.029887187092999357\n",
            "Topic 5 : -0.0023273132727481233\n",
            "\n",
            "Doc # 207\n",
            "Topic 0 : 0.21458994952366944\n",
            "Topic 1 : -0.14462884383088576\n",
            "Topic 2 : 0.17085536379323019\n",
            "Topic 3 : 0.1347830714162456\n",
            "Topic 4 : -0.15310372916527568\n",
            "Topic 5 : 0.1553833197022407\n",
            "\n",
            "Doc # 208\n",
            "Topic 0 : 0.23158392913152312\n",
            "Topic 1 : 0.034284771130832135\n",
            "Topic 2 : -0.0323192266506113\n",
            "Topic 3 : -0.09252742554211867\n",
            "Topic 4 : 0.027413123316582064\n",
            "Topic 5 : -0.10942167300832518\n",
            "\n",
            "Doc # 209\n",
            "Topic 0 : 0.29382281645565966\n",
            "Topic 1 : 0.16166977208841457\n",
            "Topic 2 : 0.046247583575626826\n",
            "Topic 3 : 0.10443011304431118\n",
            "Topic 4 : 0.053671053537519775\n",
            "Topic 5 : 0.038936362768423806\n",
            "\n",
            "Doc # 210\n",
            "Topic 0 : 0.09707462812037379\n",
            "Topic 1 : -0.029691304143625703\n",
            "Topic 2 : 0.006468922277934574\n",
            "Topic 3 : -0.05202553180836353\n",
            "Topic 4 : 0.010179102496813613\n",
            "Topic 5 : -0.028833283079732618\n",
            "\n",
            "Doc # 211\n",
            "Topic 0 : 0.12688394727459246\n",
            "Topic 1 : -0.11790860479047191\n",
            "Topic 2 : -0.3549440386022397\n",
            "Topic 3 : 0.01869755185432545\n",
            "Topic 4 : -0.03292326964858531\n",
            "Topic 5 : 0.012822935355597665\n",
            "\n",
            "Doc # 212\n",
            "Topic 0 : 0.32029537947738435\n",
            "Topic 1 : -0.006533917971724099\n",
            "Topic 2 : 0.0917877659905127\n",
            "Topic 3 : 0.037068154022778334\n",
            "Topic 4 : -0.1186089383202443\n",
            "Topic 5 : 0.04596688967229229\n",
            "\n",
            "Doc # 213\n",
            "Topic 0 : 0.22137319025688484\n",
            "Topic 1 : 0.12877810072835746\n",
            "Topic 2 : -0.017806133659734467\n",
            "Topic 3 : 0.10270131347709438\n",
            "Topic 4 : -0.09016687346025984\n",
            "Topic 5 : -0.29757973517823766\n",
            "\n",
            "Doc # 214\n",
            "Topic 0 : 0.24580271479395052\n",
            "Topic 1 : 0.12762903026082106\n",
            "Topic 2 : 0.012151372268774097\n",
            "Topic 3 : 0.08097292731617833\n",
            "Topic 4 : -0.06425864024677896\n",
            "Topic 5 : -0.14698906359824618\n",
            "\n",
            "Doc # 215\n",
            "Topic 0 : 0.16559646059077018\n",
            "Topic 1 : -0.07158161874199262\n",
            "Topic 2 : 0.07529433254992048\n",
            "Topic 3 : -0.2562515908490015\n",
            "Topic 4 : -0.005957161915836897\n",
            "Topic 5 : 0.006094491414348952\n",
            "\n",
            "Doc # 216\n",
            "Topic 0 : 0.43276605349596897\n",
            "Topic 1 : 0.28520695011556013\n",
            "Topic 2 : -0.0046168613030383235\n",
            "Topic 3 : 0.04287191335641441\n",
            "Topic 4 : 0.03753590320160271\n",
            "Topic 5 : 0.04793731268150349\n",
            "\n",
            "Doc # 217\n",
            "Topic 0 : 0.1378232418120756\n",
            "Topic 1 : -0.11702579913100865\n",
            "Topic 2 : -0.3070791381627676\n",
            "Topic 3 : -0.03645652845049606\n",
            "Topic 4 : -0.025677676677719686\n",
            "Topic 5 : 0.049558325584143206\n",
            "\n",
            "Doc # 218\n",
            "Topic 0 : 0.22063839748159736\n",
            "Topic 1 : -0.23970807243794165\n",
            "Topic 2 : 0.20193417515601472\n",
            "Topic 3 : 0.24243031438064203\n",
            "Topic 4 : -0.2449962449399738\n",
            "Topic 5 : 0.19362170865448336\n",
            "\n",
            "Doc # 219\n",
            "Topic 0 : 0.28141096819433453\n",
            "Topic 1 : 0.28597746078835173\n",
            "Topic 2 : -0.03175894461061873\n",
            "Topic 3 : 0.032805995411292754\n",
            "Topic 4 : 0.047759740269798304\n",
            "Topic 5 : 0.047714503453075874\n",
            "\n",
            "Doc # 220\n",
            "Topic 0 : 0.27596323368384734\n",
            "Topic 1 : -0.003159351032212171\n",
            "Topic 2 : -0.0026919197527401095\n",
            "Topic 3 : 0.0945757146883268\n",
            "Topic 4 : -0.08503824746455776\n",
            "Topic 5 : 0.16587114679255227\n",
            "\n",
            "Doc # 221\n",
            "Topic 0 : 0.20033143528727182\n",
            "Topic 1 : -0.14290138727653093\n",
            "Topic 2 : -0.3291738704885121\n",
            "Topic 3 : -0.02365127143905714\n",
            "Topic 4 : -0.03697118308704479\n",
            "Topic 5 : 0.017200093451131174\n",
            "\n",
            "Doc # 222\n",
            "Topic 0 : 0.23260655028787044\n",
            "Topic 1 : -0.1547617546848938\n",
            "Topic 2 : 0.1178899694534002\n",
            "Topic 3 : 0.06488360978219115\n",
            "Topic 4 : 0.08216798693460668\n",
            "Topic 5 : 0.013187983342743967\n",
            "\n",
            "Doc # 223\n",
            "Topic 0 : 0.346276692561932\n",
            "Topic 1 : 0.15928501347091759\n",
            "Topic 2 : -0.017760830872600206\n",
            "Topic 3 : 0.03332370148432873\n",
            "Topic 4 : 0.03314491425723958\n",
            "Topic 5 : 0.01205854062700008\n",
            "\n",
            "Doc # 224\n",
            "Topic 0 : 0.1483271391187703\n",
            "Topic 1 : -0.1370126392597371\n",
            "Topic 2 : -0.3540739010854068\n",
            "Topic 3 : 0.014977508925105382\n",
            "Topic 4 : -0.018462883805980067\n",
            "Topic 5 : 0.027866575434725104\n",
            "\n",
            "Doc # 225\n",
            "Topic 0 : 0.23142174735577062\n",
            "Topic 1 : -0.2770259708064817\n",
            "Topic 2 : 0.14377157118702988\n",
            "Topic 3 : 0.19610175765755603\n",
            "Topic 4 : 0.39513636569422544\n",
            "Topic 5 : -0.06110558479648495\n",
            "\n",
            "Doc # 226\n",
            "Topic 0 : 0.17921523982508764\n",
            "Topic 1 : 0.01941674995574127\n",
            "Topic 2 : -0.10251752033585972\n",
            "Topic 3 : 0.014520546619651872\n",
            "Topic 4 : -0.011868905262050916\n",
            "Topic 5 : 0.10414392224267244\n",
            "\n",
            "Doc # 227\n",
            "Topic 0 : 0.29002384274694704\n",
            "Topic 1 : 0.209730001997436\n",
            "Topic 2 : -0.010697248228901791\n",
            "Topic 3 : 0.07870583784971516\n",
            "Topic 4 : -0.04617787701112045\n",
            "Topic 5 : -0.22880000331358114\n",
            "\n",
            "Doc # 228\n",
            "Topic 0 : 0.2958189279059976\n",
            "Topic 1 : -0.03685085929755343\n",
            "Topic 2 : 0.10745615451982404\n",
            "Topic 3 : -0.20532101925755672\n",
            "Topic 4 : 0.0005212332155288752\n",
            "Topic 5 : 0.007220819892314817\n",
            "\n",
            "Doc # 229\n",
            "Topic 0 : 0.2915288194754829\n",
            "Topic 1 : -0.21780154357730455\n",
            "Topic 2 : 0.13350272262804067\n",
            "Topic 3 : 0.2108768974303173\n",
            "Topic 4 : -0.12786030245415486\n",
            "Topic 5 : 0.15172914502713888\n",
            "\n",
            "Doc # 230\n",
            "Topic 0 : 0.11857364585280457\n",
            "Topic 1 : -0.036068037886015925\n",
            "Topic 2 : 0.015436538750828566\n",
            "Topic 3 : -0.024211487590526572\n",
            "Topic 4 : -0.0304167773866492\n",
            "Topic 5 : -0.039578980671110556\n",
            "\n",
            "Doc # 231\n",
            "Topic 0 : 0.09963006240746061\n",
            "Topic 1 : -0.07238739152857877\n",
            "Topic 2 : -0.1509620851692469\n",
            "Topic 3 : -0.020295447400779727\n",
            "Topic 4 : -0.006847458206630012\n",
            "Topic 5 : -0.01308521079043855\n",
            "\n",
            "Doc # 232\n",
            "Topic 0 : 0.2085645253773673\n",
            "Topic 1 : -0.0783660406019976\n",
            "Topic 2 : 0.05617201147369967\n",
            "Topic 3 : -0.19772691657761557\n",
            "Topic 4 : -0.002744622724554273\n",
            "Topic 5 : -0.15281465097587585\n",
            "\n",
            "Doc # 233\n",
            "Topic 0 : 0.1346774632056399\n",
            "Topic 1 : 0.08768708597087219\n",
            "Topic 2 : -0.008624307439350097\n",
            "Topic 3 : -0.017912751750771342\n",
            "Topic 4 : -0.050329322268171266\n",
            "Topic 5 : -0.17130565448102117\n",
            "\n",
            "Doc # 234\n",
            "Topic 0 : 0.21211164286415812\n",
            "Topic 1 : -0.12733057681752244\n",
            "Topic 2 : -0.020378717378649994\n",
            "Topic 3 : 0.04233299343135923\n",
            "Topic 4 : 0.17513188974064064\n",
            "Topic 5 : -0.05001500610727515\n",
            "\n",
            "Doc # 235\n",
            "Topic 0 : 0.20748843770604422\n",
            "Topic 1 : -0.05599572014079621\n",
            "Topic 2 : -0.050057352771941406\n",
            "Topic 3 : -0.09942202769960795\n",
            "Topic 4 : -0.03680608057097133\n",
            "Topic 5 : -0.1562904240858958\n",
            "\n",
            "Doc # 236\n",
            "Topic 0 : 0.22814594206554153\n",
            "Topic 1 : -0.1287786324696862\n",
            "Topic 2 : 0.08897037405746658\n",
            "Topic 3 : -0.010822932922944284\n",
            "Topic 4 : 0.04701414262139012\n",
            "Topic 5 : 0.0063434595568283535\n",
            "\n",
            "Doc # 237\n",
            "Topic 0 : 0.2560392771181097\n",
            "Topic 1 : -0.0835010691513709\n",
            "Topic 2 : -0.15333582708233862\n",
            "Topic 3 : -0.0034538820739634223\n",
            "Topic 4 : -0.026788356721809674\n",
            "Topic 5 : 0.03830520985251231\n",
            "\n",
            "Doc # 238\n",
            "Topic 0 : 0.2794960704500521\n",
            "Topic 1 : -0.1547813989342286\n",
            "Topic 2 : 0.10401196451468352\n",
            "Topic 3 : 0.053717707047163735\n",
            "Topic 4 : -0.17672833363131488\n",
            "Topic 5 : 0.11285430355070024\n",
            "\n",
            "Doc # 239\n",
            "Topic 0 : 0.2660737834402223\n",
            "Topic 1 : -0.2882764800607698\n",
            "Topic 2 : 0.1941715331022231\n",
            "Topic 3 : 0.13479923775130898\n",
            "Topic 4 : 0.37912130387435916\n",
            "Topic 5 : 0.003400891882803711\n",
            "\n",
            "Doc # 240\n",
            "Topic 0 : 0.37004275185836366\n",
            "Topic 1 : 0.19218314005482803\n",
            "Topic 2 : 0.008175441179160818\n",
            "Topic 3 : 0.04160424854540588\n",
            "Topic 4 : 0.007373430364925306\n",
            "Topic 5 : -0.04605132710414999\n",
            "\n",
            "Doc # 241\n",
            "Topic 0 : 0.255157906994572\n",
            "Topic 1 : -0.10898005853529202\n",
            "Topic 2 : 0.06004152625817417\n",
            "Topic 3 : -0.3488328793877815\n",
            "Topic 4 : -0.011975320266630335\n",
            "Topic 5 : -0.00022377830075560285\n",
            "\n",
            "Doc # 242\n",
            "Topic 0 : 0.1854292550442216\n",
            "Topic 1 : -0.10139155881343483\n",
            "Topic 2 : 0.024388566946314413\n",
            "Topic 3 : -0.1405384679193502\n",
            "Topic 4 : -0.00822468515783929\n",
            "Topic 5 : -0.18419684173614026\n",
            "\n",
            "Doc # 243\n",
            "Topic 0 : 0.3596215104008483\n",
            "Topic 1 : -0.05077414647447619\n",
            "Topic 2 : 0.0796231043619549\n",
            "Topic 3 : 0.11288959287585885\n",
            "Topic 4 : -0.16099834072814537\n",
            "Topic 5 : 0.05898153205451728\n",
            "\n",
            "Doc # 244\n",
            "Topic 0 : 0.2603154835235425\n",
            "Topic 1 : 0.11064210638413254\n",
            "Topic 2 : -0.00405558445759322\n",
            "Topic 3 : 0.035149064653340285\n",
            "Topic 4 : 0.006407724184904879\n",
            "Topic 5 : -0.023552824791515513\n",
            "\n",
            "Doc # 245\n",
            "Topic 0 : 0.19497420084183015\n",
            "Topic 1 : -0.107682945294108\n",
            "Topic 2 : -0.0033319219538998834\n",
            "Topic 3 : 0.06245137922439832\n",
            "Topic 4 : -0.126107030299875\n",
            "Topic 5 : -0.02652536230770767\n",
            "\n",
            "Doc # 246\n",
            "Topic 0 : 0.26027029401904667\n",
            "Topic 1 : -0.041061368128527204\n",
            "Topic 2 : 0.021857519972474607\n",
            "Topic 3 : -0.00600798595258478\n",
            "Topic 4 : -0.057566058688780786\n",
            "Topic 5 : 0.016969078153220424\n",
            "\n",
            "Doc # 247\n",
            "Topic 0 : 0.1775052319598123\n",
            "Topic 1 : -0.1477491580486745\n",
            "Topic 2 : -0.06689676841750924\n",
            "Topic 3 : 0.048820097371852056\n",
            "Topic 4 : 0.04468986952010362\n",
            "Topic 5 : 0.011072526492251548\n",
            "\n",
            "Doc # 248\n",
            "Topic 0 : 0.38335261715068725\n",
            "Topic 1 : 0.21236775217419318\n",
            "Topic 2 : 0.023912217247786034\n",
            "Topic 3 : 0.12442967112795433\n",
            "Topic 4 : -0.056882559892623606\n",
            "Topic 5 : -0.08220720763277063\n",
            "\n",
            "Doc # 249\n",
            "Topic 0 : 0.10098443613492207\n",
            "Topic 1 : -0.022229914230387702\n",
            "Topic 2 : -0.008081573952661793\n",
            "Topic 3 : -0.0094235539133533\n",
            "Topic 4 : -0.011092560074893731\n",
            "Topic 5 : -0.007286908564632248\n",
            "\n",
            "Doc # 250\n",
            "Topic 0 : 0.14098444674370733\n",
            "Topic 1 : -0.08278208024688992\n",
            "Topic 2 : -0.16190670463803314\n",
            "Topic 3 : -0.0040413303436208905\n",
            "Topic 4 : 0.01064000235370589\n",
            "Topic 5 : -0.02206480725817906\n",
            "\n",
            "Doc # 251\n",
            "Topic 0 : 0.3219286520258449\n",
            "Topic 1 : 0.31045584485827954\n",
            "Topic 2 : -0.03420083155565463\n",
            "Topic 3 : -0.025671278570113067\n",
            "Topic 4 : 0.09530979227081582\n",
            "Topic 5 : 0.24567165071793975\n",
            "\n",
            "Doc # 252\n",
            "Topic 0 : 0.14780064708886972\n",
            "Topic 1 : -0.01978462198511119\n",
            "Topic 2 : -0.057594127749380185\n",
            "Topic 3 : 0.02540044547007423\n",
            "Topic 4 : -0.017287558834989444\n",
            "Topic 5 : 0.06291404218658227\n",
            "\n",
            "Doc # 253\n",
            "Topic 0 : 0.26683377316911877\n",
            "Topic 1 : -0.19069593521098055\n",
            "Topic 2 : 0.08185069442681062\n",
            "Topic 3 : 0.0793747146195676\n",
            "Topic 4 : 0.3155761309458887\n",
            "Topic 5 : -0.09506588412538514\n",
            "\n",
            "Doc # 254\n",
            "Topic 0 : 0.35197063691794833\n",
            "Topic 1 : 0.11745481117177363\n",
            "Topic 2 : 0.08042338671845593\n",
            "Topic 3 : 0.0714495535745621\n",
            "Topic 4 : 0.12691433352843115\n",
            "Topic 5 : 0.10739446909589842\n",
            "\n",
            "Doc # 255\n",
            "Topic 0 : 0.13379081179942415\n",
            "Topic 1 : 0.05053912864139686\n",
            "Topic 2 : -0.0008733982318267537\n",
            "Topic 3 : -0.008281057296032578\n",
            "Topic 4 : -0.025451439147631844\n",
            "Topic 5 : -0.01636608338118649\n",
            "\n",
            "Doc # 256\n",
            "Topic 0 : 0.19613858359515557\n",
            "Topic 1 : -0.15890918383314193\n",
            "Topic 2 : 0.12785027861601628\n",
            "Topic 3 : -0.41133345711648966\n",
            "Topic 4 : -0.02161975798700637\n",
            "Topic 5 : -0.002406075765713721\n",
            "\n",
            "Doc # 257\n",
            "Topic 0 : 0.35411867399282454\n",
            "Topic 1 : 0.19039371922811868\n",
            "Topic 2 : -0.008045173379434662\n",
            "Topic 3 : 0.02949987703434772\n",
            "Topic 4 : 0.01838311701278918\n",
            "Topic 5 : 0.047225477355591336\n",
            "\n",
            "Doc # 258\n",
            "Topic 0 : 0.1847740791497078\n",
            "Topic 1 : -0.048933815058093036\n",
            "Topic 2 : 0.01201793403566981\n",
            "Topic 3 : 0.029480407459746488\n",
            "Topic 4 : -0.09355023368818528\n",
            "Topic 5 : -0.051304396603157276\n",
            "\n",
            "Doc # 259\n",
            "Topic 0 : 0.18407060038786457\n",
            "Topic 1 : -0.10034687205398046\n",
            "Topic 2 : -0.2253894254364356\n",
            "Topic 3 : -0.013817018066122545\n",
            "Topic 4 : -0.0045940414384837945\n",
            "Topic 5 : 0.02664950641154085\n",
            "\n",
            "Doc # 260\n",
            "Topic 0 : 0.414265969263419\n",
            "Topic 1 : 0.2404607009427873\n",
            "Topic 2 : -0.019773777616857682\n",
            "Topic 3 : 0.04848844487127855\n",
            "Topic 4 : 0.02176445904076318\n",
            "Topic 5 : 0.10023589040308302\n",
            "\n",
            "Doc # 261\n",
            "Topic 0 : 0.23171055926496703\n",
            "Topic 1 : -0.1129569598063878\n",
            "Topic 2 : -0.4705601420335543\n",
            "Topic 3 : 0.0037642644496117695\n",
            "Topic 4 : -0.02382085543093696\n",
            "Topic 5 : 0.048596287842810316\n",
            "\n",
            "Doc # 262\n",
            "Topic 0 : 0.18798146537934343\n",
            "Topic 1 : -0.03146124808573452\n",
            "Topic 2 : 0.06208264599814256\n",
            "Topic 3 : -0.17425822777488134\n",
            "Topic 4 : -0.046186481418089974\n",
            "Topic 5 : -0.2403050980073177\n",
            "\n",
            "Doc # 263\n",
            "Topic 0 : 0.26060833833610736\n",
            "Topic 1 : -0.15198550326478794\n",
            "Topic 2 : 0.10933661125728521\n",
            "Topic 3 : -0.2598528504795767\n",
            "Topic 4 : 0.026239412814496495\n",
            "Topic 5 : 0.07597274554264821\n",
            "\n",
            "Doc # 264\n",
            "Topic 0 : 0.26133639605309517\n",
            "Topic 1 : -0.1376817197597302\n",
            "Topic 2 : 0.1306732900829686\n",
            "Topic 3 : -0.41309259662856973\n",
            "Topic 4 : -0.006320839777836536\n",
            "Topic 5 : 0.03874507523051349\n",
            "\n",
            "Doc # 265\n",
            "Topic 0 : 0.25040623404224954\n",
            "Topic 1 : 0.09288765024798769\n",
            "Topic 2 : -0.01577028276587265\n",
            "Topic 3 : 0.12910364539127617\n",
            "Topic 4 : -0.07523519545183725\n",
            "Topic 5 : -0.18022449264913448\n",
            "\n",
            "Doc # 266\n",
            "Topic 0 : 0.1470992689156977\n",
            "Topic 1 : -0.044558447569617556\n",
            "Topic 2 : -0.030459908926056874\n",
            "Topic 3 : 0.021081146873635742\n",
            "Topic 4 : -0.05863146210548408\n",
            "Topic 5 : -0.07274628469226706\n",
            "\n",
            "Doc # 267\n",
            "Topic 0 : 0.2088723010395095\n",
            "Topic 1 : -0.08689988299976821\n",
            "Topic 2 : 0.051956211941045854\n",
            "Topic 3 : 0.028396243685987574\n",
            "Topic 4 : -0.06289648679341485\n",
            "Topic 5 : -0.08193711281990958\n",
            "\n",
            "Doc # 268\n",
            "Topic 0 : 0.1327490745104988\n",
            "Topic 1 : -0.07322956160044365\n",
            "Topic 2 : -0.11218776595663757\n",
            "Topic 3 : -0.01797635530690682\n",
            "Topic 4 : -0.006848588143624333\n",
            "Topic 5 : 0.04359259018624627\n",
            "\n",
            "Doc # 269\n",
            "Topic 0 : 0.09527122368984357\n",
            "Topic 1 : -0.019196272673784837\n",
            "Topic 2 : -0.005696009499953642\n",
            "Topic 3 : 0.005970664938411935\n",
            "Topic 4 : -0.01512753497041156\n",
            "Topic 5 : -0.02933661839366987\n",
            "\n",
            "Doc # 270\n",
            "Topic 0 : 0.1474963511802074\n",
            "Topic 1 : -0.008338280522042524\n",
            "Topic 2 : -0.004172200188904512\n",
            "Topic 3 : 0.009982042470387644\n",
            "Topic 4 : -0.009540415299451243\n",
            "Topic 5 : -0.162057227961889\n",
            "\n",
            "Doc # 271\n",
            "Topic 0 : 0.19529983388209426\n",
            "Topic 1 : -0.09821128364909217\n",
            "Topic 2 : 0.04903154623223947\n",
            "Topic 3 : 0.07729570568494565\n",
            "Topic 4 : -0.08307518992343414\n",
            "Topic 5 : 0.05406852595121976\n",
            "\n",
            "Doc # 272\n",
            "Topic 0 : 0.2032931816633757\n",
            "Topic 1 : -0.1662410872017509\n",
            "Topic 2 : 0.08172737532371095\n",
            "Topic 3 : 0.0357650344853626\n",
            "Topic 4 : -0.15792392022472015\n",
            "Topic 5 : 0.020774106015266424\n",
            "\n",
            "Doc # 273\n",
            "Topic 0 : 0.15609490325754324\n",
            "Topic 1 : -0.1119886066163769\n",
            "Topic 2 : 0.02882967620279606\n",
            "Topic 3 : 0.01223781173035904\n",
            "Topic 4 : 0.1493529133244885\n",
            "Topic 5 : -0.11440314157000024\n",
            "\n",
            "Doc # 274\n",
            "Topic 0 : 0.22203948413060748\n",
            "Topic 1 : -0.148371190872092\n",
            "Topic 2 : -0.34402279447529727\n",
            "Topic 3 : -0.040863663550505774\n",
            "Topic 4 : 0.005273014321814602\n",
            "Topic 5 : 0.03433951797344717\n",
            "\n",
            "Doc # 275\n",
            "Topic 0 : 0.2117322292514054\n",
            "Topic 1 : -0.06582096197171075\n",
            "Topic 2 : 0.03582601751047476\n",
            "Topic 3 : -0.17269210567810567\n",
            "Topic 4 : -0.03780970774646062\n",
            "Topic 5 : -0.1564854561421712\n",
            "\n",
            "Doc # 276\n",
            "Topic 0 : 0.13194654825511645\n",
            "Topic 1 : -0.11696608374737288\n",
            "Topic 2 : -0.11582964790607034\n",
            "Topic 3 : 0.04700078577437536\n",
            "Topic 4 : 0.02909885577586049\n",
            "Topic 5 : -0.03728721146616925\n",
            "\n",
            "Doc # 277\n",
            "Topic 0 : 0.20405808391937666\n",
            "Topic 1 : -0.19285250633359177\n",
            "Topic 2 : 0.08198024140390378\n",
            "Topic 3 : 0.10353485886486787\n",
            "Topic 4 : 0.28086921984778773\n",
            "Topic 5 : -0.030386985526321603\n",
            "\n",
            "Doc # 278\n",
            "Topic 0 : 0.316328097222408\n",
            "Topic 1 : 0.2169691963029191\n",
            "Topic 2 : -0.08296061317123173\n",
            "Topic 3 : -0.05010146806603192\n",
            "Topic 4 : 0.08002253535867411\n",
            "Topic 5 : -0.1156937626894988\n",
            "\n",
            "Doc # 279\n",
            "Topic 0 : 0.28777499537472107\n",
            "Topic 1 : 0.15687929274143597\n",
            "Topic 2 : -0.028188647858227514\n",
            "Topic 3 : -0.06965170190915337\n",
            "Topic 4 : 0.07665977062751388\n",
            "Topic 5 : 0.3099418763814934\n",
            "\n",
            "Doc # 280\n",
            "Topic 0 : 0.25385546850752294\n",
            "Topic 1 : 0.13602372338062846\n",
            "Topic 2 : -0.014340601736031897\n",
            "Topic 3 : 0.014184614998320999\n",
            "Topic 4 : 0.034060166872972565\n",
            "Topic 5 : 0.07387169173363094\n",
            "\n",
            "Doc # 281\n",
            "Topic 0 : 0.34146622413198585\n",
            "Topic 1 : 0.11326662394593644\n",
            "Topic 2 : -0.02000811406711181\n",
            "Topic 3 : -0.008862348902574186\n",
            "Topic 4 : 0.01736408914831401\n",
            "Topic 5 : 0.012836923493365791\n",
            "\n",
            "Doc # 282\n",
            "Topic 0 : 0.1926447585834419\n",
            "Topic 1 : -0.002459026801358277\n",
            "Topic 2 : 0.0297212388825344\n",
            "Topic 3 : -0.0034811423326804895\n",
            "Topic 4 : -0.06071573028489608\n",
            "Topic 5 : -0.05945272399548597\n",
            "\n",
            "Doc # 283\n",
            "Topic 0 : 0.26642446923456203\n",
            "Topic 1 : 0.06677357601613605\n",
            "Topic 2 : -0.1263069722944025\n",
            "Topic 3 : -0.015296397375232702\n",
            "Topic 4 : 0.05029841295401465\n",
            "Topic 5 : -0.028274521635798515\n",
            "\n",
            "Doc # 284\n",
            "Topic 0 : 0.14088417273680878\n",
            "Topic 1 : -0.049485709566776365\n",
            "Topic 2 : 0.02001268258765259\n",
            "Topic 3 : 0.020711946411870526\n",
            "Topic 4 : -0.07954209351829024\n",
            "Topic 5 : 0.03565107951390831\n",
            "\n",
            "Doc # 285\n",
            "Topic 0 : 0.21047442090044677\n",
            "Topic 1 : 0.05533388137160365\n",
            "Topic 2 : -0.006053254090244502\n",
            "Topic 3 : -0.047668094919434446\n",
            "Topic 4 : 0.04650595545677607\n",
            "Topic 5 : 0.12121505420414508\n",
            "\n",
            "Doc # 286\n",
            "Topic 0 : 0.2574649897849009\n",
            "Topic 1 : 0.18703228173333794\n",
            "Topic 2 : -0.006264660618308788\n",
            "Topic 3 : 0.11510422983020203\n",
            "Topic 4 : -0.07084584554283851\n",
            "Topic 5 : -0.1661195790570021\n",
            "\n",
            "Doc # 287\n",
            "Topic 0 : 0.1538197358291924\n",
            "Topic 1 : -0.042355706651430895\n",
            "Topic 2 : 0.0013956119299894155\n",
            "Topic 3 : -0.0126040645445357\n",
            "Topic 4 : -0.07106742040415139\n",
            "Topic 5 : -0.03960181813852788\n",
            "\n",
            "Doc # 288\n",
            "Topic 0 : 0.09849580787018244\n",
            "Topic 1 : -0.0602343399516883\n",
            "Topic 2 : -0.07826005367543878\n",
            "Topic 3 : 0.020557768207072547\n",
            "Topic 4 : -0.03918786488545059\n",
            "Topic 5 : 0.00952415930752757\n",
            "\n",
            "Doc # 289\n",
            "Topic 0 : 0.2850218967360095\n",
            "Topic 1 : 0.11670071640545791\n",
            "Topic 2 : -0.05000899922772004\n",
            "Topic 3 : 0.06308179177074844\n",
            "Topic 4 : 0.022092557837314248\n",
            "Topic 5 : 0.075733922671439\n",
            "\n",
            "Doc # 290\n",
            "Topic 0 : 0.27207648782011395\n",
            "Topic 1 : 0.06064725367931491\n",
            "Topic 2 : 0.0382310748397343\n",
            "Topic 3 : 0.19123859060999665\n",
            "Topic 4 : -0.17059217271765353\n",
            "Topic 5 : -0.2580585186727649\n",
            "\n",
            "Doc # 291\n",
            "Topic 0 : 0.2922004577772599\n",
            "Topic 1 : 0.07169617371338956\n",
            "Topic 2 : 0.04392345453604076\n",
            "Topic 3 : -0.041180853024132255\n",
            "Topic 4 : 0.09204612379461036\n",
            "Topic 5 : 0.02863174443095367\n",
            "\n",
            "Doc # 292\n",
            "Topic 0 : 0.26881785625973\n",
            "Topic 1 : 0.1786026338136328\n",
            "Topic 2 : 0.003104262068118169\n",
            "Topic 3 : 0.03256312677083448\n",
            "Topic 4 : 0.03328910487088149\n",
            "Topic 5 : 0.06504859649622664\n",
            "\n",
            "Doc # 293\n",
            "Topic 0 : 0.27829363232723164\n",
            "Topic 1 : -0.14790881435306133\n",
            "Topic 2 : 0.14557123973451738\n",
            "Topic 3 : -0.4134805689389697\n",
            "Topic 4 : 0.03841037352447752\n",
            "Topic 5 : 0.0328991933933418\n",
            "\n",
            "Doc # 294\n",
            "Topic 0 : 0.23920645581222846\n",
            "Topic 1 : -0.13099933521748283\n",
            "Topic 2 : 0.09815482179516757\n",
            "Topic 3 : 0.07154857044112736\n",
            "Topic 4 : -0.1203193258961865\n",
            "Topic 5 : 0.039095129968362195\n",
            "\n",
            "Doc # 295\n",
            "Topic 0 : 0.4035661279806619\n",
            "Topic 1 : 0.25360782241623536\n",
            "Topic 2 : -0.02325497543456737\n",
            "Topic 3 : -0.03289354934438133\n",
            "Topic 4 : 0.0704110869022662\n",
            "Topic 5 : 0.15529305004054617\n",
            "\n",
            "Doc # 296\n",
            "Topic 0 : 0.14090552280442709\n",
            "Topic 1 : -0.11733850978943755\n",
            "Topic 2 : -0.17724335893042964\n",
            "Topic 3 : -0.016555490410223295\n",
            "Topic 4 : -0.0024896469697955692\n",
            "Topic 5 : -0.03487344340164001\n",
            "\n",
            "Doc # 297\n",
            "Topic 0 : 0.2813777156267656\n",
            "Topic 1 : 0.22146757382836796\n",
            "Topic 2 : -0.03853339741262607\n",
            "Topic 3 : -0.07162613970646955\n",
            "Topic 4 : 0.06403921484136316\n",
            "Topic 5 : 0.2563785018765648\n",
            "\n",
            "Doc # 298\n",
            "Topic 0 : 0.37997080684878676\n",
            "Topic 1 : 0.2766461031939663\n",
            "Topic 2 : -0.022479144210540897\n",
            "Topic 3 : 0.09370499617860384\n",
            "Topic 4 : 0.047786896458315124\n",
            "Topic 5 : 0.052391927762728566\n",
            "\n",
            "Doc # 299\n",
            "Topic 0 : 0.31638513302003285\n",
            "Topic 1 : 0.2520556628151961\n",
            "Topic 2 : -0.04194771852750678\n",
            "Topic 3 : -0.07360922542216912\n",
            "Topic 4 : 0.09594114814667576\n",
            "Topic 5 : 0.2826120344244419\n",
            "\n",
            "Doc # 300\n",
            "Topic 0 : 0.21902194944036824\n",
            "Topic 1 : 0.2188819975966789\n",
            "Topic 2 : -0.03593783017765081\n",
            "Topic 3 : 0.07474099065946298\n",
            "Topic 4 : 0.017667413256927358\n",
            "Topic 5 : -0.0762834093611276\n",
            "\n"
          ]
        }
      ],
      "source": [
        "for i,l in enumerate(corpus_lsi):\n",
        "  print('Doc #',i+1)\n",
        "  for a in l:\n",
        "    print('Topic',a[0],':',a[1])\n",
        "  print('')"
      ]
    },
    {
      "cell_type": "markdown",
      "metadata": {
        "id": "xa_MeLjN90HI"
      },
      "source": [
        "# LSA SKLEARN"
      ]
    },
    {
      "cell_type": "markdown",
      "metadata": {
        "id": "ns7gfVW391wt"
      },
      "source": [
        "## TFIDF"
      ]
    },
    {
      "cell_type": "code",
      "execution_count": null,
      "metadata": {
        "id": "2i3J1Qcd93aj"
      },
      "outputs": [],
      "source": [
        "vect =TfidfVectorizer()\n",
        "vect_text=vect.fit_transform(dataset['stopwords'])\n",
        "idf=vect.idf_"
      ]
    },
    {
      "cell_type": "markdown",
      "metadata": {
        "id": "o1v4vk5R93uu"
      },
      "source": [
        "## LSA"
      ]
    },
    {
      "cell_type": "code",
      "execution_count": null,
      "metadata": {
        "id": "XKn-gm3l94qp"
      },
      "outputs": [],
      "source": [
        "from sklearn.decomposition import TruncatedSVD\n",
        "lsa_model = TruncatedSVD(n_components=6, algorithm='randomized', n_iter=10, random_state=42)\n",
        "\n",
        "lsa_top=lsa_model.fit_transform(vect_text)"
      ]
    },
    {
      "cell_type": "markdown",
      "metadata": {
        "id": "3_2gV9TndLOR"
      },
      "source": [
        "Menampilkan probabilitas tiap topik pada dokumen"
      ]
    },
    {
      "cell_type": "code",
      "execution_count": null,
      "metadata": {
        "id": "tS_l6eyzBMir"
      },
      "outputs": [],
      "source": [
        "for j in range(len(dataset)):\n",
        "  l=lsa_top[j]\n",
        "  print(\"Document\",j+1)\n",
        "  for i,topic in enumerate(l):\n",
        "    print(\"Topic \",i,\" : \",topic*100)\n",
        "  print('================')"
      ]
    },
    {
      "cell_type": "code",
      "execution_count": null,
      "metadata": {
        "id": "MgMOG90MwPhu"
      },
      "outputs": [],
      "source": [
        "vocab = vect.get_feature_names()\n",
        "for i, comp in enumerate(lsa_model.components_):\n",
        "    vocab_comp = zip(vocab, comp)\n",
        "    sorted_words = sorted(vocab_comp, key= lambda x:x[1], reverse=True)[:10]\n",
        "    print(\"Topic \"+str(i)+\": \")\n",
        "    for t in sorted_words:\n",
        "      print(t)\n",
        "        # print(t[0],end=\" \")\n",
        "    print(\"\\n\")"
      ]
    },
    {
      "cell_type": "markdown",
      "metadata": {
        "id": "LYtXjDVZOdGj"
      },
      "source": [
        "# LDA Gensim"
      ]
    },
    {
      "cell_type": "markdown",
      "metadata": {
        "id": "K-VJKSBvPcAN"
      },
      "source": [
        "## Source : https://www.analyticsvidhya.com/blog/2021/06/part-3-topic-modeling-and-latent-dirichlet-allocation-lda-using-gensim-and-sklearn/"
      ]
    },
    {
      "cell_type": "markdown",
      "metadata": {
        "id": "-nUo2rWaOfrK"
      },
      "source": [
        "## TF IDF"
      ]
    },
    {
      "cell_type": "code",
      "execution_count": null,
      "metadata": {
        "id": "6KpXN7veOgy6"
      },
      "outputs": [],
      "source": [
        "dict_ = corpora.Dictionary(dataset['req_stopwords'])"
      ]
    },
    {
      "cell_type": "code",
      "execution_count": null,
      "metadata": {
        "id": "lY00qi8UO4sw"
      },
      "outputs": [],
      "source": [
        "corpus = [dict_.doc2bow(text) for text in dataset['req_stopwords']]"
      ]
    },
    {
      "cell_type": "code",
      "execution_count": null,
      "metadata": {
        "id": "Tb8K6MsmSZ4f"
      },
      "outputs": [],
      "source": [
        "from gensim import models\n",
        "\n",
        "tfidf = models.TfidfModel(corpus)  # step 1 -- initialize a model"
      ]
    },
    {
      "cell_type": "code",
      "execution_count": null,
      "metadata": {
        "id": "3r49qojRScDU"
      },
      "outputs": [],
      "source": [
        "corpus_tfidf = tfidf[corpus]"
      ]
    },
    {
      "cell_type": "markdown",
      "metadata": {
        "id": "FissFvDnOhJF"
      },
      "source": [
        "## LDA"
      ]
    },
    {
      "cell_type": "code",
      "execution_count": null,
      "metadata": {
        "id": "1uhZmYsOOiO6"
      },
      "outputs": [],
      "source": [
        "Lda = models.ldamodel.LdaModel"
      ]
    },
    {
      "cell_type": "code",
      "execution_count": null,
      "metadata": {
        "id": "MOCb9xuIPPTF"
      },
      "outputs": [],
      "source": [
        "ldamodel = Lda(corpus_tfidf,num_topics=6,id2word=dict_,passes=1,random_state=0,eval_every=None)"
      ]
    },
    {
      "cell_type": "code",
      "execution_count": null,
      "metadata": {
        "id": "OowkoIs_PnY9"
      },
      "outputs": [],
      "source": [
        "ldamodel.print_topics()"
      ]
    },
    {
      "cell_type": "code",
      "execution_count": null,
      "metadata": {
        "id": "6rss9f-hPqgC"
      },
      "outputs": [],
      "source": [
        "count = 0\n",
        "for i in ldamodel[corpus_tfidf]:\n",
        "  print('Doc',count,i)\n",
        "  count+=1"
      ]
    },
    {
      "cell_type": "markdown",
      "metadata": {
        "id": "NkjnIE6iOjfa"
      },
      "source": [
        "# LDA SKLEARN"
      ]
    },
    {
      "cell_type": "markdown",
      "metadata": {
        "id": "5LrK8aLdOjfc"
      },
      "source": [
        "## TFIDF"
      ]
    },
    {
      "cell_type": "code",
      "execution_count": null,
      "metadata": {
        "id": "StvwNc-aOjfd"
      },
      "outputs": [],
      "source": [
        "vect =TfidfVectorizer()\n",
        "vect_text=vect.fit_transform(dataset['stopwords'])\n",
        "idf=vect.idf_"
      ]
    },
    {
      "cell_type": "code",
      "execution_count": null,
      "metadata": {
        "id": "4_HHoU3URUyQ"
      },
      "outputs": [],
      "source": [
        "vocab_tf_idf = vect.get_feature_names()\n",
        "vocab_tf_idf"
      ]
    },
    {
      "cell_type": "markdown",
      "metadata": {
        "id": "h6v2NlQaOjfe"
      },
      "source": [
        "## LDA"
      ]
    },
    {
      "cell_type": "code",
      "execution_count": null,
      "metadata": {
        "id": "X4eSTrubOjff"
      },
      "outputs": [],
      "source": [
        "lda_model = LatentDirichletAllocation(n_components=6, max_iter=20, random_state=0,doc_topic_prior=0.1,topic_word_prior=0.1)\n",
        "X_topics = lda_model.fit_transform(vect_text)\n",
        "\n",
        "topic_words = lda_model.components_"
      ]
    },
    {
      "cell_type": "code",
      "execution_count": null,
      "metadata": {
        "id": "SFodNiwBQjRR"
      },
      "outputs": [],
      "source": [
        "n_top_words = 10\n",
        "for i, topic_dist in enumerate(topic_words):\n",
        "  sorted_topic_dist = np.argsort(topic_dist)\n",
        "\n",
        "  topic_words = np.array(vocab_tf_idf)[sorted_topic_dist]\n",
        "\n",
        "  topic_words = topic_words[:-n_top_words:-1]\n",
        "  print('Topic',str(i+1),topic_words)"
      ]
    },
    {
      "cell_type": "code",
      "execution_count": null,
      "metadata": {
        "id": "SdQF_hc5RrGC"
      },
      "outputs": [],
      "source": [
        "doc_topic = lda_model.transform(vect_text)\n",
        "\n",
        "for n in range(len(dataset)):\n",
        "  topic_doc = doc_topic[n].argmax()\n",
        "\n",
        "  print('document',n+1,\"-- Topic:\",topic_doc,'-- Prob:',doc_topic[n])"
      ]
    },
    {
      "cell_type": "markdown",
      "metadata": {
        "id": "gb7MsYJOT4P3"
      },
      "source": [
        "# PLSA"
      ]
    },
    {
      "cell_type": "markdown",
      "metadata": {
        "id": "Jw1kK70sY6nq"
      },
      "source": [
        "Source : https://github.com/yedivanseven/PLSA/blob/master/notebooks/Examples.ipynb"
      ]
    },
    {
      "cell_type": "code",
      "execution_count": null,
      "metadata": {
        "id": "7x5p3DEwYOTp"
      },
      "outputs": [],
      "source": [
        "!pip install plsa"
      ]
    },
    {
      "cell_type": "code",
      "execution_count": null,
      "metadata": {
        "id": "dzNXSOXrWqQS"
      },
      "outputs": [],
      "source": [
        "# Import Drive API and authenticate.\n",
        "from google.colab import drive\n",
        "\n",
        "# Mount your Drive to the Colab VM.\n",
        "drive.mount('/gdrive')\n",
        "\n",
        "# Write the DataFrame to CSV file.\n",
        "with open('/gdrive/My Drive/foo.csv', 'w') as f:\n",
        "  dataset.to_csv(f)"
      ]
    },
    {
      "cell_type": "code",
      "execution_count": null,
      "metadata": {
        "id": "76c1kuhBYP5F"
      },
      "outputs": [],
      "source": [
        "from plsa import Corpus, Pipeline, Visualize\n",
        "from plsa.pipeline import DEFAULT_PIPELINE\n",
        "from plsa.algorithms import PLSA"
      ]
    },
    {
      "cell_type": "code",
      "execution_count": null,
      "metadata": {
        "id": "hr6fRCeCYRz6"
      },
      "outputs": [],
      "source": [
        "csv_file = '/gdrive/My Drive/foo.csv'"
      ]
    },
    {
      "cell_type": "code",
      "execution_count": null,
      "metadata": {
        "id": "gHodCR6wYaWk"
      },
      "outputs": [],
      "source": [
        "pipeline = Pipeline(*DEFAULT_PIPELINE)\n",
        "pipeline"
      ]
    },
    {
      "cell_type": "code",
      "execution_count": null,
      "metadata": {
        "id": "JoQtML6VYVmH"
      },
      "outputs": [],
      "source": [
        "corpus = Corpus.from_csv(csv_file, pipeline,col=4)\n",
        "corpus"
      ]
    },
    {
      "cell_type": "code",
      "execution_count": null,
      "metadata": {
        "id": "VxRcLkILYb_p"
      },
      "outputs": [],
      "source": [
        "n_topics = 6"
      ]
    },
    {
      "cell_type": "code",
      "execution_count": null,
      "metadata": {
        "id": "PLNcQRExYeMq"
      },
      "outputs": [],
      "source": [
        "plsa = PLSA(corpus, n_topics, True)\n",
        "plsa"
      ]
    },
    {
      "cell_type": "code",
      "execution_count": null,
      "metadata": {
        "id": "D-rwTgzvYrMi"
      },
      "outputs": [],
      "source": [
        "result = plsa.fit()\n",
        "plsa"
      ]
    },
    {
      "cell_type": "code",
      "execution_count": null,
      "metadata": {
        "id": "qGKhVTJGZUts"
      },
      "outputs": [],
      "source": [
        "visualize = Visualize(result)\n",
        "visualize"
      ]
    },
    {
      "cell_type": "code",
      "execution_count": null,
      "metadata": {
        "id": "3194pUuiZXy_"
      },
      "outputs": [],
      "source": [
        "fig, ax = plt.subplots()\n",
        "_ = visualize.topics(ax)\n",
        "fig.tight_layout()"
      ]
    },
    {
      "cell_type": "code",
      "execution_count": null,
      "metadata": {
        "id": "R9WldQcMZZ4x"
      },
      "outputs": [],
      "source": [
        "fig = plt.figure(figsize=(9.4, 10))\n",
        "_ = visualize.wordclouds(fig)\n"
      ]
    },
    {
      "cell_type": "code",
      "execution_count": null,
      "metadata": {
        "id": "D87tdYtpZd8G"
      },
      "outputs": [],
      "source": [
        "for i in range(len(dataset)):\n",
        "  fig, ax = plt.subplots()\n",
        "  _ = visualize.topics_in_doc(i, ax)\n",
        "  fig.tight_layout()"
      ]
    },
    {
      "cell_type": "markdown",
      "metadata": {
        "id": "KNMhsQnzRou2"
      },
      "source": [
        "# Embedded Topic Model"
      ]
    },
    {
      "cell_type": "code",
      "execution_count": null,
      "metadata": {
        "id": "vd_b_OMLRqfY",
        "colab": {
          "base_uri": "https://localhost:8080/",
          "height": 1000
        },
        "outputId": "d3b21782-a436-4fe9-aef5-f2d759b11341"
      },
      "outputs": [
        {
          "output_type": "stream",
          "name": "stdout",
          "text": [
            "Collecting embedded_topic_model\n",
            "  Downloading embedded_topic_model-1.0.2-py3-none-any.whl (17 kB)\n",
            "Collecting scikit-learn==0.23.2\n",
            "  Downloading scikit_learn-0.23.2-cp37-cp37m-manylinux1_x86_64.whl (6.8 MB)\n",
            "\u001b[K     |████████████████████████████████| 6.8 MB 6.3 MB/s \n",
            "\u001b[?25hCollecting gensim==3.8.3\n",
            "  Downloading gensim-3.8.3-cp37-cp37m-manylinux1_x86_64.whl (24.2 MB)\n",
            "\u001b[K     |████████████████████████████████| 24.2 MB 1.5 MB/s \n",
            "\u001b[?25hCollecting nltk==3.5\n",
            "  Downloading nltk-3.5.zip (1.4 MB)\n",
            "\u001b[K     |████████████████████████████████| 1.4 MB 26.6 MB/s \n",
            "\u001b[?25hCollecting numpy==1.19.5\n",
            "  Downloading numpy-1.19.5-cp37-cp37m-manylinux2010_x86_64.whl (14.8 MB)\n",
            "\u001b[K     |████████████████████████████████| 14.8 MB 35.5 MB/s \n",
            "\u001b[?25hCollecting torch==1.6.0\n",
            "  Downloading torch-1.6.0-cp37-cp37m-manylinux1_x86_64.whl (748.8 MB)\n",
            "\u001b[K     |████████████████████████████████| 748.8 MB 17 kB/s \n",
            "\u001b[?25hCollecting scipy==1.5.2\n",
            "  Downloading scipy-1.5.2-cp37-cp37m-manylinux1_x86_64.whl (25.9 MB)\n",
            "\u001b[K     |████████████████████████████████| 25.9 MB 1.4 MB/s \n",
            "\u001b[?25hRequirement already satisfied: six>=1.5.0 in /usr/local/lib/python3.7/dist-packages (from gensim==3.8.3->embedded_topic_model) (1.15.0)\n",
            "Requirement already satisfied: smart-open>=1.8.1 in /usr/local/lib/python3.7/dist-packages (from gensim==3.8.3->embedded_topic_model) (5.2.1)\n",
            "Requirement already satisfied: click in /usr/local/lib/python3.7/dist-packages (from nltk==3.5->embedded_topic_model) (7.1.2)\n",
            "Requirement already satisfied: joblib in /usr/local/lib/python3.7/dist-packages (from nltk==3.5->embedded_topic_model) (1.1.0)\n",
            "Requirement already satisfied: regex in /usr/local/lib/python3.7/dist-packages (from nltk==3.5->embedded_topic_model) (2019.12.20)\n",
            "Requirement already satisfied: tqdm in /usr/local/lib/python3.7/dist-packages (from nltk==3.5->embedded_topic_model) (4.64.0)\n",
            "Requirement already satisfied: threadpoolctl>=2.0.0 in /usr/local/lib/python3.7/dist-packages (from scikit-learn==0.23.2->embedded_topic_model) (3.1.0)\n",
            "Requirement already satisfied: future in /usr/local/lib/python3.7/dist-packages (from torch==1.6.0->embedded_topic_model) (0.16.0)\n",
            "Building wheels for collected packages: nltk\n",
            "  Building wheel for nltk (setup.py) ... \u001b[?25l\u001b[?25hdone\n",
            "  Created wheel for nltk: filename=nltk-3.5-py3-none-any.whl size=1434692 sha256=0b1694339e0337ee7812c7e7b80b48da053dbb92f0ba2d60423d1dec7a41c90b\n",
            "  Stored in directory: /root/.cache/pip/wheels/45/6c/46/a1865e7ba706b3817f5d1b2ff7ce8996aabdd0d03d47ba0266\n",
            "Successfully built nltk\n",
            "Installing collected packages: numpy, scipy, torch, scikit-learn, nltk, gensim, embedded-topic-model\n",
            "  Attempting uninstall: numpy\n",
            "    Found existing installation: numpy 1.21.5\n",
            "    Uninstalling numpy-1.21.5:\n",
            "      Successfully uninstalled numpy-1.21.5\n",
            "  Attempting uninstall: scipy\n",
            "    Found existing installation: scipy 1.4.1\n",
            "    Uninstalling scipy-1.4.1:\n",
            "      Successfully uninstalled scipy-1.4.1\n",
            "  Attempting uninstall: torch\n",
            "    Found existing installation: torch 1.10.0+cu111\n",
            "    Uninstalling torch-1.10.0+cu111:\n",
            "      Successfully uninstalled torch-1.10.0+cu111\n",
            "  Attempting uninstall: scikit-learn\n",
            "    Found existing installation: scikit-learn 0.22\n",
            "    Uninstalling scikit-learn-0.22:\n",
            "      Successfully uninstalled scikit-learn-0.22\n",
            "  Attempting uninstall: nltk\n",
            "    Found existing installation: nltk 3.4.5\n",
            "    Uninstalling nltk-3.4.5:\n",
            "      Successfully uninstalled nltk-3.4.5\n",
            "  Attempting uninstall: gensim\n",
            "    Found existing installation: gensim 3.6.0\n",
            "    Uninstalling gensim-3.6.0:\n",
            "      Successfully uninstalled gensim-3.6.0\n",
            "\u001b[31mERROR: pip's dependency resolver does not currently take into account all the packages that are installed. This behaviour is the source of the following dependency conflicts.\n",
            "yellowbrick 1.4 requires scikit-learn>=1.0.0, but you have scikit-learn 0.23.2 which is incompatible.\n",
            "torchvision 0.11.1+cu111 requires torch==1.10.0, but you have torch 1.6.0 which is incompatible.\n",
            "torchtext 0.11.0 requires torch==1.10.0, but you have torch 1.6.0 which is incompatible.\n",
            "torchaudio 0.10.0+cu111 requires torch==1.10.0, but you have torch 1.6.0 which is incompatible.\n",
            "tensorflow 2.8.0 requires numpy>=1.20, but you have numpy 1.19.5 which is incompatible.\n",
            "nlp-id 0.1.12.0 requires nltk==3.4.5, but you have nltk 3.5 which is incompatible.\n",
            "nlp-id 0.1.12.0 requires scikit-learn==0.22, but you have scikit-learn 0.23.2 which is incompatible.\n",
            "imbalanced-learn 0.8.1 requires scikit-learn>=0.24, but you have scikit-learn 0.23.2 which is incompatible.\n",
            "datascience 0.10.6 requires folium==0.2.1, but you have folium 0.8.3 which is incompatible.\n",
            "albumentations 0.1.12 requires imgaug<0.2.7,>=0.2.5, but you have imgaug 0.2.9 which is incompatible.\u001b[0m\n",
            "Successfully installed embedded-topic-model-1.0.2 gensim-3.8.3 nltk-3.5 numpy-1.19.5 scikit-learn-0.23.2 scipy-1.5.2 torch-1.6.0\n"
          ]
        },
        {
          "output_type": "display_data",
          "data": {
            "application/vnd.colab-display-data+json": {
              "pip_warning": {
                "packages": [
                  "gensim",
                  "nltk",
                  "numpy",
                  "scipy",
                  "sklearn",
                  "torch"
                ]
              }
            }
          },
          "metadata": {}
        }
      ],
      "source": [
        "!pip install -U embedded_topic_model"
      ]
    },
    {
      "cell_type": "code",
      "execution_count": null,
      "metadata": {
        "id": "bKEKBE9sTsBk"
      },
      "outputs": [],
      "source": [
        "documents = [dataset['stopwords'][i] for i,data in enumerate(dataset)]"
      ]
    },
    {
      "cell_type": "code",
      "execution_count": null,
      "metadata": {
        "id": "NGGgLDmnS8SK"
      },
      "outputs": [],
      "source": [
        "from embedded_topic_model.utils import preprocessing\n",
        "# Preprocessing the dataset\n",
        "vocabulary, train_dataset, _, = preprocessing.create_etm_datasets(\n",
        "    documents, \n",
        "    min_df=0.01, \n",
        "    max_df=0.75, \n",
        "    train_size=0.85, \n",
        ")"
      ]
    },
    {
      "cell_type": "code",
      "execution_count": null,
      "metadata": {
        "id": "BZz12pK5Taz9"
      },
      "outputs": [],
      "source": [
        "from embedded_topic_model.utils import embedding\n",
        "\n",
        "# Training word2vec embeddings\n",
        "embeddings_mapping = embedding.create_word2vec_embedding_from_dataset(documents)"
      ]
    },
    {
      "cell_type": "code",
      "execution_count": null,
      "metadata": {
        "id": "cYGcdRxsTemL",
        "colab": {
          "base_uri": "https://localhost:8080/"
        },
        "outputId": "92789a1c-ef29-46d2-bc72-9f769f0374ad"
      },
      "outputs": [
        {
          "output_type": "stream",
          "name": "stdout",
          "text": [
            "Topics before training: [['tekan', 'tengkorak', 'tingkat', 'kebal', 'kepala', 'tubuh', 'mual', 'sistem', 'muntah', 'obat'], ['haid', 'interval', 'volume', 'darah', 'sel', 'tengkorak', 'bentuk', 'durasi', 'telur', 'tingkat'], ['periksa', 'spesialis', 'usg', 'saran', 'kandung', 'bidan', 'fisik', 'medis', 'tangan', 'anamnesis'], ['asam', 'makan', 'asma', 'obat', 'valproat', 'hindar', 'kambuh', 'masuk', 'hasil', 'pedas'], ['telur', 'hamil', 'sel', 'hitung', 'rahim', 'tanggal', 'usia', 'nikah', 'november', 'hpmt'], ['asma', 'nyeri', 'obat', 'kandung', 'hati', 'spesialis', 'samping', 'reda', 'kambuh', 'salah']]\n",
            "Epoch 1 - Learning Rate: 0.005 - KL theta: 0.0 - Rec loss: 650.66 - NELBO: 650.66\n",
            "Epoch 2 - Learning Rate: 0.005 - KL theta: 0.05 - Rec loss: 650.59 - NELBO: 650.64\n",
            "Epoch 3 - Learning Rate: 0.005 - KL theta: 0.01 - Rec loss: 650.55 - NELBO: 650.56\n",
            "Epoch 4 - Learning Rate: 0.005 - KL theta: 0.02 - Rec loss: 650.26 - NELBO: 650.28\n",
            "Epoch 5 - Learning Rate: 0.005 - KL theta: 0.02 - Rec loss: 650.66 - NELBO: 650.68\n",
            "Epoch 6 - Learning Rate: 0.005 - KL theta: 0.02 - Rec loss: 650.87 - NELBO: 650.89\n",
            "Epoch 7 - Learning Rate: 0.005 - KL theta: 0.03 - Rec loss: 649.5 - NELBO: 649.53\n",
            "Epoch 8 - Learning Rate: 0.005 - KL theta: 0.08 - Rec loss: 650.15 - NELBO: 650.23\n",
            "Epoch 9 - Learning Rate: 0.005 - KL theta: 0.24 - Rec loss: 651.14 - NELBO: 651.38\n",
            "Epoch 10 - Learning Rate: 0.005 - KL theta: 0.62 - Rec loss: 649.45 - NELBO: 650.07\n",
            "Topics: [['tengkorak', 'tekan', 'obat', 'kepala', 'sakit', 'nyeri', 'muntah', 'mual', 'asam', 'asma'], ['minggu', 'november', 'hpmt', 'nikah', 'tanggal', 'contoh', 'hpl', 'hamil', 'nya', 'hitung'], ['minggu', 'november', 'hpmt', 'tanggal', 'nikah', 'hpl', 'contoh', 'nya', 'hamil', 'hitung'], ['obat', 'tengkorak', 'tekan', 'asam', 'muntah', 'nyeri', 'kepala', 'makan', 'asma', 'mual'], ['minggu', 'hpmt', 'november', 'tanggal', 'nikah', 'hamil', 'contoh', 'hpl', 'nya', 'hitung'], ['tengkorak', 'tekan', 'obat', 'asma', 'periksa', 'kandung', 'spesialis', 'kepala', 'nyeri', 'laku']]\n",
            "Epoch 11 - Learning Rate: 0.005 - KL theta: 1.31 - Rec loss: 645.7 - NELBO: 647.01\n",
            "Epoch 12 - Learning Rate: 0.005 - KL theta: 1.07 - Rec loss: 646.13 - NELBO: 647.2\n",
            "Epoch 13 - Learning Rate: 0.005 - KL theta: 1.03 - Rec loss: 645.68 - NELBO: 646.71\n",
            "Epoch 14 - Learning Rate: 0.005 - KL theta: 1.15 - Rec loss: 645.55 - NELBO: 646.7\n",
            "Epoch 15 - Learning Rate: 0.005 - KL theta: 1.33 - Rec loss: 643.85 - NELBO: 645.18\n",
            "Epoch 16 - Learning Rate: 0.005 - KL theta: 1.65 - Rec loss: 643.29 - NELBO: 644.94\n",
            "Epoch 17 - Learning Rate: 0.005 - KL theta: 2.15 - Rec loss: 642.29 - NELBO: 644.44\n",
            "Epoch 18 - Learning Rate: 0.005 - KL theta: 2.35 - Rec loss: 642.19 - NELBO: 644.54\n",
            "Epoch 19 - Learning Rate: 0.005 - KL theta: 2.74 - Rec loss: 638.31 - NELBO: 641.05\n",
            "Epoch 20 - Learning Rate: 0.005 - KL theta: 2.66 - Rec loss: 637.58 - NELBO: 640.24\n",
            "Topics: [['obat', 'tekan', 'tengkorak', 'kepala', 'makan', 'nyeri', 'sakit', 'asam', 'asma', 'muntah'], ['minggu', 'hpmt', 'november', 'nikah', 'tanggal', 'contoh', 'hpl', 'hamil', 'nya', 'hitung'], ['minggu', 'hpmt', 'november', 'tanggal', 'nikah', 'hpl', 'contoh', 'hamil', 'nya', 'hitung'], ['obat', 'tengkorak', 'tekan', 'kepala', 'nyeri', 'muntah', 'makan', 'asam', 'asma', 'sakit'], ['minggu', 'hpmt', 'november', 'tanggal', 'nikah', 'contoh', 'hamil', 'hpl', 'nya', 'hitung'], ['tengkorak', 'tekan', 'obat', 'kepala', 'asma', 'nyeri', 'muntah', 'tingkat', 'sakit', 'periksa']]\n",
            "Epoch 21 - Learning Rate: 0.005 - KL theta: 2.55 - Rec loss: 638.35 - NELBO: 640.9\n",
            "Epoch 22 - Learning Rate: 0.005 - KL theta: 2.7 - Rec loss: 636.69 - NELBO: 639.39\n",
            "Epoch 23 - Learning Rate: 0.005 - KL theta: 3.01 - Rec loss: 634.34 - NELBO: 637.35\n",
            "Epoch 24 - Learning Rate: 0.005 - KL theta: 2.9 - Rec loss: 634.33 - NELBO: 637.23\n",
            "Epoch 25 - Learning Rate: 0.005 - KL theta: 2.79 - Rec loss: 632.14 - NELBO: 634.93\n",
            "Epoch 26 - Learning Rate: 0.005 - KL theta: 2.78 - Rec loss: 632.46 - NELBO: 635.24\n",
            "Epoch 27 - Learning Rate: 0.005 - KL theta: 3.09 - Rec loss: 633.57 - NELBO: 636.66\n",
            "Epoch 28 - Learning Rate: 0.005 - KL theta: 3.99 - Rec loss: 629.29 - NELBO: 633.28\n",
            "Epoch 29 - Learning Rate: 0.005 - KL theta: 4.89 - Rec loss: 627.51 - NELBO: 632.4\n",
            "Epoch 30 - Learning Rate: 0.005 - KL theta: 4.42 - Rec loss: 626.56 - NELBO: 630.98\n",
            "Topics: [['obat', 'tekan', 'tengkorak', 'makan', 'kepala', 'nyeri', 'asam', 'sakit', 'asma', 'muntah'], ['minggu', 'hpmt', 'november', 'nikah', 'tanggal', 'contoh', 'hpl', 'nya', 'hamil', 'orang'], ['minggu', 'hpmt', 'november', 'tanggal', 'nikah', 'hpl', 'contoh', 'hamil', 'nya', 'hitung'], ['obat', 'tekan', 'tengkorak', 'makan', 'nyeri', 'kepala', 'asam', 'muntah', 'asma', 'sakit'], ['minggu', 'hpmt', 'november', 'tanggal', 'nikah', 'contoh', 'hamil', 'hpl', 'nya', 'hitung'], ['tengkorak', 'tekan', 'obat', 'kepala', 'tingkat', 'haid', 'muntah', 'asma', 'nyeri', 'sakit']]\n",
            "Epoch 31 - Learning Rate: 0.005 - KL theta: 3.5 - Rec loss: 628.46 - NELBO: 631.96\n",
            "Epoch 32 - Learning Rate: 0.005 - KL theta: 3.02 - Rec loss: 631.13 - NELBO: 634.15\n",
            "Epoch 33 - Learning Rate: 0.005 - KL theta: 3.6 - Rec loss: 624.37 - NELBO: 627.97\n",
            "Epoch 34 - Learning Rate: 0.005 - KL theta: 4.23 - Rec loss: 624.24 - NELBO: 628.47\n",
            "Epoch 35 - Learning Rate: 0.005 - KL theta: 5.19 - Rec loss: 621.62 - NELBO: 626.81\n",
            "Epoch 36 - Learning Rate: 0.005 - KL theta: 5.39 - Rec loss: 621.82 - NELBO: 627.21\n",
            "Epoch 37 - Learning Rate: 0.005 - KL theta: 5.16 - Rec loss: 621.42 - NELBO: 626.58\n",
            "Epoch 38 - Learning Rate: 0.005 - KL theta: 4.7 - Rec loss: 620.19 - NELBO: 624.89\n",
            "Epoch 39 - Learning Rate: 0.005 - KL theta: 4.59 - Rec loss: 619.09 - NELBO: 623.68\n",
            "Epoch 40 - Learning Rate: 0.005 - KL theta: 4.49 - Rec loss: 621.06 - NELBO: 625.55\n",
            "Topics: [['obat', 'makan', 'nyeri', 'tekan', 'kepala', 'asam', 'tengkorak', 'sakit', 'asma', 'muntah'], ['haid', 'interval', 'darah', 'volume', 'periksa', 'durasi', 'antarhaid', 'bentuk', 'tingkat', 'ml'], ['minggu', 'hpmt', 'november', 'tanggal', 'nikah', 'hpl', 'contoh', 'hamil', 'nya', 'hitung'], ['obat', 'tengkorak', 'tekan', 'makan', 'nyeri', 'kepala', 'asam', 'muntah', 'asma', 'sakit'], ['minggu', 'hpmt', 'november', 'tanggal', 'nikah', 'contoh', 'hamil', 'hpl', 'nya', 'hitung'], ['tengkorak', 'haid', 'tekan', 'tingkat', 'darah', 'volume', 'interval', 'kepala', 'obat', 'periksa']]\n",
            "Epoch 41 - Learning Rate: 0.005 - KL theta: 5.06 - Rec loss: 616.86 - NELBO: 621.92\n",
            "Epoch 42 - Learning Rate: 0.005 - KL theta: 5.65 - Rec loss: 615.96 - NELBO: 621.61\n",
            "Epoch 43 - Learning Rate: 0.005 - KL theta: 6.02 - Rec loss: 614.22 - NELBO: 620.24\n",
            "Epoch 44 - Learning Rate: 0.005 - KL theta: 5.73 - Rec loss: 616.16 - NELBO: 621.89\n",
            "Epoch 45 - Learning Rate: 0.005 - KL theta: 5.36 - Rec loss: 616.11 - NELBO: 621.47\n",
            "Epoch 46 - Learning Rate: 0.005 - KL theta: 5.58 - Rec loss: 614.8 - NELBO: 620.38\n",
            "Epoch 47 - Learning Rate: 0.005 - KL theta: 6.51 - Rec loss: 615.1 - NELBO: 621.61\n",
            "Epoch 48 - Learning Rate: 0.005 - KL theta: 8.04 - Rec loss: 611.0 - NELBO: 619.04\n",
            "Epoch 49 - Learning Rate: 0.005 - KL theta: 9.17 - Rec loss: 609.51 - NELBO: 618.68\n",
            "Epoch 50 - Learning Rate: 0.005 - KL theta: 9.1 - Rec loss: 608.37 - NELBO: 617.47\n",
            "Topics: [['obat', 'makan', 'nyeri', 'asam', 'kepala', 'asma', 'sakit', 'tekan', 'muntah', 'lambung'], ['haid', 'interval', 'darah', 'volume', 'durasi', 'bentuk', 'antarhaid', 'tingkat', 'periksa', 'sel'], ['minggu', 'hpmt', 'november', 'nikah', 'tanggal', 'hpl', 'contoh', 'nya', 'hamil', 'orang'], ['obat', 'tengkorak', 'tekan', 'kepala', 'nyeri', 'muntah', 'makan', 'asam', 'sakit', 'asma'], ['minggu', 'hpmt', 'november', 'tanggal', 'nikah', 'contoh', 'hamil', 'hpl', 'nya', 'hitung'], ['haid', 'darah', 'tengkorak', 'interval', 'volume', 'tingkat', 'tekan', 'bentuk', 'durasi', 'periksa']]\n",
            "Epoch 51 - Learning Rate: 0.005 - KL theta: 8.03 - Rec loss: 607.73 - NELBO: 615.76\n",
            "Epoch 52 - Learning Rate: 0.005 - KL theta: 6.56 - Rec loss: 607.76 - NELBO: 614.32\n",
            "Epoch 53 - Learning Rate: 0.005 - KL theta: 5.13 - Rec loss: 608.9 - NELBO: 614.03\n",
            "Epoch 54 - Learning Rate: 0.005 - KL theta: 4.23 - Rec loss: 612.02 - NELBO: 616.25\n",
            "Epoch 55 - Learning Rate: 0.005 - KL theta: 4.48 - Rec loss: 609.19 - NELBO: 613.67\n",
            "Epoch 56 - Learning Rate: 0.005 - KL theta: 5.3 - Rec loss: 607.93 - NELBO: 613.23\n",
            "Epoch 57 - Learning Rate: 0.005 - KL theta: 6.29 - Rec loss: 605.79 - NELBO: 612.08\n",
            "Epoch 58 - Learning Rate: 0.005 - KL theta: 6.83 - Rec loss: 605.01 - NELBO: 611.84\n",
            "Epoch 59 - Learning Rate: 0.005 - KL theta: 6.76 - Rec loss: 603.12 - NELBO: 609.88\n",
            "Epoch 60 - Learning Rate: 0.005 - KL theta: 6.19 - Rec loss: 604.43 - NELBO: 610.62\n",
            "Topics: [['obat', 'makan', 'asam', 'nyeri', 'asma', 'sakit', 'kepala', 'lambung', 'konsumsi', 'muntah'], ['haid', 'interval', 'darah', 'volume', 'durasi', 'bentuk', 'antarhaid', 'sel', 'tingkat', 'ml'], ['periksa', 'minggu', 'hpmt', 'haid', 'november', 'nikah', 'tanggal', 'lahir', 'orang', 'hpl'], ['tengkorak', 'tekan', 'obat', 'kepala', 'muntah', 'nyeri', 'asam', 'makan', 'sakit', 'mual'], ['minggu', 'hpmt', 'november', 'tanggal', 'nikah', 'hamil', 'contoh', 'hpl', 'nya', 'hitung'], ['haid', 'interval', 'darah', 'volume', 'tingkat', 'tengkorak', 'bentuk', 'durasi', 'sel', 'antarhaid']]\n",
            "Epoch 61 - Learning Rate: 0.005 - KL theta: 5.9 - Rec loss: 602.96 - NELBO: 608.86\n",
            "Epoch 62 - Learning Rate: 0.005 - KL theta: 5.76 - Rec loss: 607.3 - NELBO: 613.06\n",
            "Epoch 63 - Learning Rate: 0.005 - KL theta: 6.56 - Rec loss: 603.14 - NELBO: 609.7\n",
            "Epoch 64 - Learning Rate: 0.005 - KL theta: 7.57 - Rec loss: 602.74 - NELBO: 610.31\n",
            "Epoch 65 - Learning Rate: 0.005 - KL theta: 8.77 - Rec loss: 598.02 - NELBO: 606.79\n",
            "Epoch 66 - Learning Rate: 0.005 - KL theta: 9.07 - Rec loss: 598.08 - NELBO: 607.15\n",
            "Epoch 67 - Learning Rate: 0.005 - KL theta: 8.51 - Rec loss: 599.09 - NELBO: 607.6\n",
            "Epoch 68 - Learning Rate: 0.005 - KL theta: 7.91 - Rec loss: 598.32 - NELBO: 606.23\n",
            "Epoch 69 - Learning Rate: 0.005 - KL theta: 7.07 - Rec loss: 599.04 - NELBO: 606.11\n",
            "Epoch 70 - Learning Rate: 0.005 - KL theta: 6.6 - Rec loss: 598.0 - NELBO: 604.6\n",
            "Topics: [['obat', 'makan', 'asam', 'nyeri', 'asma', 'sakit', 'kepala', 'konsumsi', 'lambung', 'muntah'], ['haid', 'interval', 'darah', 'volume', 'durasi', 'bentuk', 'antarhaid', 'sel', 'tingkat', 'ml'], ['periksa', 'haid', 'aktivitas', 'listrik', 'darah', 'interval', 'spesialis', 'volume', 'otak', 'usg'], ['tengkorak', 'tekan', 'obat', 'kepala', 'muntah', 'nyeri', 'asam', 'makan', 'sakit', 'mual'], ['minggu', 'hpmt', 'november', 'tanggal', 'nikah', 'hamil', 'contoh', 'hpl', 'nya', 'hitung'], ['haid', 'interval', 'darah', 'volume', 'durasi', 'bentuk', 'tingkat', 'sel', 'antarhaid', 'tengkorak']]\n",
            "Epoch 71 - Learning Rate: 0.005 - KL theta: 6.42 - Rec loss: 598.06 - NELBO: 604.48\n",
            "Epoch 72 - Learning Rate: 0.005 - KL theta: 6.38 - Rec loss: 599.63 - NELBO: 606.01\n",
            "Epoch 73 - Learning Rate: 0.005 - KL theta: 7.03 - Rec loss: 595.6 - NELBO: 602.63\n",
            "Epoch 74 - Learning Rate: 0.005 - KL theta: 7.72 - Rec loss: 595.68 - NELBO: 603.4\n",
            "Epoch 75 - Learning Rate: 0.005 - KL theta: 7.61 - Rec loss: 594.82 - NELBO: 602.43\n",
            "Epoch 76 - Learning Rate: 0.005 - KL theta: 7.06 - Rec loss: 594.44 - NELBO: 601.5\n",
            "Epoch 77 - Learning Rate: 0.005 - KL theta: 6.46 - Rec loss: 593.96 - NELBO: 600.42\n",
            "Epoch 78 - Learning Rate: 0.005 - KL theta: 5.73 - Rec loss: 596.03 - NELBO: 601.76\n",
            "Epoch 79 - Learning Rate: 0.005 - KL theta: 5.63 - Rec loss: 594.4 - NELBO: 600.03\n",
            "Epoch 80 - Learning Rate: 0.005 - KL theta: 5.85 - Rec loss: 594.99 - NELBO: 600.84\n",
            "Topics: [['obat', 'makan', 'asam', 'nyeri', 'asma', 'sakit', 'konsumsi', 'lambung', 'kepala', 'golong'], ['haid', 'interval', 'darah', 'volume', 'durasi', 'bentuk', 'sel', 'antarhaid', 'tingkat', 'ml'], ['periksa', 'haid', 'listrik', 'aktivitas', 'darah', 'spesialis', 'interval', 'otak', 'volume', 'usg'], ['tengkorak', 'tekan', 'obat', 'kepala', 'muntah', 'nyeri', 'asam', 'sakit', 'makan', 'asma'], ['minggu', 'hpmt', 'november', 'tanggal', 'nikah', 'hamil', 'contoh', 'hpl', 'nya', 'hitung'], ['haid', 'interval', 'darah', 'volume', 'durasi', 'bentuk', 'sel', 'tingkat', 'antarhaid', 'ml']]\n",
            "Epoch 81 - Learning Rate: 0.005 - KL theta: 6.6 - Rec loss: 593.53 - NELBO: 600.13\n",
            "Epoch 82 - Learning Rate: 0.005 - KL theta: 7.55 - Rec loss: 590.83 - NELBO: 598.38\n",
            "Epoch 83 - Learning Rate: 0.005 - KL theta: 7.87 - Rec loss: 592.28 - NELBO: 600.15\n",
            "Epoch 84 - Learning Rate: 0.005 - KL theta: 8.04 - Rec loss: 590.05 - NELBO: 598.09\n",
            "Epoch 85 - Learning Rate: 0.005 - KL theta: 7.38 - Rec loss: 592.87 - NELBO: 600.25\n",
            "Epoch 86 - Learning Rate: 0.005 - KL theta: 6.48 - Rec loss: 591.5 - NELBO: 597.98\n",
            "Epoch 87 - Learning Rate: 0.005 - KL theta: 5.72 - Rec loss: 591.52 - NELBO: 597.24\n",
            "Epoch 88 - Learning Rate: 0.005 - KL theta: 5.44 - Rec loss: 592.91 - NELBO: 598.35\n",
            "Epoch 89 - Learning Rate: 0.005 - KL theta: 5.65 - Rec loss: 591.99 - NELBO: 597.64\n",
            "Epoch 90 - Learning Rate: 0.005 - KL theta: 6.11 - Rec loss: 590.31 - NELBO: 596.42\n",
            "Topics: [['obat', 'makan', 'asam', 'nyeri', 'asma', 'konsumsi', 'sakit', 'lambung', 'kepala', 'golong'], ['haid', 'interval', 'darah', 'volume', 'durasi', 'bentuk', 'sel', 'antarhaid', 'tingkat', 'periksa'], ['periksa', 'listrik', 'aktivitas', 'haid', 'darah', 'spesialis', 'otak', 'interval', 'volume', 'usg'], ['tengkorak', 'tekan', 'obat', 'kepala', 'muntah', 'nyeri', 'tingkat', 'sakit', 'asam', 'asma'], ['minggu', 'hpmt', 'november', 'tanggal', 'nikah', 'hamil', 'contoh', 'hpl', 'nya', 'hitung'], ['haid', 'interval', 'darah', 'volume', 'bentuk', 'durasi', 'sel', 'tingkat', 'antarhaid', 'periksa']]\n",
            "Epoch 91 - Learning Rate: 0.005 - KL theta: 6.65 - Rec loss: 589.11 - NELBO: 595.76\n",
            "Epoch 92 - Learning Rate: 0.005 - KL theta: 7.01 - Rec loss: 589.41 - NELBO: 596.42\n",
            "Epoch 93 - Learning Rate: 0.005 - KL theta: 7.08 - Rec loss: 588.49 - NELBO: 595.57\n",
            "Epoch 94 - Learning Rate: 0.005 - KL theta: 6.88 - Rec loss: 589.63 - NELBO: 596.51\n",
            "Epoch 95 - Learning Rate: 0.005 - KL theta: 6.65 - Rec loss: 590.09 - NELBO: 596.74\n",
            "Epoch 96 - Learning Rate: 0.005 - KL theta: 6.82 - Rec loss: 588.16 - NELBO: 594.98\n",
            "Epoch 97 - Learning Rate: 0.005 - KL theta: 6.74 - Rec loss: 587.87 - NELBO: 594.61\n",
            "Epoch 98 - Learning Rate: 0.005 - KL theta: 6.26 - Rec loss: 587.33 - NELBO: 593.59\n",
            "Epoch 99 - Learning Rate: 0.005 - KL theta: 5.72 - Rec loss: 589.86 - NELBO: 595.58\n",
            "Epoch 100 - Learning Rate: 0.005 - KL theta: 5.67 - Rec loss: 590.67 - NELBO: 596.34\n",
            "Topics: [['obat', 'makan', 'asam', 'nyeri', 'asma', 'konsumsi', 'sakit', 'lambung', 'kepala', 'golong'], ['haid', 'interval', 'darah', 'volume', 'durasi', 'periksa', 'bentuk', 'sel', 'tingkat', 'antarhaid'], ['periksa', 'listrik', 'aktivitas', 'spesialis', 'haid', 'darah', 'otak', 'usg', 'lihat', 'langsung'], ['tengkorak', 'tekan', 'obat', 'kepala', 'muntah', 'tingkat', 'nyeri', 'periksa', 'sakit', 'asma'], ['minggu', 'hpmt', 'november', 'tanggal', 'nikah', 'hamil', 'contoh', 'hpl', 'nya', 'hitung'], ['haid', 'interval', 'darah', 'volume', 'sel', 'bentuk', 'durasi', 'periksa', 'antarhaid', 'tingkat']]\n",
            "Epoch 101 - Learning Rate: 0.005 - KL theta: 6.0 - Rec loss: 589.64 - NELBO: 595.64\n",
            "Epoch 102 - Learning Rate: 0.005 - KL theta: 6.79 - Rec loss: 588.12 - NELBO: 594.91\n",
            "Epoch 103 - Learning Rate: 0.005 - KL theta: 7.5 - Rec loss: 585.85 - NELBO: 593.35\n",
            "Epoch 104 - Learning Rate: 0.005 - KL theta: 7.71 - Rec loss: 586.54 - NELBO: 594.25\n",
            "Epoch 105 - Learning Rate: 0.005 - KL theta: 7.71 - Rec loss: 587.48 - NELBO: 595.19\n",
            "Epoch 106 - Learning Rate: 0.005 - KL theta: 7.4 - Rec loss: 586.49 - NELBO: 593.89\n",
            "Epoch 107 - Learning Rate: 0.005 - KL theta: 6.68 - Rec loss: 588.87 - NELBO: 595.55\n",
            "Epoch 108 - Learning Rate: 0.005 - KL theta: 6.68 - Rec loss: 588.21 - NELBO: 594.89\n",
            "Epoch 109 - Learning Rate: 0.005 - KL theta: 6.99 - Rec loss: 585.07 - NELBO: 592.06\n",
            "Epoch 110 - Learning Rate: 0.005 - KL theta: 7.12 - Rec loss: 588.99 - NELBO: 596.11\n",
            "Topics: [['obat', 'makan', 'asam', 'nyeri', 'asma', 'konsumsi', 'lambung', 'sakit', 'hindar', 'kepala'], ['haid', 'interval', 'darah', 'volume', 'periksa', 'durasi', 'bentuk', 'tingkat', 'sel', 'antarhaid'], ['periksa', 'listrik', 'aktivitas', 'spesialis', 'darah', 'haid', 'otak', 'usg', 'lihat', 'langsung'], ['tengkorak', 'tekan', 'obat', 'kepala', 'muntah', 'periksa', 'kandung', 'tingkat', 'asma', 'sakit'], ['minggu', 'hpmt', 'november', 'tanggal', 'nikah', 'hamil', 'hpl', 'contoh', 'nya', 'hitung'], ['haid', 'darah', 'interval', 'volume', 'sel', 'periksa', 'bentuk', 'durasi', 'telur', 'tingkat']]\n",
            "Epoch 111 - Learning Rate: 0.005 - KL theta: 7.75 - Rec loss: 586.75 - NELBO: 594.5\n",
            "Epoch 112 - Learning Rate: 0.005 - KL theta: 8.37 - Rec loss: 586.72 - NELBO: 595.09\n",
            "Epoch 113 - Learning Rate: 0.005 - KL theta: 8.4 - Rec loss: 584.44 - NELBO: 592.84\n",
            "Epoch 114 - Learning Rate: 0.005 - KL theta: 7.87 - Rec loss: 585.4 - NELBO: 593.27\n",
            "Epoch 115 - Learning Rate: 0.005 - KL theta: 7.26 - Rec loss: 584.35 - NELBO: 591.61\n",
            "Epoch 116 - Learning Rate: 0.005 - KL theta: 6.52 - Rec loss: 586.3 - NELBO: 592.82\n",
            "Epoch 117 - Learning Rate: 0.005 - KL theta: 6.2 - Rec loss: 587.17 - NELBO: 593.37\n",
            "Epoch 118 - Learning Rate: 0.005 - KL theta: 6.15 - Rec loss: 585.22 - NELBO: 591.37\n",
            "Epoch 119 - Learning Rate: 0.005 - KL theta: 6.15 - Rec loss: 587.35 - NELBO: 593.5\n",
            "Epoch 120 - Learning Rate: 0.005 - KL theta: 6.49 - Rec loss: 586.18 - NELBO: 592.67\n",
            "Topics: [['obat', 'makan', 'asam', 'nyeri', 'asma', 'konsumsi', 'lambung', 'sakit', 'hindar', 'muntah'], ['haid', 'darah', 'interval', 'periksa', 'volume', 'durasi', 'bentuk', 'tingkat', 'listrik', 'aktivitas'], ['periksa', 'listrik', 'aktivitas', 'spesialis', 'otak', 'darah', 'usg', 'haid', 'lihat', 'langsung'], ['tengkorak', 'tekan', 'obat', 'kepala', 'periksa', 'muntah', 'kandung', 'tingkat', 'sakit', 'asma'], ['minggu', 'hpmt', 'november', 'tanggal', 'nikah', 'hamil', 'hpl', 'contoh', 'nya', 'hitung'], ['haid', 'darah', 'interval', 'periksa', 'sel', 'volume', 'bentuk', 'telur', 'durasi', 'langsung']]\n",
            "Epoch 121 - Learning Rate: 0.005 - KL theta: 7.02 - Rec loss: 584.01 - NELBO: 591.03\n",
            "Epoch 122 - Learning Rate: 0.005 - KL theta: 7.32 - Rec loss: 584.13 - NELBO: 591.45\n",
            "Epoch 123 - Learning Rate: 0.005 - KL theta: 7.32 - Rec loss: 583.93 - NELBO: 591.25\n",
            "Epoch 124 - Learning Rate: 0.005 - KL theta: 7.3 - Rec loss: 584.04 - NELBO: 591.34\n",
            "Epoch 125 - Learning Rate: 0.005 - KL theta: 7.09 - Rec loss: 583.04 - NELBO: 590.13\n",
            "Epoch 126 - Learning Rate: 0.005 - KL theta: 6.77 - Rec loss: 584.66 - NELBO: 591.43\n",
            "Epoch 127 - Learning Rate: 0.005 - KL theta: 6.56 - Rec loss: 583.72 - NELBO: 590.28\n",
            "Epoch 128 - Learning Rate: 0.005 - KL theta: 6.43 - Rec loss: 584.91 - NELBO: 591.34\n",
            "Epoch 129 - Learning Rate: 0.005 - KL theta: 6.58 - Rec loss: 583.81 - NELBO: 590.39\n",
            "Epoch 130 - Learning Rate: 0.005 - KL theta: 6.45 - Rec loss: 583.79 - NELBO: 590.24\n",
            "Topics: [['makan', 'obat', 'asam', 'nyeri', 'asma', 'konsumsi', 'lambung', 'sakit', 'hindar', 'muntah'], ['haid', 'darah', 'periksa', 'interval', 'volume', 'listrik', 'aktivitas', 'tingkat', 'durasi', 'bentuk'], ['periksa', 'listrik', 'aktivitas', 'spesialis', 'otak', 'usg', 'darah', 'lihat', 'medis', 'fisik'], ['tengkorak', 'tekan', 'obat', 'periksa', 'kepala', 'muntah', 'kandung', 'tingkat', 'spesialis', 'sakit'], ['minggu', 'hpmt', 'november', 'tanggal', 'nikah', 'hamil', 'hpl', 'contoh', 'nya', 'hitung'], ['haid', 'periksa', 'darah', 'sel', 'interval', 'volume', 'bentuk', 'telur', 'langsung', 'durasi']]\n",
            "Epoch 131 - Learning Rate: 0.005 - KL theta: 6.25 - Rec loss: 583.72 - NELBO: 589.97\n",
            "Epoch 132 - Learning Rate: 0.005 - KL theta: 6.22 - Rec loss: 584.5 - NELBO: 590.72\n",
            "Epoch 133 - Learning Rate: 0.005 - KL theta: 6.43 - Rec loss: 584.44 - NELBO: 590.87\n",
            "Epoch 134 - Learning Rate: 0.005 - KL theta: 6.67 - Rec loss: 583.79 - NELBO: 590.46\n",
            "Epoch 135 - Learning Rate: 0.005 - KL theta: 7.15 - Rec loss: 584.75 - NELBO: 591.9\n",
            "Epoch 136 - Learning Rate: 0.005 - KL theta: 8.09 - Rec loss: 583.25 - NELBO: 591.34\n",
            "Epoch 137 - Learning Rate: 0.005 - KL theta: 9.15 - Rec loss: 581.85 - NELBO: 591.0\n",
            "Epoch 138 - Learning Rate: 0.005 - KL theta: 9.71 - Rec loss: 581.38 - NELBO: 591.09\n",
            "Epoch 139 - Learning Rate: 0.005 - KL theta: 9.54 - Rec loss: 580.85 - NELBO: 590.39\n",
            "Epoch 140 - Learning Rate: 0.005 - KL theta: 8.71 - Rec loss: 582.79 - NELBO: 591.5\n",
            "Topics: [['makan', 'obat', 'asam', 'nyeri', 'asma', 'konsumsi', 'lambung', 'sakit', 'hindar', 'muntah'], ['haid', 'periksa', 'darah', 'interval', 'volume', 'listrik', 'aktivitas', 'tingkat', 'durasi', 'bentuk'], ['periksa', 'listrik', 'aktivitas', 'spesialis', 'otak', 'usg', 'darah', 'lihat', 'medis', 'fisik'], ['tengkorak', 'tekan', 'obat', 'periksa', 'kepala', 'muntah', 'kandung', 'tingkat', 'spesialis', 'sakit'], ['minggu', 'hpmt', 'november', 'tanggal', 'nikah', 'hamil', 'hpl', 'contoh', 'nya', 'hitung'], ['haid', 'periksa', 'darah', 'sel', 'interval', 'volume', 'telur', 'bentuk', 'langsung', 'spesialis']]\n",
            "Epoch 141 - Learning Rate: 0.005 - KL theta: 7.49 - Rec loss: 582.41 - NELBO: 589.9\n",
            "Epoch 142 - Learning Rate: 0.005 - KL theta: 6.57 - Rec loss: 583.19 - NELBO: 589.76\n",
            "Epoch 143 - Learning Rate: 0.005 - KL theta: 6.03 - Rec loss: 584.4 - NELBO: 590.43\n",
            "Epoch 144 - Learning Rate: 0.005 - KL theta: 5.95 - Rec loss: 585.18 - NELBO: 591.13\n",
            "Epoch 145 - Learning Rate: 0.005 - KL theta: 6.53 - Rec loss: 581.83 - NELBO: 588.36\n",
            "Epoch 146 - Learning Rate: 0.005 - KL theta: 7.15 - Rec loss: 581.8 - NELBO: 588.95\n",
            "Epoch 147 - Learning Rate: 0.005 - KL theta: 7.33 - Rec loss: 584.59 - NELBO: 591.92\n",
            "Epoch 148 - Learning Rate: 0.005 - KL theta: 7.29 - Rec loss: 584.04 - NELBO: 591.33\n",
            "Epoch 149 - Learning Rate: 0.005 - KL theta: 6.78 - Rec loss: 583.2 - NELBO: 589.98\n",
            "Epoch 150 - Learning Rate: 0.005 - KL theta: 6.38 - Rec loss: 581.92 - NELBO: 588.3\n",
            "Topics: [['makan', 'obat', 'asam', 'nyeri', 'asma', 'konsumsi', 'lambung', 'sakit', 'hindar', 'muntah'], ['haid', 'periksa', 'darah', 'interval', 'volume', 'listrik', 'aktivitas', 'tingkat', 'durasi', 'spesialis'], ['periksa', 'listrik', 'aktivitas', 'spesialis', 'otak', 'usg', 'lihat', 'darah', 'medis', 'fisik'], ['tengkorak', 'tekan', 'obat', 'periksa', 'kepala', 'muntah', 'kandung', 'tingkat', 'spesialis', 'sakit'], ['minggu', 'hpmt', 'november', 'tanggal', 'nikah', 'hamil', 'hpl', 'contoh', 'nya', 'hitung'], ['haid', 'periksa', 'darah', 'sel', 'interval', 'volume', 'telur', 'bentuk', 'langsung', 'spesialis']]\n",
            "Epoch 151 - Learning Rate: 0.005 - KL theta: 6.13 - Rec loss: 582.13 - NELBO: 588.26\n",
            "Epoch 152 - Learning Rate: 0.005 - KL theta: 5.93 - Rec loss: 582.57 - NELBO: 588.5\n",
            "Epoch 153 - Learning Rate: 0.005 - KL theta: 5.96 - Rec loss: 583.45 - NELBO: 589.41\n",
            "Epoch 154 - Learning Rate: 0.005 - KL theta: 6.25 - Rec loss: 580.98 - NELBO: 587.23\n",
            "Epoch 155 - Learning Rate: 0.005 - KL theta: 6.45 - Rec loss: 582.52 - NELBO: 588.97\n",
            "Epoch 156 - Learning Rate: 0.005 - KL theta: 6.74 - Rec loss: 581.54 - NELBO: 588.28\n",
            "Epoch 157 - Learning Rate: 0.005 - KL theta: 6.97 - Rec loss: 586.15 - NELBO: 593.12\n",
            "Epoch 158 - Learning Rate: 0.005 - KL theta: 7.73 - Rec loss: 580.61 - NELBO: 588.34\n",
            "Epoch 159 - Learning Rate: 0.005 - KL theta: 8.3 - Rec loss: 580.25 - NELBO: 588.55\n",
            "Epoch 160 - Learning Rate: 0.005 - KL theta: 8.44 - Rec loss: 580.38 - NELBO: 588.82\n",
            "Topics: [['makan', 'obat', 'asam', 'nyeri', 'asma', 'konsumsi', 'lambung', 'sakit', 'hindar', 'muntah'], ['haid', 'periksa', 'darah', 'listrik', 'interval', 'aktivitas', 'volume', 'tingkat', 'spesialis', 'otak'], ['periksa', 'listrik', 'aktivitas', 'spesialis', 'otak', 'usg', 'lihat', 'medis', 'fisik', 'kandung'], ['tengkorak', 'tekan', 'obat', 'periksa', 'kepala', 'muntah', 'kandung', 'tingkat', 'spesialis', 'sakit'], ['minggu', 'hpmt', 'november', 'tanggal', 'nikah', 'hamil', 'hpl', 'contoh', 'nya', 'hitung'], ['haid', 'periksa', 'darah', 'sel', 'interval', 'volume', 'telur', 'bentuk', 'spesialis', 'langsung']]\n",
            "Epoch 161 - Learning Rate: 0.005 - KL theta: 8.21 - Rec loss: 580.47 - NELBO: 588.68\n",
            "Epoch 162 - Learning Rate: 0.005 - KL theta: 7.68 - Rec loss: 581.07 - NELBO: 588.75\n",
            "Epoch 163 - Learning Rate: 0.005 - KL theta: 7.0 - Rec loss: 582.96 - NELBO: 589.96\n",
            "Epoch 164 - Learning Rate: 0.005 - KL theta: 6.63 - Rec loss: 583.48 - NELBO: 590.11\n",
            "Epoch 165 - Learning Rate: 0.005 - KL theta: 6.76 - Rec loss: 581.31 - NELBO: 588.07\n",
            "Epoch 166 - Learning Rate: 0.005 - KL theta: 7.26 - Rec loss: 579.23 - NELBO: 586.49\n",
            "Epoch 167 - Learning Rate: 0.005 - KL theta: 7.63 - Rec loss: 580.75 - NELBO: 588.38\n",
            "Epoch 168 - Learning Rate: 0.005 - KL theta: 7.62 - Rec loss: 580.22 - NELBO: 587.84\n",
            "Epoch 169 - Learning Rate: 0.005 - KL theta: 7.12 - Rec loss: 580.89 - NELBO: 588.01\n",
            "Epoch 170 - Learning Rate: 0.005 - KL theta: 6.45 - Rec loss: 581.09 - NELBO: 587.54\n",
            "Topics: [['makan', 'obat', 'asam', 'nyeri', 'asma', 'konsumsi', 'lambung', 'sakit', 'hindar', 'muntah'], ['periksa', 'haid', 'darah', 'listrik', 'aktivitas', 'interval', 'volume', 'tingkat', 'otak', 'spesialis'], ['periksa', 'listrik', 'aktivitas', 'spesialis', 'otak', 'usg', 'lihat', 'medis', 'kandung', 'fisik'], ['tengkorak', 'tekan', 'obat', 'periksa', 'kepala', 'muntah', 'tingkat', 'kandung', 'sakit', 'spesialis'], ['minggu', 'hpmt', 'november', 'tanggal', 'nikah', 'hamil', 'hpl', 'contoh', 'nya', 'hitung'], ['haid', 'periksa', 'darah', 'sel', 'interval', 'telur', 'volume', 'bentuk', 'spesialis', 'langsung']]\n",
            "Epoch 171 - Learning Rate: 0.005 - KL theta: 5.98 - Rec loss: 582.19 - NELBO: 588.17\n",
            "Epoch 172 - Learning Rate: 0.005 - KL theta: 6.01 - Rec loss: 580.31 - NELBO: 586.32\n",
            "Epoch 173 - Learning Rate: 0.005 - KL theta: 6.06 - Rec loss: 579.41 - NELBO: 585.47\n",
            "Epoch 174 - Learning Rate: 0.005 - KL theta: 6.11 - Rec loss: 582.34 - NELBO: 588.45\n",
            "Epoch 175 - Learning Rate: 0.005 - KL theta: 6.41 - Rec loss: 581.22 - NELBO: 587.63\n",
            "Epoch 176 - Learning Rate: 0.005 - KL theta: 6.91 - Rec loss: 580.05 - NELBO: 586.96\n",
            "Epoch 177 - Learning Rate: 0.005 - KL theta: 7.45 - Rec loss: 580.44 - NELBO: 587.89\n",
            "Epoch 178 - Learning Rate: 0.005 - KL theta: 7.9 - Rec loss: 579.42 - NELBO: 587.32\n",
            "Epoch 179 - Learning Rate: 0.005 - KL theta: 8.45 - Rec loss: 579.82 - NELBO: 588.27\n",
            "Epoch 180 - Learning Rate: 0.005 - KL theta: 8.67 - Rec loss: 577.62 - NELBO: 586.29\n",
            "Topics: [['makan', 'obat', 'asam', 'nyeri', 'asma', 'konsumsi', 'lambung', 'sakit', 'hindar', 'muntah'], ['periksa', 'haid', 'listrik', 'darah', 'aktivitas', 'interval', 'tingkat', 'volume', 'otak', 'spesialis'], ['periksa', 'listrik', 'aktivitas', 'spesialis', 'otak', 'lihat', 'usg', 'tingkat', 'tengkorak', 'medis'], ['tengkorak', 'tekan', 'obat', 'kepala', 'periksa', 'tingkat', 'muntah', 'sakit', 'kandung', 'spesialis'], ['minggu', 'hpmt', 'november', 'tanggal', 'nikah', 'hamil', 'hpl', 'contoh', 'nya', 'hitung'], ['haid', 'periksa', 'sel', 'darah', 'interval', 'telur', 'volume', 'bentuk', 'langsung', 'spesialis']]\n",
            "Epoch 181 - Learning Rate: 0.005 - KL theta: 8.27 - Rec loss: 579.12 - NELBO: 587.39\n",
            "Epoch 182 - Learning Rate: 0.005 - KL theta: 7.67 - Rec loss: 579.55 - NELBO: 587.22\n",
            "Epoch 183 - Learning Rate: 0.005 - KL theta: 7.1 - Rec loss: 578.7 - NELBO: 585.8\n",
            "Epoch 184 - Learning Rate: 0.005 - KL theta: 6.59 - Rec loss: 581.1 - NELBO: 587.69\n",
            "Epoch 185 - Learning Rate: 0.005 - KL theta: 6.34 - Rec loss: 579.07 - NELBO: 585.41\n",
            "Epoch 186 - Learning Rate: 0.005 - KL theta: 6.15 - Rec loss: 580.55 - NELBO: 586.7\n",
            "Epoch 187 - Learning Rate: 0.005 - KL theta: 6.25 - Rec loss: 579.43 - NELBO: 585.68\n",
            "Epoch 188 - Learning Rate: 0.005 - KL theta: 6.54 - Rec loss: 578.35 - NELBO: 584.89\n",
            "Epoch 189 - Learning Rate: 0.005 - KL theta: 6.81 - Rec loss: 578.68 - NELBO: 585.49\n",
            "Epoch 190 - Learning Rate: 0.005 - KL theta: 6.91 - Rec loss: 579.48 - NELBO: 586.39\n",
            "Topics: [['makan', 'obat', 'asam', 'nyeri', 'asma', 'konsumsi', 'lambung', 'hindar', 'sakit', 'muntah'], ['periksa', 'haid', 'listrik', 'aktivitas', 'darah', 'tingkat', 'otak', 'interval', 'volume', 'spesialis'], ['periksa', 'listrik', 'aktivitas', 'spesialis', 'otak', 'lihat', 'usg', 'tingkat', 'tengkorak', 'kandung'], ['tengkorak', 'tekan', 'kepala', 'obat', 'periksa', 'tingkat', 'muntah', 'sakit', 'kandung', 'spesialis'], ['minggu', 'hpmt', 'november', 'tanggal', 'nikah', 'hamil', 'hpl', 'contoh', 'nya', 'hitung'], ['haid', 'periksa', 'sel', 'darah', 'telur', 'interval', 'volume', 'bentuk', 'langsung', 'spesialis']]\n",
            "Epoch 191 - Learning Rate: 0.005 - KL theta: 7.05 - Rec loss: 577.9 - NELBO: 584.95\n",
            "Epoch 192 - Learning Rate: 0.005 - KL theta: 7.01 - Rec loss: 578.85 - NELBO: 585.86\n",
            "Epoch 193 - Learning Rate: 0.005 - KL theta: 7.07 - Rec loss: 578.16 - NELBO: 585.23\n",
            "Epoch 194 - Learning Rate: 0.005 - KL theta: 7.05 - Rec loss: 577.78 - NELBO: 584.83\n",
            "Epoch 195 - Learning Rate: 0.005 - KL theta: 7.08 - Rec loss: 577.67 - NELBO: 584.75\n",
            "Epoch 196 - Learning Rate: 0.005 - KL theta: 7.08 - Rec loss: 578.79 - NELBO: 585.87\n",
            "Epoch 197 - Learning Rate: 0.005 - KL theta: 7.05 - Rec loss: 577.43 - NELBO: 584.48\n",
            "Epoch 198 - Learning Rate: 0.005 - KL theta: 6.9 - Rec loss: 577.26 - NELBO: 584.16\n",
            "Epoch 199 - Learning Rate: 0.005 - KL theta: 6.66 - Rec loss: 578.56 - NELBO: 585.22\n",
            "Epoch 200 - Learning Rate: 0.005 - KL theta: 6.56 - Rec loss: 578.64 - NELBO: 585.2\n",
            "Topics: [['makan', 'obat', 'asam', 'nyeri', 'asma', 'konsumsi', 'hindar', 'lambung', 'sakit', 'muntah'], ['periksa', 'listrik', 'aktivitas', 'haid', 'darah', 'tingkat', 'otak', 'tengkorak', 'spesialis', 'volume'], ['periksa', 'listrik', 'aktivitas', 'spesialis', 'otak', 'lihat', 'tengkorak', 'usg', 'tingkat', 'kandung'], ['tengkorak', 'tekan', 'kepala', 'obat', 'periksa', 'tingkat', 'sakit', 'muntah', 'kandung', 'spesialis'], ['minggu', 'november', 'hpmt', 'tanggal', 'nikah', 'hamil', 'hpl', 'contoh', 'nya', 'usia'], ['haid', 'periksa', 'sel', 'darah', 'telur', 'interval', 'volume', 'bentuk', 'langsung', 'spesialis']]\n",
            "Epoch 201 - Learning Rate: 0.005 - KL theta: 6.85 - Rec loss: 578.98 - NELBO: 585.83\n",
            "Epoch 202 - Learning Rate: 0.005 - KL theta: 7.53 - Rec loss: 577.18 - NELBO: 584.71\n",
            "Epoch 203 - Learning Rate: 0.005 - KL theta: 7.93 - Rec loss: 575.74 - NELBO: 583.67\n",
            "Epoch 204 - Learning Rate: 0.005 - KL theta: 7.94 - Rec loss: 578.19 - NELBO: 586.13\n",
            "Epoch 205 - Learning Rate: 0.005 - KL theta: 7.92 - Rec loss: 577.03 - NELBO: 584.95\n",
            "Epoch 206 - Learning Rate: 0.005 - KL theta: 7.74 - Rec loss: 575.49 - NELBO: 583.23\n",
            "Epoch 207 - Learning Rate: 0.005 - KL theta: 7.23 - Rec loss: 577.21 - NELBO: 584.44\n",
            "Epoch 208 - Learning Rate: 0.005 - KL theta: 6.88 - Rec loss: 579.85 - NELBO: 586.73\n",
            "Epoch 209 - Learning Rate: 0.005 - KL theta: 7.09 - Rec loss: 576.37 - NELBO: 583.46\n",
            "Epoch 210 - Learning Rate: 0.005 - KL theta: 7.34 - Rec loss: 576.46 - NELBO: 583.8\n",
            "Topics: [['makan', 'obat', 'asam', 'nyeri', 'asma', 'konsumsi', 'hindar', 'lambung', 'sakit', 'muntah'], ['periksa', 'listrik', 'aktivitas', 'haid', 'darah', 'tingkat', 'otak', 'tengkorak', 'lihat', 'spesialis'], ['periksa', 'listrik', 'aktivitas', 'spesialis', 'otak', 'lihat', 'tengkorak', 'usg', 'tingkat', 'kandung'], ['tengkorak', 'tekan', 'kepala', 'obat', 'periksa', 'sakit', 'tingkat', 'muntah', 'kandung', 'mual'], ['minggu', 'november', 'hpmt', 'tanggal', 'nikah', 'hamil', 'hpl', 'contoh', 'nya', 'usia'], ['haid', 'periksa', 'sel', 'darah', 'telur', 'interval', 'bentuk', 'volume', 'langsung', 'spesialis']]\n",
            "Epoch 211 - Learning Rate: 0.005 - KL theta: 7.65 - Rec loss: 576.69 - NELBO: 584.34\n",
            "Epoch 212 - Learning Rate: 0.005 - KL theta: 8.0 - Rec loss: 575.15 - NELBO: 583.15\n",
            "Epoch 213 - Learning Rate: 0.005 - KL theta: 8.13 - Rec loss: 576.51 - NELBO: 584.64\n",
            "Epoch 214 - Learning Rate: 0.005 - KL theta: 8.07 - Rec loss: 576.61 - NELBO: 584.68\n",
            "Epoch 215 - Learning Rate: 0.005 - KL theta: 8.23 - Rec loss: 574.86 - NELBO: 583.09\n",
            "Epoch 216 - Learning Rate: 0.005 - KL theta: 8.2 - Rec loss: 574.84 - NELBO: 583.04\n",
            "Epoch 217 - Learning Rate: 0.005 - KL theta: 7.95 - Rec loss: 575.9 - NELBO: 583.85\n",
            "Epoch 218 - Learning Rate: 0.005 - KL theta: 7.74 - Rec loss: 575.02 - NELBO: 582.76\n",
            "Epoch 219 - Learning Rate: 0.005 - KL theta: 7.44 - Rec loss: 574.59 - NELBO: 582.03\n",
            "Epoch 220 - Learning Rate: 0.005 - KL theta: 6.99 - Rec loss: 576.48 - NELBO: 583.47\n",
            "Topics: [['makan', 'obat', 'asam', 'nyeri', 'asma', 'konsumsi', 'hindar', 'lambung', 'muntah', 'sakit'], ['periksa', 'listrik', 'aktivitas', 'tingkat', 'tengkorak', 'darah', 'otak', 'haid', 'lihat', 'spesialis'], ['periksa', 'listrik', 'aktivitas', 'spesialis', 'otak', 'tengkorak', 'lihat', 'usg', 'tingkat', 'kandung'], ['tengkorak', 'tekan', 'kepala', 'obat', 'periksa', 'sakit', 'muntah', 'tingkat', 'kandung', 'mual'], ['minggu', 'november', 'hpmt', 'hamil', 'tanggal', 'nikah', 'hpl', 'contoh', 'nya', 'usia'], ['haid', 'periksa', 'sel', 'darah', 'telur', 'interval', 'bentuk', 'volume', 'langsung', 'spesialis']]\n",
            "Epoch 221 - Learning Rate: 0.005 - KL theta: 6.79 - Rec loss: 575.71 - NELBO: 582.5\n",
            "Epoch 222 - Learning Rate: 0.005 - KL theta: 6.61 - Rec loss: 575.28 - NELBO: 581.89\n",
            "Epoch 223 - Learning Rate: 0.005 - KL theta: 6.52 - Rec loss: 575.78 - NELBO: 582.3\n",
            "Epoch 224 - Learning Rate: 0.005 - KL theta: 6.58 - Rec loss: 576.22 - NELBO: 582.8\n",
            "Epoch 225 - Learning Rate: 0.005 - KL theta: 6.99 - Rec loss: 574.21 - NELBO: 581.2\n",
            "Epoch 226 - Learning Rate: 0.005 - KL theta: 7.35 - Rec loss: 574.74 - NELBO: 582.09\n",
            "Epoch 227 - Learning Rate: 0.005 - KL theta: 7.71 - Rec loss: 575.59 - NELBO: 583.3\n",
            "Epoch 228 - Learning Rate: 0.005 - KL theta: 7.87 - Rec loss: 574.87 - NELBO: 582.74\n",
            "Epoch 229 - Learning Rate: 0.005 - KL theta: 7.89 - Rec loss: 574.51 - NELBO: 582.4\n",
            "Epoch 230 - Learning Rate: 0.005 - KL theta: 7.9 - Rec loss: 574.22 - NELBO: 582.12\n",
            "Topics: [['makan', 'obat', 'asam', 'nyeri', 'asma', 'konsumsi', 'hindar', 'lambung', 'muntah', 'sakit'], ['listrik', 'aktivitas', 'periksa', 'tingkat', 'tengkorak', 'otak', 'darah', 'haid', 'lihat', 'tekan'], ['periksa', 'listrik', 'aktivitas', 'spesialis', 'otak', 'usg', 'tengkorak', 'lihat', 'kandung', 'medis'], ['tengkorak', 'tekan', 'kepala', 'obat', 'periksa', 'sakit', 'muntah', 'tingkat', 'kandung', 'mual'], ['minggu', 'november', 'hamil', 'hpmt', 'tanggal', 'nikah', 'hpl', 'contoh', 'usia', 'nya'], ['haid', 'periksa', 'sel', 'darah', 'telur', 'interval', 'bentuk', 'volume', 'langsung', 'spesialis']]\n",
            "Epoch 231 - Learning Rate: 0.005 - KL theta: 7.75 - Rec loss: 574.1 - NELBO: 581.85\n",
            "Epoch 232 - Learning Rate: 0.005 - KL theta: 7.58 - Rec loss: 574.45 - NELBO: 582.03\n",
            "Epoch 233 - Learning Rate: 0.005 - KL theta: 7.43 - Rec loss: 575.14 - NELBO: 582.57\n",
            "Epoch 234 - Learning Rate: 0.005 - KL theta: 7.49 - Rec loss: 576.53 - NELBO: 584.02\n",
            "Epoch 235 - Learning Rate: 0.005 - KL theta: 8.01 - Rec loss: 573.45 - NELBO: 581.46\n",
            "Epoch 236 - Learning Rate: 0.005 - KL theta: 8.46 - Rec loss: 572.33 - NELBO: 580.79\n",
            "Epoch 237 - Learning Rate: 0.005 - KL theta: 8.46 - Rec loss: 573.16 - NELBO: 581.62\n",
            "Epoch 238 - Learning Rate: 0.005 - KL theta: 8.08 - Rec loss: 572.64 - NELBO: 580.72\n",
            "Epoch 239 - Learning Rate: 0.005 - KL theta: 7.45 - Rec loss: 573.46 - NELBO: 580.91\n",
            "Epoch 240 - Learning Rate: 0.005 - KL theta: 6.83 - Rec loss: 573.98 - NELBO: 580.81\n",
            "Topics: [['makan', 'obat', 'asam', 'nyeri', 'asma', 'konsumsi', 'hindar', 'lambung', 'muntah', 'sakit'], ['listrik', 'aktivitas', 'periksa', 'tengkorak', 'tingkat', 'otak', 'darah', 'tekan', 'haid', 'lihat'], ['periksa', 'listrik', 'aktivitas', 'spesialis', 'otak', 'usg', 'kandung', 'tengkorak', 'lihat', 'medis'], ['tengkorak', 'tekan', 'kepala', 'obat', 'sakit', 'periksa', 'muntah', 'tingkat', 'kandung', 'mual'], ['minggu', 'hamil', 'november', 'hpmt', 'tanggal', 'nikah', 'hpl', 'contoh', 'usia', 'hitung'], ['haid', 'periksa', 'sel', 'darah', 'telur', 'interval', 'bentuk', 'volume', 'langsung', 'rahim']]\n",
            "Epoch 241 - Learning Rate: 0.005 - KL theta: 6.31 - Rec loss: 573.9 - NELBO: 580.21\n",
            "Epoch 242 - Learning Rate: 0.005 - KL theta: 5.83 - Rec loss: 574.95 - NELBO: 580.78\n",
            "Epoch 243 - Learning Rate: 0.005 - KL theta: 5.66 - Rec loss: 574.6 - NELBO: 580.26\n",
            "Epoch 244 - Learning Rate: 0.005 - KL theta: 5.74 - Rec loss: 577.71 - NELBO: 583.45\n",
            "Epoch 245 - Learning Rate: 0.005 - KL theta: 6.4 - Rec loss: 577.31 - NELBO: 583.71\n",
            "Epoch 246 - Learning Rate: 0.005 - KL theta: 7.75 - Rec loss: 572.26 - NELBO: 580.01\n",
            "Epoch 247 - Learning Rate: 0.005 - KL theta: 9.08 - Rec loss: 571.29 - NELBO: 580.37\n",
            "Epoch 248 - Learning Rate: 0.005 - KL theta: 9.93 - Rec loss: 572.03 - NELBO: 581.96\n",
            "Epoch 249 - Learning Rate: 0.005 - KL theta: 10.25 - Rec loss: 570.51 - NELBO: 580.76\n",
            "Epoch 250 - Learning Rate: 0.005 - KL theta: 9.82 - Rec loss: 570.81 - NELBO: 580.63\n",
            "Topics: [['makan', 'obat', 'asam', 'nyeri', 'konsumsi', 'asma', 'hindar', 'lambung', 'muntah', 'sakit'], ['tengkorak', 'listrik', 'aktivitas', 'periksa', 'tingkat', 'tekan', 'darah', 'otak', 'haid', 'lihat'], ['periksa', 'spesialis', 'listrik', 'aktivitas', 'otak', 'kandung', 'usg', 'tengkorak', 'medis', 'bidan'], ['tengkorak', 'tekan', 'kepala', 'obat', 'sakit', 'periksa', 'muntah', 'kandung', 'mual', 'tingkat'], ['minggu', 'hamil', 'november', 'hpmt', 'tanggal', 'nikah', 'hpl', 'usia', 'contoh', 'hitung'], ['haid', 'periksa', 'sel', 'darah', 'telur', 'interval', 'bentuk', 'volume', 'langsung', 'rahim']]\n",
            "Epoch 251 - Learning Rate: 0.005 - KL theta: 9.0 - Rec loss: 571.83 - NELBO: 580.83\n",
            "Epoch 252 - Learning Rate: 0.005 - KL theta: 8.16 - Rec loss: 572.56 - NELBO: 580.72\n",
            "Epoch 253 - Learning Rate: 0.005 - KL theta: 7.41 - Rec loss: 572.81 - NELBO: 580.22\n",
            "Epoch 254 - Learning Rate: 0.005 - KL theta: 6.9 - Rec loss: 572.1 - NELBO: 579.0\n",
            "Epoch 255 - Learning Rate: 0.005 - KL theta: 6.51 - Rec loss: 573.31 - NELBO: 579.82\n",
            "Epoch 256 - Learning Rate: 0.005 - KL theta: 6.35 - Rec loss: 572.5 - NELBO: 578.85\n",
            "Epoch 257 - Learning Rate: 0.005 - KL theta: 6.35 - Rec loss: 577.05 - NELBO: 583.4\n",
            "Epoch 258 - Learning Rate: 0.005 - KL theta: 6.92 - Rec loss: 574.08 - NELBO: 581.0\n",
            "Epoch 259 - Learning Rate: 0.005 - KL theta: 7.82 - Rec loss: 572.11 - NELBO: 579.93\n",
            "Epoch 260 - Learning Rate: 0.005 - KL theta: 8.67 - Rec loss: 571.12 - NELBO: 579.79\n",
            "Topics: [['makan', 'obat', 'asam', 'konsumsi', 'nyeri', 'asma', 'hindar', 'lambung', 'muntah', 'sakit'], ['tengkorak', 'listrik', 'tingkat', 'aktivitas', 'periksa', 'tekan', 'darah', 'otak', 'lihat', 'spesialis'], ['periksa', 'spesialis', 'listrik', 'aktivitas', 'kandung', 'usg', 'otak', 'bidan', 'medis', 'fisik'], ['tengkorak', 'tekan', 'obat', 'kepala', 'sakit', 'periksa', 'muntah', 'kandung', 'mual', 'asma'], ['minggu', 'hamil', 'november', 'hpmt', 'tanggal', 'nikah', 'hpl', 'usia', 'contoh', 'hitung'], ['haid', 'periksa', 'sel', 'darah', 'telur', 'interval', 'bentuk', 'volume', 'langsung', 'menstruasi']]\n",
            "Epoch 261 - Learning Rate: 0.005 - KL theta: 9.2 - Rec loss: 571.85 - NELBO: 581.05\n",
            "Epoch 262 - Learning Rate: 0.005 - KL theta: 9.3 - Rec loss: 570.13 - NELBO: 579.43\n",
            "Epoch 263 - Learning Rate: 0.005 - KL theta: 8.99 - Rec loss: 569.87 - NELBO: 578.86\n",
            "Epoch 264 - Learning Rate: 0.005 - KL theta: 8.38 - Rec loss: 571.62 - NELBO: 580.0\n",
            "Epoch 265 - Learning Rate: 0.005 - KL theta: 7.9 - Rec loss: 571.6 - NELBO: 579.5\n",
            "Epoch 266 - Learning Rate: 0.005 - KL theta: 7.53 - Rec loss: 573.07 - NELBO: 580.6\n",
            "Epoch 267 - Learning Rate: 0.005 - KL theta: 7.52 - Rec loss: 570.8 - NELBO: 578.32\n",
            "Epoch 268 - Learning Rate: 0.005 - KL theta: 7.46 - Rec loss: 571.8 - NELBO: 579.26\n",
            "Epoch 269 - Learning Rate: 0.005 - KL theta: 7.54 - Rec loss: 571.26 - NELBO: 578.8\n",
            "Epoch 270 - Learning Rate: 0.005 - KL theta: 7.75 - Rec loss: 570.3 - NELBO: 578.05\n",
            "Topics: [['makan', 'obat', 'asam', 'konsumsi', 'asma', 'nyeri', 'hindar', 'lambung', 'muntah', 'sakit'], ['tengkorak', 'tingkat', 'listrik', 'tekan', 'aktivitas', 'periksa', 'darah', 'otak', 'kepala', 'lihat'], ['periksa', 'spesialis', 'listrik', 'aktivitas', 'kandung', 'usg', 'bidan', 'medis', 'fisik', 'otak'], ['tengkorak', 'tekan', 'obat', 'kepala', 'sakit', 'periksa', 'muntah', 'kandung', 'asma', 'mual'], ['minggu', 'hamil', 'november', 'hpmt', 'tanggal', 'nikah', 'hpl', 'usia', 'contoh', 'hitung'], ['haid', 'periksa', 'sel', 'darah', 'telur', 'interval', 'bentuk', 'menstruasi', 'langsung', 'volume']]\n",
            "Epoch 271 - Learning Rate: 0.005 - KL theta: 7.93 - Rec loss: 570.14 - NELBO: 578.07\n",
            "Epoch 272 - Learning Rate: 0.005 - KL theta: 8.12 - Rec loss: 569.65 - NELBO: 577.77\n",
            "Epoch 273 - Learning Rate: 0.005 - KL theta: 8.12 - Rec loss: 570.79 - NELBO: 578.91\n",
            "Epoch 274 - Learning Rate: 0.005 - KL theta: 8.18 - Rec loss: 569.62 - NELBO: 577.8\n",
            "Epoch 275 - Learning Rate: 0.005 - KL theta: 8.04 - Rec loss: 569.61 - NELBO: 577.65\n",
            "Epoch 276 - Learning Rate: 0.005 - KL theta: 7.75 - Rec loss: 570.52 - NELBO: 578.27\n",
            "Epoch 277 - Learning Rate: 0.005 - KL theta: 7.45 - Rec loss: 570.08 - NELBO: 577.53\n",
            "Epoch 278 - Learning Rate: 0.005 - KL theta: 7.1 - Rec loss: 570.13 - NELBO: 577.23\n",
            "Epoch 279 - Learning Rate: 0.005 - KL theta: 6.84 - Rec loss: 572.16 - NELBO: 579.0\n",
            "Epoch 280 - Learning Rate: 0.005 - KL theta: 6.85 - Rec loss: 570.58 - NELBO: 577.43\n",
            "Topics: [['makan', 'obat', 'asam', 'konsumsi', 'asma', 'nyeri', 'hindar', 'lambung', 'muntah', 'milik'], ['tengkorak', 'tekan', 'tingkat', 'listrik', 'aktivitas', 'periksa', 'kepala', 'darah', 'otak', 'spesialis'], ['periksa', 'spesialis', 'listrik', 'kandung', 'aktivitas', 'usg', 'bidan', 'medis', 'fisik', 'otak'], ['tengkorak', 'tekan', 'obat', 'kepala', 'sakit', 'muntah', 'periksa', 'kandung', 'asma', 'mual'], ['minggu', 'hamil', 'november', 'tanggal', 'hpmt', 'nikah', 'hpl', 'usia', 'hitung', 'contoh'], ['haid', 'periksa', 'sel', 'darah', 'telur', 'interval', 'bentuk', 'menstruasi', 'langsung', 'volume']]\n",
            "Epoch 281 - Learning Rate: 0.005 - KL theta: 7.05 - Rec loss: 572.57 - NELBO: 579.62\n",
            "Epoch 282 - Learning Rate: 0.005 - KL theta: 7.72 - Rec loss: 569.8 - NELBO: 577.52\n",
            "Epoch 283 - Learning Rate: 0.005 - KL theta: 8.36 - Rec loss: 568.45 - NELBO: 576.81\n",
            "Epoch 284 - Learning Rate: 0.005 - KL theta: 8.82 - Rec loss: 569.25 - NELBO: 578.07\n",
            "Epoch 285 - Learning Rate: 0.005 - KL theta: 9.27 - Rec loss: 567.65 - NELBO: 576.92\n",
            "Epoch 286 - Learning Rate: 0.005 - KL theta: 9.22 - Rec loss: 568.57 - NELBO: 577.79\n",
            "Epoch 287 - Learning Rate: 0.005 - KL theta: 8.94 - Rec loss: 568.56 - NELBO: 577.5\n",
            "Epoch 288 - Learning Rate: 0.005 - KL theta: 8.57 - Rec loss: 569.91 - NELBO: 578.48\n",
            "Epoch 289 - Learning Rate: 0.005 - KL theta: 8.37 - Rec loss: 567.94 - NELBO: 576.31\n",
            "Epoch 290 - Learning Rate: 0.005 - KL theta: 8.05 - Rec loss: 568.8 - NELBO: 576.85\n",
            "Topics: [['makan', 'obat', 'asam', 'konsumsi', 'asma', 'nyeri', 'hindar', 'lambung', 'muntah', 'milik'], ['tengkorak', 'tekan', 'tingkat', 'listrik', 'aktivitas', 'periksa', 'kepala', 'otak', 'darah', 'sakit'], ['periksa', 'spesialis', 'kandung', 'listrik', 'usg', 'aktivitas', 'bidan', 'medis', 'fisik', 'laku'], ['tengkorak', 'tekan', 'obat', 'kepala', 'sakit', 'muntah', 'periksa', 'asma', 'kandung', 'mual'], ['minggu', 'hamil', 'november', 'tanggal', 'nikah', 'hpmt', 'hpl', 'usia', 'hitung', 'contoh'], ['haid', 'periksa', 'sel', 'darah', 'telur', 'bentuk', 'interval', 'menstruasi', 'langsung', 'volume']]\n",
            "Epoch 291 - Learning Rate: 0.005 - KL theta: 7.8 - Rec loss: 567.99 - NELBO: 575.79\n",
            "Epoch 292 - Learning Rate: 0.005 - KL theta: 7.46 - Rec loss: 569.2 - NELBO: 576.66\n",
            "Epoch 293 - Learning Rate: 0.005 - KL theta: 7.28 - Rec loss: 569.39 - NELBO: 576.67\n",
            "Epoch 294 - Learning Rate: 0.005 - KL theta: 7.28 - Rec loss: 567.66 - NELBO: 574.94\n",
            "Epoch 295 - Learning Rate: 0.005 - KL theta: 7.24 - Rec loss: 567.11 - NELBO: 574.35\n",
            "Epoch 296 - Learning Rate: 0.005 - KL theta: 7.05 - Rec loss: 568.46 - NELBO: 575.51\n",
            "Epoch 297 - Learning Rate: 0.005 - KL theta: 6.96 - Rec loss: 567.83 - NELBO: 574.79\n",
            "Epoch 298 - Learning Rate: 0.005 - KL theta: 6.89 - Rec loss: 569.61 - NELBO: 576.5\n",
            "Epoch 299 - Learning Rate: 0.005 - KL theta: 7.11 - Rec loss: 568.23 - NELBO: 575.34\n"
          ]
        },
        {
          "output_type": "execute_result",
          "data": {
            "text/plain": [
              "<embedded_topic_model.models.etm.ETM at 0x7f699c0e7290>"
            ]
          },
          "metadata": {},
          "execution_count": 26
        }
      ],
      "source": [
        "from embedded_topic_model.models.etm import ETM\n",
        "\n",
        "# Training an ETM instance\n",
        "etm_instance = ETM(\n",
        "    vocabulary,\n",
        "    embeddings=embeddings_mapping, # You can pass here the path to a word2vec file or\n",
        "                                   # a KeyedVectors instance\n",
        "    num_topics=6,\n",
        "    epochs=300,\n",
        "    debug_mode=True,\n",
        "    train_embeddings=False, # Optional. If True, ETM will learn word embeddings jointly with\n",
        "                            # topic embeddings. By default, is False. If 'embeddings' argument\n",
        "                            # is being passed, this argument must not be True\n",
        ")\n",
        "\n",
        "etm_instance.fit(train_dataset)"
      ]
    },
    {
      "cell_type": "code",
      "execution_count": null,
      "metadata": {
        "id": "jACa-r4SU3zn"
      },
      "outputs": [],
      "source": [
        "topics = etm_instance.get_topics(10)\n",
        "topic_coherence = etm_instance.get_topic_coherence()\n",
        "topic_diversity = etm_instance.get_topic_diversity()"
      ]
    },
    {
      "cell_type": "code",
      "execution_count": null,
      "metadata": {
        "id": "Z1kZEmxqVDr1",
        "colab": {
          "base_uri": "https://localhost:8080/"
        },
        "outputId": "6ba21ed1-4db8-470d-f94f-7514ca018b45"
      },
      "outputs": [
        {
          "output_type": "stream",
          "name": "stdout",
          "text": [
            "Topik 1\n",
            "['makan', 'obat', 'asam', 'konsumsi', 'asma', 'nyeri', 'hindar', 'lambung', 'muntah', 'milik']\n",
            "\n",
            "Topik 2\n",
            "['tengkorak', 'tekan', 'tingkat', 'listrik', 'kepala', 'aktivitas', 'periksa', 'otak', 'sakit', 'darah']\n",
            "\n",
            "Topik 3\n",
            "['periksa', 'spesialis', 'kandung', 'usg', 'listrik', 'bidan', 'medis', 'aktivitas', 'fisik', 'laku']\n",
            "\n",
            "Topik 4\n",
            "['tengkorak', 'tekan', 'obat', 'kepala', 'sakit', 'muntah', 'periksa', 'asma', 'kandung', 'mual']\n",
            "\n",
            "Topik 5\n",
            "['hamil', 'minggu', 'tanggal', 'november', 'nikah', 'hpmt', 'hpl', 'usia', 'hitung', 'contoh']\n",
            "\n",
            "Topik 6\n",
            "['haid', 'periksa', 'sel', 'darah', 'telur', 'bentuk', 'interval', 'menstruasi', 'langsung', 'rahim']\n",
            "\n"
          ]
        }
      ],
      "source": [
        "for i,topic in enumerate(topics):\n",
        "  print('Topik',i+1)\n",
        "  print(topic)\n",
        "  print('')"
      ]
    },
    {
      "cell_type": "code",
      "execution_count": null,
      "metadata": {
        "id": "Jph-EhQhVBpO",
        "colab": {
          "base_uri": "https://localhost:8080/"
        },
        "outputId": "51d6656f-748c-4741-c8a0-6ac5f90e6b45"
      },
      "outputs": [
        {
          "output_type": "execute_result",
          "data": {
            "text/plain": [
              "0.3672509106346544"
            ]
          },
          "metadata": {},
          "execution_count": 29
        }
      ],
      "source": [
        "topic_coherence"
      ]
    },
    {
      "cell_type": "code",
      "execution_count": null,
      "metadata": {
        "id": "EgTi6ptkVC4t",
        "colab": {
          "base_uri": "https://localhost:8080/"
        },
        "outputId": "80ddf9e9-dc5b-4224-f988-5fbcd3d8fe83"
      },
      "outputs": [
        {
          "output_type": "execute_result",
          "data": {
            "text/plain": [
              "0.68"
            ]
          },
          "metadata": {},
          "execution_count": 30
        }
      ],
      "source": [
        "topic_diversity"
      ]
    },
    {
      "cell_type": "markdown",
      "metadata": {
        "id": "dTM2EVhZVYbO"
      },
      "source": [
        "# Transformer"
      ]
    },
    {
      "cell_type": "code",
      "execution_count": null,
      "metadata": {
        "id": "2udEK9bYWlZ1",
        "colab": {
          "base_uri": "https://localhost:8080/",
          "height": 1000
        },
        "outputId": "172a3c21-344d-4dfa-d1be-aa389ba700de"
      },
      "outputs": [
        {
          "output_type": "stream",
          "name": "stdout",
          "text": [
            "Requirement already satisfied: tensorflow-text in /usr/local/lib/python3.7/dist-packages (2.8.1)\n",
            "Requirement already satisfied: tensorflow<2.9,>=2.8.0 in /usr/local/lib/python3.7/dist-packages (from tensorflow-text) (2.8.0)\n",
            "Requirement already satisfied: tensorflow-hub>=0.8.0 in /usr/local/lib/python3.7/dist-packages (from tensorflow-text) (0.12.0)\n",
            "Requirement already satisfied: termcolor>=1.1.0 in /usr/local/lib/python3.7/dist-packages (from tensorflow<2.9,>=2.8.0->tensorflow-text) (1.1.0)\n",
            "Requirement already satisfied: tensorflow-io-gcs-filesystem>=0.23.1 in /usr/local/lib/python3.7/dist-packages (from tensorflow<2.9,>=2.8.0->tensorflow-text) (0.24.0)\n",
            "Requirement already satisfied: wrapt>=1.11.0 in /usr/local/lib/python3.7/dist-packages (from tensorflow<2.9,>=2.8.0->tensorflow-text) (1.14.0)\n",
            "Requirement already satisfied: keras-preprocessing>=1.1.1 in /usr/local/lib/python3.7/dist-packages (from tensorflow<2.9,>=2.8.0->tensorflow-text) (1.1.2)\n",
            "Requirement already satisfied: google-pasta>=0.1.1 in /usr/local/lib/python3.7/dist-packages (from tensorflow<2.9,>=2.8.0->tensorflow-text) (0.2.0)\n",
            "Requirement already satisfied: keras<2.9,>=2.8.0rc0 in /usr/local/lib/python3.7/dist-packages (from tensorflow<2.9,>=2.8.0->tensorflow-text) (2.8.0)\n",
            "Requirement already satisfied: typing-extensions>=3.6.6 in /usr/local/lib/python3.7/dist-packages (from tensorflow<2.9,>=2.8.0->tensorflow-text) (4.1.1)\n",
            "Requirement already satisfied: absl-py>=0.4.0 in /usr/local/lib/python3.7/dist-packages (from tensorflow<2.9,>=2.8.0->tensorflow-text) (1.0.0)\n",
            "Requirement already satisfied: tf-estimator-nightly==2.8.0.dev2021122109 in /usr/local/lib/python3.7/dist-packages (from tensorflow<2.9,>=2.8.0->tensorflow-text) (2.8.0.dev2021122109)\n",
            "Requirement already satisfied: setuptools in /usr/local/lib/python3.7/dist-packages (from tensorflow<2.9,>=2.8.0->tensorflow-text) (57.4.0)\n",
            "Requirement already satisfied: protobuf>=3.9.2 in /usr/local/lib/python3.7/dist-packages (from tensorflow<2.9,>=2.8.0->tensorflow-text) (3.17.3)\n",
            "Requirement already satisfied: flatbuffers>=1.12 in /usr/local/lib/python3.7/dist-packages (from tensorflow<2.9,>=2.8.0->tensorflow-text) (2.0)\n",
            "Collecting numpy>=1.20\n",
            "  Downloading numpy-1.21.6-cp37-cp37m-manylinux_2_12_x86_64.manylinux2010_x86_64.whl (15.7 MB)\n",
            "\u001b[K     |████████████████████████████████| 15.7 MB 7.9 MB/s \n",
            "\u001b[?25hRequirement already satisfied: h5py>=2.9.0 in /usr/local/lib/python3.7/dist-packages (from tensorflow<2.9,>=2.8.0->tensorflow-text) (3.1.0)\n",
            "Requirement already satisfied: six>=1.12.0 in /usr/local/lib/python3.7/dist-packages (from tensorflow<2.9,>=2.8.0->tensorflow-text) (1.15.0)\n",
            "Requirement already satisfied: gast>=0.2.1 in /usr/local/lib/python3.7/dist-packages (from tensorflow<2.9,>=2.8.0->tensorflow-text) (0.5.3)\n",
            "Requirement already satisfied: opt-einsum>=2.3.2 in /usr/local/lib/python3.7/dist-packages (from tensorflow<2.9,>=2.8.0->tensorflow-text) (3.3.0)\n",
            "Requirement already satisfied: astunparse>=1.6.0 in /usr/local/lib/python3.7/dist-packages (from tensorflow<2.9,>=2.8.0->tensorflow-text) (1.6.3)\n",
            "Requirement already satisfied: libclang>=9.0.1 in /usr/local/lib/python3.7/dist-packages (from tensorflow<2.9,>=2.8.0->tensorflow-text) (13.0.0)\n",
            "Requirement already satisfied: grpcio<2.0,>=1.24.3 in /usr/local/lib/python3.7/dist-packages (from tensorflow<2.9,>=2.8.0->tensorflow-text) (1.44.0)\n",
            "Requirement already satisfied: tensorboard<2.9,>=2.8 in /usr/local/lib/python3.7/dist-packages (from tensorflow<2.9,>=2.8.0->tensorflow-text) (2.8.0)\n",
            "Requirement already satisfied: wheel<1.0,>=0.23.0 in /usr/local/lib/python3.7/dist-packages (from astunparse>=1.6.0->tensorflow<2.9,>=2.8.0->tensorflow-text) (0.37.1)\n",
            "Requirement already satisfied: cached-property in /usr/local/lib/python3.7/dist-packages (from h5py>=2.9.0->tensorflow<2.9,>=2.8.0->tensorflow-text) (1.5.2)\n",
            "Requirement already satisfied: werkzeug>=0.11.15 in /usr/local/lib/python3.7/dist-packages (from tensorboard<2.9,>=2.8->tensorflow<2.9,>=2.8.0->tensorflow-text) (1.0.1)\n",
            "Requirement already satisfied: requests<3,>=2.21.0 in /usr/local/lib/python3.7/dist-packages (from tensorboard<2.9,>=2.8->tensorflow<2.9,>=2.8.0->tensorflow-text) (2.23.0)\n",
            "Requirement already satisfied: tensorboard-plugin-wit>=1.6.0 in /usr/local/lib/python3.7/dist-packages (from tensorboard<2.9,>=2.8->tensorflow<2.9,>=2.8.0->tensorflow-text) (1.8.1)\n",
            "Requirement already satisfied: google-auth<3,>=1.6.3 in /usr/local/lib/python3.7/dist-packages (from tensorboard<2.9,>=2.8->tensorflow<2.9,>=2.8.0->tensorflow-text) (1.35.0)\n",
            "Requirement already satisfied: tensorboard-data-server<0.7.0,>=0.6.0 in /usr/local/lib/python3.7/dist-packages (from tensorboard<2.9,>=2.8->tensorflow<2.9,>=2.8.0->tensorflow-text) (0.6.1)\n",
            "Requirement already satisfied: google-auth-oauthlib<0.5,>=0.4.1 in /usr/local/lib/python3.7/dist-packages (from tensorboard<2.9,>=2.8->tensorflow<2.9,>=2.8.0->tensorflow-text) (0.4.6)\n",
            "Requirement already satisfied: markdown>=2.6.8 in /usr/local/lib/python3.7/dist-packages (from tensorboard<2.9,>=2.8->tensorflow<2.9,>=2.8.0->tensorflow-text) (3.3.6)\n",
            "Requirement already satisfied: rsa<5,>=3.1.4 in /usr/local/lib/python3.7/dist-packages (from google-auth<3,>=1.6.3->tensorboard<2.9,>=2.8->tensorflow<2.9,>=2.8.0->tensorflow-text) (4.8)\n",
            "Requirement already satisfied: cachetools<5.0,>=2.0.0 in /usr/local/lib/python3.7/dist-packages (from google-auth<3,>=1.6.3->tensorboard<2.9,>=2.8->tensorflow<2.9,>=2.8.0->tensorflow-text) (4.2.4)\n",
            "Requirement already satisfied: pyasn1-modules>=0.2.1 in /usr/local/lib/python3.7/dist-packages (from google-auth<3,>=1.6.3->tensorboard<2.9,>=2.8->tensorflow<2.9,>=2.8.0->tensorflow-text) (0.2.8)\n",
            "Requirement already satisfied: requests-oauthlib>=0.7.0 in /usr/local/lib/python3.7/dist-packages (from google-auth-oauthlib<0.5,>=0.4.1->tensorboard<2.9,>=2.8->tensorflow<2.9,>=2.8.0->tensorflow-text) (1.3.1)\n",
            "Requirement already satisfied: importlib-metadata>=4.4 in /usr/local/lib/python3.7/dist-packages (from markdown>=2.6.8->tensorboard<2.9,>=2.8->tensorflow<2.9,>=2.8.0->tensorflow-text) (4.11.3)\n",
            "Requirement already satisfied: zipp>=0.5 in /usr/local/lib/python3.7/dist-packages (from importlib-metadata>=4.4->markdown>=2.6.8->tensorboard<2.9,>=2.8->tensorflow<2.9,>=2.8.0->tensorflow-text) (3.8.0)\n",
            "Requirement already satisfied: pyasn1<0.5.0,>=0.4.6 in /usr/local/lib/python3.7/dist-packages (from pyasn1-modules>=0.2.1->google-auth<3,>=1.6.3->tensorboard<2.9,>=2.8->tensorflow<2.9,>=2.8.0->tensorflow-text) (0.4.8)\n",
            "Requirement already satisfied: idna<3,>=2.5 in /usr/local/lib/python3.7/dist-packages (from requests<3,>=2.21.0->tensorboard<2.9,>=2.8->tensorflow<2.9,>=2.8.0->tensorflow-text) (2.10)\n",
            "Requirement already satisfied: certifi>=2017.4.17 in /usr/local/lib/python3.7/dist-packages (from requests<3,>=2.21.0->tensorboard<2.9,>=2.8->tensorflow<2.9,>=2.8.0->tensorflow-text) (2021.10.8)\n",
            "Requirement already satisfied: urllib3!=1.25.0,!=1.25.1,<1.26,>=1.21.1 in /usr/local/lib/python3.7/dist-packages (from requests<3,>=2.21.0->tensorboard<2.9,>=2.8->tensorflow<2.9,>=2.8.0->tensorflow-text) (1.24.3)\n",
            "Requirement already satisfied: chardet<4,>=3.0.2 in /usr/local/lib/python3.7/dist-packages (from requests<3,>=2.21.0->tensorboard<2.9,>=2.8->tensorflow<2.9,>=2.8.0->tensorflow-text) (3.0.4)\n",
            "Requirement already satisfied: oauthlib>=3.0.0 in /usr/local/lib/python3.7/dist-packages (from requests-oauthlib>=0.7.0->google-auth-oauthlib<0.5,>=0.4.1->tensorboard<2.9,>=2.8->tensorflow<2.9,>=2.8.0->tensorflow-text) (3.2.0)\n",
            "Installing collected packages: numpy\n",
            "  Attempting uninstall: numpy\n",
            "    Found existing installation: numpy 1.19.5\n",
            "    Uninstalling numpy-1.19.5:\n",
            "      Successfully uninstalled numpy-1.19.5\n",
            "\u001b[31mERROR: pip's dependency resolver does not currently take into account all the packages that are installed. This behaviour is the source of the following dependency conflicts.\n",
            "yellowbrick 1.4 requires scikit-learn>=1.0.0, but you have scikit-learn 0.23.2 which is incompatible.\n",
            "torchvision 0.11.1+cu111 requires torch==1.10.0, but you have torch 1.6.0 which is incompatible.\n",
            "torchtext 0.11.0 requires torch==1.10.0, but you have torch 1.6.0 which is incompatible.\n",
            "nlp-id 0.1.12.0 requires nltk==3.4.5, but you have nltk 3.5 which is incompatible.\n",
            "nlp-id 0.1.12.0 requires scikit-learn==0.22, but you have scikit-learn 0.23.2 which is incompatible.\n",
            "imbalanced-learn 0.8.1 requires scikit-learn>=0.24, but you have scikit-learn 0.23.2 which is incompatible.\n",
            "embedded-topic-model 1.0.2 requires numpy==1.19.5, but you have numpy 1.21.6 which is incompatible.\n",
            "datascience 0.10.6 requires folium==0.2.1, but you have folium 0.8.3 which is incompatible.\n",
            "albumentations 0.1.12 requires imgaug<0.2.7,>=0.2.5, but you have imgaug 0.2.9 which is incompatible.\u001b[0m\n",
            "Successfully installed numpy-1.21.6\n"
          ]
        },
        {
          "output_type": "display_data",
          "data": {
            "application/vnd.colab-display-data+json": {
              "pip_warning": {
                "packages": [
                  "numpy"
                ]
              }
            }
          },
          "metadata": {}
        }
      ],
      "source": [
        "!pip install -U tensorflow-text"
      ]
    },
    {
      "cell_type": "code",
      "execution_count": null,
      "metadata": {
        "id": "n6imW9TuWPFk"
      },
      "outputs": [],
      "source": [
        "import collections\n",
        "import logging\n",
        "import os\n",
        "import pathlib\n",
        "import re\n",
        "import string\n",
        "import sys\n",
        "import time\n",
        "\n",
        "import numpy as np\n",
        "import matplotlib.pyplot as plt\n",
        "\n",
        "import tensorflow_text as text\n",
        "import tensorflow as tf"
      ]
    },
    {
      "cell_type": "code",
      "execution_count": null,
      "metadata": {
        "id": "2dLQWGe0Xm-t",
        "colab": {
          "base_uri": "https://localhost:8080/"
        },
        "outputId": "ce40d22b-1881-4c2b-a302-3924b7c091bb"
      },
      "outputs": [
        {
          "output_type": "stream",
          "name": "stdout",
          "text": [
            "Requirement already satisfied: transformers in /usr/local/lib/python3.7/dist-packages (4.0.0)\n",
            "Requirement already satisfied: filelock in /usr/local/lib/python3.7/dist-packages (from transformers) (3.6.0)\n",
            "Requirement already satisfied: requests in /usr/local/lib/python3.7/dist-packages (from transformers) (2.23.0)\n",
            "Requirement already satisfied: tqdm>=4.27 in /usr/local/lib/python3.7/dist-packages (from transformers) (4.64.0)\n",
            "Requirement already satisfied: packaging in /usr/local/lib/python3.7/dist-packages (from transformers) (21.3)\n",
            "Requirement already satisfied: sacremoses in /usr/local/lib/python3.7/dist-packages (from transformers) (0.0.49)\n",
            "Requirement already satisfied: regex!=2019.12.17 in /usr/local/lib/python3.7/dist-packages (from transformers) (2019.12.20)\n",
            "Requirement already satisfied: tokenizers==0.9.4 in /usr/local/lib/python3.7/dist-packages (from transformers) (0.9.4)\n",
            "Requirement already satisfied: numpy in /usr/local/lib/python3.7/dist-packages (from transformers) (1.21.6)\n",
            "Requirement already satisfied: pyparsing!=3.0.5,>=2.0.2 in /usr/local/lib/python3.7/dist-packages (from packaging->transformers) (3.0.8)\n",
            "Requirement already satisfied: chardet<4,>=3.0.2 in /usr/local/lib/python3.7/dist-packages (from requests->transformers) (3.0.4)\n",
            "Requirement already satisfied: idna<3,>=2.5 in /usr/local/lib/python3.7/dist-packages (from requests->transformers) (2.10)\n",
            "Requirement already satisfied: urllib3!=1.25.0,!=1.25.1,<1.26,>=1.21.1 in /usr/local/lib/python3.7/dist-packages (from requests->transformers) (1.24.3)\n",
            "Requirement already satisfied: certifi>=2017.4.17 in /usr/local/lib/python3.7/dist-packages (from requests->transformers) (2021.10.8)\n",
            "Requirement already satisfied: joblib in /usr/local/lib/python3.7/dist-packages (from sacremoses->transformers) (1.1.0)\n",
            "Requirement already satisfied: click in /usr/local/lib/python3.7/dist-packages (from sacremoses->transformers) (7.1.2)\n",
            "Requirement already satisfied: six in /usr/local/lib/python3.7/dist-packages (from sacremoses->transformers) (1.15.0)\n"
          ]
        }
      ],
      "source": [
        "!pip install transformers"
      ]
    },
    {
      "cell_type": "code",
      "execution_count": null,
      "metadata": {
        "id": "R-_ZZN1kXkNh",
        "colab": {
          "base_uri": "https://localhost:8080/",
          "height": 245
        },
        "outputId": "5e6d3733-4245-412b-cdd9-0f1afef24843"
      },
      "outputs": [
        {
          "output_type": "error",
          "ename": "NameError",
          "evalue": "ignored",
          "traceback": [
            "\u001b[0;31m---------------------------------------------------------------------------\u001b[0m",
            "\u001b[0;31mNameError\u001b[0m                                 Traceback (most recent call last)",
            "\u001b[0;32m<ipython-input-39-a8ce11cb1fb8>\u001b[0m in \u001b[0;36m<module>\u001b[0;34m()\u001b[0m\n\u001b[1;32m      1\u001b[0m \u001b[0mmodel_name\u001b[0m\u001b[0;34m=\u001b[0m\u001b[0;34m'cahya/bert-base-indonesian-522M'\u001b[0m\u001b[0;34m\u001b[0m\u001b[0;34m\u001b[0m\u001b[0m\n\u001b[0;32m----> 2\u001b[0;31m \u001b[0mtokenizer\u001b[0m \u001b[0;34m=\u001b[0m \u001b[0mBertTokenizer\u001b[0m\u001b[0;34m.\u001b[0m\u001b[0mfrom_pretrained\u001b[0m\u001b[0;34m(\u001b[0m\u001b[0mmodel_name\u001b[0m\u001b[0;34m)\u001b[0m\u001b[0;34m\u001b[0m\u001b[0;34m\u001b[0m\u001b[0m\n\u001b[0m\u001b[1;32m      3\u001b[0m \u001b[0mmodel\u001b[0m \u001b[0;34m=\u001b[0m \u001b[0mTFBertModel\u001b[0m\u001b[0;34m.\u001b[0m\u001b[0mfrom_pretrained\u001b[0m\u001b[0;34m(\u001b[0m\u001b[0mmodel_name\u001b[0m\u001b[0;34m)\u001b[0m\u001b[0;34m\u001b[0m\u001b[0;34m\u001b[0m\u001b[0m\n\u001b[1;32m      4\u001b[0m \u001b[0mtext\u001b[0m \u001b[0;34m=\u001b[0m \u001b[0;34m\"Silakan diganti dengan text apa saja.\"\u001b[0m\u001b[0;34m\u001b[0m\u001b[0;34m\u001b[0m\u001b[0m\n\u001b[1;32m      5\u001b[0m \u001b[0mencoded_input\u001b[0m \u001b[0;34m=\u001b[0m \u001b[0mtokenizer\u001b[0m\u001b[0;34m(\u001b[0m\u001b[0mtext\u001b[0m\u001b[0;34m,\u001b[0m \u001b[0mreturn_tensors\u001b[0m\u001b[0;34m=\u001b[0m\u001b[0;34m'tf'\u001b[0m\u001b[0;34m)\u001b[0m\u001b[0;34m\u001b[0m\u001b[0;34m\u001b[0m\u001b[0m\n",
            "\u001b[0;31mNameError\u001b[0m: name 'BertTokenizer' is not defined"
          ]
        }
      ],
      "source": [
        "from transformers import BertTokenizer, TFBertModel\n",
        "\n",
        "model_name='cahya/bert-base-indonesian-522M'\n",
        "tokenizer = BertTokenizer.from_pretrained(model_name)\n",
        "model = TFBertModel.from_pretrained(model_name)\n",
        "text = \"Silakan diganti dengan text apa saja.\"\n",
        "encoded_input = tokenizer(text, return_tensors='tf')\n",
        "output = model(encoded_input)"
      ]
    },
    {
      "cell_type": "markdown",
      "metadata": {
        "id": "QCeLCfCnY7R6"
      },
      "source": [
        "# BiLSTM + BERT"
      ]
    },
    {
      "cell_type": "code",
      "execution_count": null,
      "metadata": {
        "id": "PDx1RT7ZuTrQ",
        "colab": {
          "base_uri": "https://localhost:8080/"
        },
        "outputId": "921d1ac6-7ed4-478b-b582-57cdd248feab"
      },
      "outputs": [
        {
          "output_type": "stream",
          "name": "stdout",
          "text": [
            "Requirement already satisfied: transformers==4.0.0 in /usr/local/lib/python3.7/dist-packages (4.0.0)\n",
            "Requirement already satisfied: packaging in /usr/local/lib/python3.7/dist-packages (from transformers==4.0.0) (21.3)\n",
            "Requirement already satisfied: tokenizers==0.9.4 in /usr/local/lib/python3.7/dist-packages (from transformers==4.0.0) (0.9.4)\n",
            "Requirement already satisfied: filelock in /usr/local/lib/python3.7/dist-packages (from transformers==4.0.0) (3.6.0)\n",
            "Requirement already satisfied: regex!=2019.12.17 in /usr/local/lib/python3.7/dist-packages (from transformers==4.0.0) (2019.12.20)\n",
            "Requirement already satisfied: tqdm>=4.27 in /usr/local/lib/python3.7/dist-packages (from transformers==4.0.0) (4.64.0)\n",
            "Requirement already satisfied: numpy in /usr/local/lib/python3.7/dist-packages (from transformers==4.0.0) (1.21.6)\n",
            "Requirement already satisfied: requests in /usr/local/lib/python3.7/dist-packages (from transformers==4.0.0) (2.23.0)\n",
            "Requirement already satisfied: sacremoses in /usr/local/lib/python3.7/dist-packages (from transformers==4.0.0) (0.0.49)\n",
            "Requirement already satisfied: pyparsing!=3.0.5,>=2.0.2 in /usr/local/lib/python3.7/dist-packages (from packaging->transformers==4.0.0) (3.0.8)\n",
            "Requirement already satisfied: idna<3,>=2.5 in /usr/local/lib/python3.7/dist-packages (from requests->transformers==4.0.0) (2.10)\n",
            "Requirement already satisfied: certifi>=2017.4.17 in /usr/local/lib/python3.7/dist-packages (from requests->transformers==4.0.0) (2021.10.8)\n",
            "Requirement already satisfied: urllib3!=1.25.0,!=1.25.1,<1.26,>=1.21.1 in /usr/local/lib/python3.7/dist-packages (from requests->transformers==4.0.0) (1.24.3)\n",
            "Requirement already satisfied: chardet<4,>=3.0.2 in /usr/local/lib/python3.7/dist-packages (from requests->transformers==4.0.0) (3.0.4)\n",
            "Requirement already satisfied: joblib in /usr/local/lib/python3.7/dist-packages (from sacremoses->transformers==4.0.0) (1.1.0)\n",
            "Requirement already satisfied: six in /usr/local/lib/python3.7/dist-packages (from sacremoses->transformers==4.0.0) (1.15.0)\n",
            "Requirement already satisfied: click in /usr/local/lib/python3.7/dist-packages (from sacremoses->transformers==4.0.0) (7.1.2)\n"
          ]
        }
      ],
      "source": [
        "!pip install transformers==4.0.0"
      ]
    },
    {
      "cell_type": "code",
      "execution_count": null,
      "metadata": {
        "id": "iXUkiptXY9F1"
      },
      "outputs": [],
      "source": [
        "import numpy as np\n",
        "from tensorflow import keras\n",
        "from tensorflow.keras import layers\n",
        "\n",
        "max_features = 20000  # Only consider the top 20k words\n",
        "maxlen = 200  # Only consider the first 200 words of each movie review"
      ]
    },
    {
      "cell_type": "code",
      "execution_count": null,
      "metadata": {
        "id": "5vwz__RLvVkJ"
      },
      "outputs": [],
      "source": [
        "from sklearn.preprocessing import LabelEncoder\n",
        "\n",
        "y = LabelEncoder().fit_transform(dataset['labeled'])"
      ]
    },
    {
      "cell_type": "code",
      "execution_count": null,
      "metadata": {
        "id": "G1Ye9TC7ZDtx",
        "colab": {
          "base_uri": "https://localhost:8080/",
          "height": 546
        },
        "outputId": "8c118304-2f0f-41b1-f32d-ee9314f13167"
      },
      "outputs": [
        {
          "output_type": "error",
          "ename": "ImportError",
          "evalue": "ignored",
          "traceback": [
            "\u001b[0;31m---------------------------------------------------------------------------\u001b[0m",
            "\u001b[0;31mImportError\u001b[0m                               Traceback (most recent call last)",
            "\u001b[0;32m<ipython-input-38-a04dd2d8ba99>\u001b[0m in \u001b[0;36m<module>\u001b[0;34m()\u001b[0m\n\u001b[0;32m----> 1\u001b[0;31m \u001b[0;32mfrom\u001b[0m \u001b[0mtransformers\u001b[0m \u001b[0;32mimport\u001b[0m \u001b[0mBertTokenizer\u001b[0m\u001b[0;34m\u001b[0m\u001b[0;34m\u001b[0m\u001b[0m\n\u001b[0m\u001b[1;32m      2\u001b[0m \u001b[0;32mfrom\u001b[0m \u001b[0msklearn\u001b[0m\u001b[0;34m.\u001b[0m\u001b[0mmodel_selection\u001b[0m \u001b[0;32mimport\u001b[0m \u001b[0mtrain_test_split\u001b[0m\u001b[0;34m\u001b[0m\u001b[0;34m\u001b[0m\u001b[0m\n\u001b[1;32m      3\u001b[0m \u001b[0;32mfrom\u001b[0m \u001b[0mkeras\u001b[0m\u001b[0;34m.\u001b[0m\u001b[0mpreprocessing\u001b[0m \u001b[0;32mimport\u001b[0m \u001b[0msequence\u001b[0m\u001b[0;34m\u001b[0m\u001b[0;34m\u001b[0m\u001b[0m\n\u001b[1;32m      4\u001b[0m \u001b[0;32mfrom\u001b[0m \u001b[0mnltk\u001b[0m\u001b[0;34m.\u001b[0m\u001b[0mtokenize\u001b[0m\u001b[0;34m.\u001b[0m\u001b[0mtreebank\u001b[0m \u001b[0;32mimport\u001b[0m \u001b[0mTreebankWordDetokenizer\u001b[0m\u001b[0;34m\u001b[0m\u001b[0;34m\u001b[0m\u001b[0m\n\u001b[1;32m      5\u001b[0m \u001b[0;34m\u001b[0m\u001b[0m\n",
            "\u001b[0;32m/usr/local/lib/python3.7/dist-packages/transformers/__init__.py\u001b[0m in \u001b[0;36m<module>\u001b[0;34m()\u001b[0m\n\u001b[1;32m    624\u001b[0m \u001b[0;34m\u001b[0m\u001b[0m\n\u001b[1;32m    625\u001b[0m     \u001b[0;31m# Trainer\u001b[0m\u001b[0;34m\u001b[0m\u001b[0;34m\u001b[0m\u001b[0;34m\u001b[0m\u001b[0m\n\u001b[0;32m--> 626\u001b[0;31m     \u001b[0;32mfrom\u001b[0m \u001b[0;34m.\u001b[0m\u001b[0mtrainer\u001b[0m \u001b[0;32mimport\u001b[0m \u001b[0mTrainer\u001b[0m\u001b[0;34m\u001b[0m\u001b[0;34m\u001b[0m\u001b[0m\n\u001b[0m\u001b[1;32m    627\u001b[0m     \u001b[0;32mfrom\u001b[0m \u001b[0;34m.\u001b[0m\u001b[0mtrainer_pt_utils\u001b[0m \u001b[0;32mimport\u001b[0m \u001b[0mtorch_distributed_zero_first\u001b[0m\u001b[0;34m\u001b[0m\u001b[0;34m\u001b[0m\u001b[0m\n\u001b[1;32m    628\u001b[0m \u001b[0;32melse\u001b[0m\u001b[0;34m:\u001b[0m\u001b[0;34m\u001b[0m\u001b[0;34m\u001b[0m\u001b[0m\n",
            "\u001b[0;32m/usr/local/lib/python3.7/dist-packages/transformers/trainer.py\u001b[0m in \u001b[0;36m<module>\u001b[0;34m()\u001b[0m\n\u001b[1;32m     67\u001b[0m     \u001b[0mTrainerState\u001b[0m\u001b[0;34m,\u001b[0m\u001b[0;34m\u001b[0m\u001b[0;34m\u001b[0m\u001b[0m\n\u001b[1;32m     68\u001b[0m )\n\u001b[0;32m---> 69\u001b[0;31m from .trainer_pt_utils import (\n\u001b[0m\u001b[1;32m     70\u001b[0m     \u001b[0mDistributedTensorGatherer\u001b[0m\u001b[0;34m,\u001b[0m\u001b[0;34m\u001b[0m\u001b[0;34m\u001b[0m\u001b[0m\n\u001b[1;32m     71\u001b[0m     \u001b[0mSequentialDistributedSampler\u001b[0m\u001b[0;34m,\u001b[0m\u001b[0;34m\u001b[0m\u001b[0;34m\u001b[0m\u001b[0m\n",
            "\u001b[0;32m/usr/local/lib/python3.7/dist-packages/transformers/trainer_pt_utils.py\u001b[0m in \u001b[0;36m<module>\u001b[0;34m()\u001b[0m\n\u001b[1;32m     38\u001b[0m     \u001b[0mSAVE_STATE_WARNING\u001b[0m \u001b[0;34m=\u001b[0m \u001b[0;34m\"\"\u001b[0m\u001b[0;34m\u001b[0m\u001b[0;34m\u001b[0m\u001b[0m\n\u001b[1;32m     39\u001b[0m \u001b[0;32melse\u001b[0m\u001b[0;34m:\u001b[0m\u001b[0;34m\u001b[0m\u001b[0;34m\u001b[0m\u001b[0m\n\u001b[0;32m---> 40\u001b[0;31m     \u001b[0;32mfrom\u001b[0m \u001b[0mtorch\u001b[0m\u001b[0;34m.\u001b[0m\u001b[0moptim\u001b[0m\u001b[0;34m.\u001b[0m\u001b[0mlr_scheduler\u001b[0m \u001b[0;32mimport\u001b[0m \u001b[0mSAVE_STATE_WARNING\u001b[0m\u001b[0;34m\u001b[0m\u001b[0;34m\u001b[0m\u001b[0m\n\u001b[0m\u001b[1;32m     41\u001b[0m \u001b[0;34m\u001b[0m\u001b[0m\n\u001b[1;32m     42\u001b[0m \u001b[0mlogger\u001b[0m \u001b[0;34m=\u001b[0m \u001b[0mlogging\u001b[0m\u001b[0;34m.\u001b[0m\u001b[0mget_logger\u001b[0m\u001b[0;34m(\u001b[0m\u001b[0m__name__\u001b[0m\u001b[0;34m)\u001b[0m\u001b[0;34m\u001b[0m\u001b[0;34m\u001b[0m\u001b[0m\n",
            "\u001b[0;31mImportError\u001b[0m: cannot import name 'SAVE_STATE_WARNING' from 'torch.optim.lr_scheduler' (/usr/local/lib/python3.7/dist-packages/torch/optim/lr_scheduler.py)",
            "",
            "\u001b[0;31m---------------------------------------------------------------------------\u001b[0;32m\nNOTE: If your import is failing due to a missing package, you can\nmanually install dependencies using either !pip or !apt.\n\nTo view examples of installing some common dependencies, click the\n\"Open Examples\" button below.\n\u001b[0;31m---------------------------------------------------------------------------\u001b[0m\n"
          ],
          "errorDetails": {
            "actions": [
              {
                "action": "open_url",
                "actionText": "Open Examples",
                "url": "/notebooks/snippets/importing_libraries.ipynb"
              }
            ]
          }
        }
      ],
      "source": [
        "from transformers import BertTokenizer\n",
        "from sklearn.model_selection import train_test_split\n",
        "from keras.preprocessing import sequence\n",
        "from nltk.tokenize.treebank import TreebankWordDetokenizer\n",
        "\n",
        "X_train, X_test, y_train, y_test = train_test_split(dataset['stopwords'], y, test_size=0.20,)"
      ]
    },
    {
      "cell_type": "code",
      "execution_count": null,
      "metadata": {
        "id": "22o8URSpZogY"
      },
      "outputs": [],
      "source": [
        "tokenizer = BertTokenizer.from_pretrained('indobenchmark/indobert-base-p1', do_lower_case=True)\n",
        "data_train = []\n",
        "data_test = []\n",
        "\n",
        "for t_train in X_train:\n",
        "  # tokens = nltk.word_tokenize(t_train)\n",
        "  # for token in tokens:\n",
        "    # data_train.append(tokenizer.convert_tokens_to_ids(tokenizer.encode(token)))\n",
        "  data_train.append(tokenizer.convert_tokens_to_ids(tokenizer.encode(t_train)))\n",
        "\n",
        "for t_test in X_test:\n",
        "  # tokens = nltk.word_tokenize(t_test)\n",
        "  # for token in tokens:\n",
        "    # data_test.append(tokenizer.convert_tokens_to_ids(tokenizer.encode(token)))\n",
        "  data_test.append(tokenizer.convert_tokens_to_ids(tokenizer.encode(t_test)))\n",
        "  \n",
        "X_train = sequence.pad_sequences(np.array(data_train), maxlen=maxlen)\n",
        "X_test = sequence.pad_sequences(np.array(data_test), maxlen=maxlen)\n",
        "y_train = np.array(y_train)\n",
        "y_test = np.array(y_test)"
      ]
    },
    {
      "cell_type": "code",
      "execution_count": null,
      "metadata": {
        "id": "RIehVMfKZ8v_"
      },
      "outputs": [],
      "source": [
        "# Input for variable-length sequences of integers\n",
        "inputs = keras.Input(shape=(None,), dtype=\"int32\")\n",
        "# Embed each integer in a 128-dimensional vector\n",
        "x = layers.Embedding(max_features, 128)(inputs)\n",
        "# Add 2 bidirectional LSTMs\n",
        "x = layers.Bidirectional(layers.LSTM(64, return_sequences=True))(x)\n",
        "x = layers.Bidirectional(layers.LSTM(64))(x)\n",
        "# Add a classifier\n",
        "outputs = layers.Dense(1, activation=\"sigmoid\")(x)\n",
        "model = keras.Model(inputs, outputs)\n",
        "model.compile(loss='binary_crossentropy', optimizer='adam', metrics=['accuracy'])\n",
        "model.fit(X_train, y_train, validation_data=(X_test, y_test), epochs=2, batch_size=128, verbose=2)"
      ]
    },
    {
      "cell_type": "code",
      "execution_count": null,
      "metadata": {
        "id": "_pXhGvndvkob"
      },
      "outputs": [],
      "source": [
        "# Getting score metrics from our model\n",
        "scores = model.evaluate(X_test, y_test, verbose=0)\n",
        "# Displays the accuracy of correct sentiment prediction over test data\n",
        "print(\"Accuracy: %.2f%%\" % (scores[1]*100))"
      ]
    },
    {
      "cell_type": "markdown",
      "metadata": {
        "id": "cI2CgBhLVTYJ"
      },
      "source": [
        "# Textsplit"
      ]
    },
    {
      "cell_type": "code",
      "execution_count": null,
      "metadata": {
        "colab": {
          "base_uri": "https://localhost:8080/"
        },
        "id": "iPdGToIbcv9u",
        "outputId": "0bcf068b-6cfd-4550-cbc7-efa3d93ea2ad"
      },
      "outputs": [
        {
          "output_type": "stream",
          "name": "stdout",
          "text": [
            "Requirement already satisfied: textsplit in /usr/local/lib/python3.7/dist-packages (0.5)\n",
            "Requirement already satisfied: nose>=1.3.7 in /usr/local/lib/python3.7/dist-packages (from textsplit) (1.3.7)\n",
            "Requirement already satisfied: numpy>=1.13.1 in /usr/local/lib/python3.7/dist-packages (from textsplit) (1.21.6)\n",
            "Requirement already satisfied: word2vec in /usr/local/lib/python3.7/dist-packages (0.11.1)\n",
            "Requirement already satisfied: joblib in /usr/local/lib/python3.7/dist-packages (from word2vec) (1.1.0)\n",
            "Requirement already satisfied: numpy>=1.9.2 in /usr/local/lib/python3.7/dist-packages (from word2vec) (1.21.6)\n"
          ]
        }
      ],
      "source": [
        "!pip install textsplit\n",
        "!pip install word2vec"
      ]
    },
    {
      "cell_type": "code",
      "execution_count": null,
      "metadata": {
        "id": "OA21WZ71b4r0"
      },
      "outputs": [],
      "source": [
        "import os\n",
        "from gensim.models import word2vec\n",
        "import pandas as pd\n",
        "import numpy as np\n",
        "from sklearn.feature_extraction.text import CountVectorizer\n",
        "%matplotlib inline\n",
        "from textsplit.tools import get_penalty, get_segments,P_k\n",
        "from textsplit.algorithm import split_optimal, split_greedy, get_total"
      ]
    },
    {
      "cell_type": "code",
      "execution_count": null,
      "metadata": {
        "id": "EsRep_W5cDbs"
      },
      "outputs": [],
      "source": [
        "corpus_path = './text8'  # be sure your corpus is cleaned from punctuation and lowercased\n",
        "if not os.path.exists(corpus_path):\n",
        "    !wget http://mattmahoney.net/dc/text8.zip\n",
        "    !unzip {corpus_path}\n",
        "\n",
        "links = {'tale2cities': 'https://www.gutenberg.org/files/98/98-0.txt',  # a tale of two cities\n",
        "         'siddartha': 'http://www.gutenberg.org/cache/epub/2500/pg2500.txt'}  # siddartha\n",
        "\n",
        "\n",
        "for link in links.values():\n",
        "    text_path = os.path.basename(link)\n",
        "    if not os.path.exists(text_path):\n",
        "        !wget {link}"
      ]
    },
    {
      "cell_type": "code",
      "execution_count": null,
      "metadata": {
        "colab": {
          "base_uri": "https://localhost:8080/"
        },
        "id": "pXwhlHxLcofE",
        "outputId": "3b00ae84-45f4-4f37-ce55-4891f6753faf"
      },
      "outputs": [
        {
          "output_type": "stream",
          "name": "stdout",
          "text": [
            "100000000\n"
          ]
        }
      ],
      "source": [
        "corpus_path\n",
        "with open('./text8','r',encoding='utf-8') as file:\n",
        "    for line in file.readlines():\n",
        "        print(len(line))"
      ]
    },
    {
      "cell_type": "code",
      "execution_count": null,
      "metadata": {
        "id": "XjM9lt98b1IE"
      },
      "outputs": [],
      "source": [
        "import logging\n",
        "wrdvec_path = 'wrdvecs.bin'\n",
        "if not os.path.exists(wrdvec_path):\n",
        "  sentences = word2vec.Text8Corpus('./text8')\n",
        "  model = word2vec.Word2Vec(sentences, cbow_mean=1, iter=5, hs=1, sample=0.00001, window=15, size=200)"
      ]
    },
    {
      "cell_type": "code",
      "execution_count": null,
      "metadata": {
        "colab": {
          "base_uri": "https://localhost:8080/"
        },
        "id": "7ampfq9Yc1ON",
        "outputId": "a64031ed-b21d-48b4-a6da-5380b505132e"
      },
      "outputs": [
        {
          "output_type": "stream",
          "name": "stdout",
          "text": [
            "(71290, 200)\n"
          ]
        }
      ],
      "source": [
        "model.save(wrdvec_path)\n",
        "model = word2vec.Word2Vec.load(wrdvec_path)\n",
        "wrdvecs = pd.DataFrame(model.wv.vectors, index=model.wv.vocab)\n",
        "# del model\n",
        "print(wrdvecs.shape)"
      ]
    },
    {
      "cell_type": "code",
      "execution_count": null,
      "metadata": {
        "colab": {
          "base_uri": "https://localhost:8080/"
        },
        "id": "bkOyvf4ofj6N",
        "outputId": "e1bd3693-5194-45a3-c423-ae30eba3d6b5"
      },
      "outputs": [
        {
          "output_type": "stream",
          "name": "stdout",
          "text": [
            "penalty 6.07\n",
            "13 sentences, 5 segments, avg 2.60 sentences per segment\n"
          ]
        }
      ],
      "source": [
        "segment_len = 3  # segment target length in sentences\n",
        "\n",
        "vecr = CountVectorizer(vocabulary=wrdvecs.index)\n",
        "sentenced_text = dataset['stopwords']#['req_stopwords']\n",
        "sentence_vectors = vecr.transform(sentenced_text).dot(wrdvecs)\n",
        "penalty = get_penalty([sentence_vectors], segment_len)\n",
        "print('penalty %4.2f' % penalty)\n",
        "optimal_segmentation = split_optimal(sentence_vectors, penalty, seg_limit=250)\n",
        "segmented_text = get_segments(sentenced_text, optimal_segmentation)\n",
        "print('%d sentences, %d segments, avg %4.2f sentences per segment' % (\n",
        "    len(sentenced_text), len(segmented_text), len(sentenced_text) / len(segmented_text)))"
      ]
    },
    {
      "cell_type": "code",
      "execution_count": null,
      "metadata": {
        "colab": {
          "base_uri": "https://localhost:8080/"
        },
        "id": "0mFbTEdAJpp-",
        "outputId": "b69021d6-2116-47b8-be8c-0b8a14538c89"
      },
      "outputs": [
        {
          "output_type": "execute_result",
          "data": {
            "text/plain": [
              "0                               halo yayan terima kasih\n",
              "1     dasar riwayat keluh istri muntah muntah diare ...\n",
              "2     gejala muntah diare dasar rupa respon tubuh wa...\n",
              "3                     kondisi hitung obat khusus dokter\n",
              "4     pantau gejala muncul cair tubuh monitor tanda ...\n",
              "5                     anjur laku keluh hindar makan jam\n",
              "6     minum air sup minum elektrolit bantu cair tubu...\n",
              "7     makan makan makan tawar roti roti nasi bubur b...\n",
              "8                                             istirahat\n",
              "9     hindar susu produk susu kopi minum soda makan ...\n",
              "10    gejala muntah diare darah demam lemas langsung...\n",
              "11               moga informasi bantu moga lekas sembuh\n",
              "12                                                salam\n",
              "Name: stopwords, dtype: object"
            ]
          },
          "metadata": {},
          "execution_count": 58
        }
      ],
      "source": [
        "sentenced_text"
      ]
    },
    {
      "cell_type": "code",
      "execution_count": null,
      "metadata": {
        "id": "Zar6tQ5kKOTM",
        "colab": {
          "base_uri": "https://localhost:8080/"
        },
        "outputId": "542eb88e-d727-4bff-b078-7f164105a1cd"
      },
      "outputs": [
        {
          "output_type": "execute_result",
          "data": {
            "text/plain": [
              "[0                              halo yayan terima kasih\n",
              " 1    dasar riwayat keluh istri muntah muntah diare ...\n",
              " Name: stopwords, dtype: object,\n",
              " 2    gejala muntah diare dasar rupa respon tubuh wa...\n",
              " 3                    kondisi hitung obat khusus dokter\n",
              " 4    pantau gejala muncul cair tubuh monitor tanda ...\n",
              " 5                    anjur laku keluh hindar makan jam\n",
              " Name: stopwords, dtype: object,\n",
              " 6    minum air sup minum elektrolit bantu cair tubu...\n",
              " Name: stopwords, dtype: object,\n",
              " 7    makan makan makan tawar roti roti nasi bubur b...\n",
              " 8                                            istirahat\n",
              " 9    hindar susu produk susu kopi minum soda makan ...\n",
              " Name: stopwords, dtype: object,\n",
              " 10    gejala muntah diare darah demam lemas langsung...\n",
              " 11               moga informasi bantu moga lekas sembuh\n",
              " 12                                                salam\n",
              " Name: stopwords, dtype: object]"
            ]
          },
          "metadata": {},
          "execution_count": 59
        }
      ],
      "source": [
        "segmented_text"
      ]
    },
    {
      "cell_type": "code",
      "execution_count": null,
      "metadata": {
        "id": "ivNCwnfuKSui",
        "colab": {
          "base_uri": "https://localhost:8080/"
        },
        "outputId": "3de4368b-d6ed-43d8-e48c-c5c403728e17"
      },
      "outputs": [
        {
          "output_type": "stream",
          "name": "stdout",
          "text": [
            "Segmentasi ke 0\n",
            "halo yayan terima kasih\n",
            "dasar riwayat keluh istri muntah muntah diare x kondisi alami istri salah racun makan infeksi salur cerna malapsorbsi intoleransi makan tanda gejala gejala\n",
            "\n",
            "Segmentasi ke 1\n",
            "gejala muntah diare dasar rupa respon tubuh wajar tubuh usaha toksin racun makan minum kontaminasi konsumsi\n",
            "kondisi hitung obat khusus dokter\n",
            "pantau gejala muncul cair tubuh monitor tanda tanda dehidrasi lemas mata cowong buang air jam urin warna pekat mulut kering haus tanda tanda bingung\n",
            "anjur laku keluh hindar makan jam\n",
            "\n",
            "Segmentasi ke 2\n",
            "minum air sup minum elektrolit bantu cair tubuh istri\n",
            "\n",
            "Segmentasi ke 3\n",
            "makan makan makan tawar roti roti nasi bubur biskuit\n",
            "istirahat\n",
            "hindar susu produk susu kopi minum soda makan asam pedas lemak\n",
            "\n",
            "Segmentasi ke 4\n",
            "gejala muntah diare darah demam lemas langsung hubung tugas fasilitas layan sehat moga informasi bantu moga lekas sembuh\n",
            "moga informasi bantu moga lekas sembuh\n",
            "salam\n",
            "\n"
          ]
        }
      ],
      "source": [
        "for i in range(0,len(segmented_text)):\n",
        "  print('Segmentasi ke',i)\n",
        "  for sentence in segmented_text[i]:\n",
        "    print(sentence)\n",
        "  print('')"
      ]
    },
    {
      "cell_type": "code",
      "execution_count": null,
      "metadata": {
        "id": "AMTzhmYiKWL5",
        "colab": {
          "base_uri": "https://localhost:8080/"
        },
        "outputId": "802683b5-ea98-45c2-df0d-080eceb8ab60"
      },
      "outputs": [
        {
          "output_type": "execute_result",
          "data": {
            "text/plain": [
              "Segmentation(total=65.7252840575117, splits=[2, 6, 7, 10], gains=[8.153830830752934, 7.445006953853458, 8.751413948317744, 8.89130743181694], min_gain=None, optimal=True)"
            ]
          },
          "metadata": {},
          "execution_count": 61
        }
      ],
      "source": [
        "optimal_segmentation"
      ]
    },
    {
      "cell_type": "code",
      "execution_count": null,
      "metadata": {
        "id": "mhFUcOpfKZNS",
        "colab": {
          "base_uri": "https://localhost:8080/",
          "height": 455
        },
        "outputId": "82157e9f-7057-4876-97a4-61dccd777841"
      },
      "outputs": [
        {
          "output_type": "execute_result",
          "data": {
            "text/plain": [
              "<matplotlib.axes._subplots.AxesSubplot at 0x7fbe433a5c10>"
            ]
          },
          "metadata": {},
          "execution_count": 62
        },
        {
          "output_type": "display_data",
          "data": {
            "text/plain": [
              "<Figure size 1296x216 with 1 Axes>"
            ],
            "image/png": "[encoded data removed]"
          },
          "metadata": {
            "needs_background": "light"
          }
        },
        {
          "output_type": "display_data",
          "data": {
            "text/plain": [
              "<Figure size 720x216 with 1 Axes>"
            ],
            "image/png": "[encoded data removed]"
          },
          "metadata": {
            "needs_background": "light"
          }
        }
      ],
      "source": [
        "greedy_segmentation = split_greedy(sentence_vectors, max_splits=len(optimal_segmentation.splits))\n",
        "greedy_segmented_text = get_segments(sentenced_text, greedy_segmentation)\n",
        "lengths_optimal = [len(segment) for segment in segmented_text for sentence in segment]\n",
        "lengths_greedy = [len(segment) for segment in greedy_segmented_text for sentence in segment]\n",
        "df = pd.DataFrame({'greedy':lengths_greedy, 'optimal': lengths_optimal})\n",
        "df.plot.line(figsize=(18, 3), title='Segment lenghts over text')\n",
        "df.plot.hist(bins=30, alpha=0.5, figsize=(10, 3), title='Histogram of segment lengths')"
      ]
    },
    {
      "cell_type": "code",
      "source": [
        "lengths_greedy "
      ],
      "metadata": {
        "colab": {
          "base_uri": "https://localhost:8080/"
        },
        "id": "NinwGUssfLwW",
        "outputId": "3d430b1f-17f4-4522-80a7-be2d67ef797a"
      },
      "execution_count": null,
      "outputs": [
        {
          "output_type": "execute_result",
          "data": {
            "text/plain": [
              "[1, 1, 4, 4, 4, 4, 4, 4, 4, 4, 3, 3, 3]"
            ]
          },
          "metadata": {},
          "execution_count": 68
        }
      ]
    },
    {
      "cell_type": "code",
      "source": [
        "lengths_optimal"
      ],
      "metadata": {
        "id": "Osv9GMXSfOTy",
        "outputId": "e3944dfe-89d2-4f6c-e814-8fb57d6c3568",
        "colab": {
          "base_uri": "https://localhost:8080/"
        }
      },
      "execution_count": null,
      "outputs": [
        {
          "output_type": "execute_result",
          "data": {
            "text/plain": [
              "[2, 2, 4, 4, 4, 4, 1, 3, 3, 3, 3, 3, 3]"
            ]
          },
          "metadata": {},
          "execution_count": 69
        }
      ]
    },
    {
      "cell_type": "code",
      "execution_count": null,
      "metadata": {
        "id": "JuZ8ILycKec0",
        "colab": {
          "base_uri": "https://localhost:8080/"
        },
        "outputId": "27afdfe4-bfc1-4a3d-f0cc-ebfc929ab7b5"
      },
      "outputs": [
        {
          "output_type": "stream",
          "name": "stdout",
          "text": [
            "optimal score 65.73, greedy score 63.04\n",
            "ratio of scores 1.0426\n"
          ]
        }
      ],
      "source": [
        "totals = [get_total(sentence_vectors, seg.splits, penalty) \n",
        "          for seg in [optimal_segmentation, greedy_segmentation]]\n",
        "print('optimal score %4.2f, greedy score %4.2f' % tuple(totals))\n",
        "print('ratio of scores %5.4f' % (totals[0] / totals[1]))"
      ]
    },
    {
      "cell_type": "code",
      "execution_count": null,
      "metadata": {
        "id": "6JTC-CcaKhuE",
        "colab": {
          "base_uri": "https://localhost:8080/"
        },
        "outputId": "25e12d5f-cf60-4ff9-fc72-2e317dc7d6c3"
      },
      "outputs": [
        {
          "output_type": "execute_result",
          "data": {
            "text/plain": [
              "Segmentation(total=None, splits=[1, 2, 6, 10], gains=[6.068690734757796, 6.457183177635095, 7.953888775748155, 5.468016401432074], min_gain=5.468016401432074, optimal=None)"
            ]
          },
          "metadata": {},
          "execution_count": 64
        }
      ],
      "source": [
        "greedy_segmentation"
      ]
    },
    {
      "cell_type": "code",
      "execution_count": null,
      "metadata": {
        "id": "YItJfddCKkcy",
        "colab": {
          "base_uri": "https://localhost:8080/"
        },
        "outputId": "33aa49c5-bb37-428e-a59a-528507a7e82a"
      },
      "outputs": [
        {
          "output_type": "execute_result",
          "data": {
            "text/plain": [
              "[0    halo yayan terima kasih\n",
              " Name: stopwords, dtype: object,\n",
              " 1    dasar riwayat keluh istri muntah muntah diare ...\n",
              " Name: stopwords, dtype: object,\n",
              " 2    gejala muntah diare dasar rupa respon tubuh wa...\n",
              " 3                    kondisi hitung obat khusus dokter\n",
              " 4    pantau gejala muncul cair tubuh monitor tanda ...\n",
              " 5                    anjur laku keluh hindar makan jam\n",
              " Name: stopwords, dtype: object,\n",
              " 6    minum air sup minum elektrolit bantu cair tubu...\n",
              " 7    makan makan makan tawar roti roti nasi bubur b...\n",
              " 8                                            istirahat\n",
              " 9    hindar susu produk susu kopi minum soda makan ...\n",
              " Name: stopwords, dtype: object,\n",
              " 10    gejala muntah diare darah demam lemas langsung...\n",
              " 11               moga informasi bantu moga lekas sembuh\n",
              " 12                                                salam\n",
              " Name: stopwords, dtype: object]"
            ]
          },
          "metadata": {},
          "execution_count": 65
        }
      ],
      "source": [
        "greedy_segmented_text"
      ]
    },
    {
      "cell_type": "code",
      "execution_count": null,
      "metadata": {
        "id": "uvy32v6jKnGc",
        "colab": {
          "base_uri": "https://localhost:8080/"
        },
        "outputId": "f94facb0-528c-43d2-9e35-2815b518bc5b"
      },
      "outputs": [
        {
          "output_type": "stream",
          "name": "stdout",
          "text": [
            "Segmentasi ke 0\n",
            "halo yayan terima kasih\n",
            "\n",
            "Segmentasi ke 1\n",
            "dasar riwayat keluh istri muntah muntah diare x kondisi alami istri salah racun makan infeksi salur cerna malapsorbsi intoleransi makan tanda gejala gejala\n",
            "\n",
            "Segmentasi ke 2\n",
            "gejala muntah diare dasar rupa respon tubuh wajar tubuh usaha toksin racun makan minum kontaminasi konsumsi\n",
            "kondisi hitung obat khusus dokter\n",
            "pantau gejala muncul cair tubuh monitor tanda tanda dehidrasi lemas mata cowong buang air jam urin warna pekat mulut kering haus tanda tanda bingung\n",
            "anjur laku keluh hindar makan jam\n",
            "\n",
            "Segmentasi ke 3\n",
            "minum air sup minum elektrolit bantu cair tubuh istri\n",
            "makan makan makan tawar roti roti nasi bubur biskuit\n",
            "istirahat\n",
            "hindar susu produk susu kopi minum soda makan asam pedas lemak\n",
            "\n",
            "Segmentasi ke 4\n",
            "gejala muntah diare darah demam lemas langsung hubung tugas fasilitas layan sehat moga informasi bantu moga lekas sembuh\n",
            "moga informasi bantu moga lekas sembuh\n",
            "salam\n",
            "\n"
          ]
        }
      ],
      "source": [
        "for i in range(0,len(greedy_segmented_text)):\n",
        "  print('Segmentasi ke',i)\n",
        "  for sentence in greedy_segmented_text[i]:\n",
        "    print(sentence)\n",
        "  print('')"
      ]
    },
    {
      "cell_type": "code",
      "source": [
        "# P_k\n",
        "pk = P_k(optimal_segmentation.splits, greedy_segmentation.splits, len(sentence_vectors))\n",
        "pk"
      ],
      "metadata": {
        "id": "pB_DjihX21wS",
        "colab": {
          "base_uri": "https://localhost:8080/"
        },
        "outputId": "ddb408c4-b8ec-4c26-fc5f-7067211c2389"
      },
      "execution_count": null,
      "outputs": [
        {
          "output_type": "execute_result",
          "data": {
            "text/plain": [
              "0.0"
            ]
          },
          "metadata": {},
          "execution_count": 67
        }
      ]
    },
    {
      "cell_type": "markdown",
      "metadata": {
        "id": "ZWE6RbXMbuj8"
      },
      "source": [
        "# Textsplit Uji Cobaku dengan txt"
      ]
    },
    {
      "cell_type": "code",
      "execution_count": null,
      "metadata": {
        "id": "2aaDPsfWVtLX"
      },
      "outputs": [],
      "source": [
        "#UJI COBAKU\n",
        "from textsplit.tools import SimpleSentenceTokenizer\n",
        "sentence_tokenizer = SimpleSentenceTokenizer()"
      ]
    },
    {
      "cell_type": "code",
      "execution_count": null,
      "metadata": {
        "colab": {
          "base_uri": "https://localhost:8080/",
          "height": 356
        },
        "id": "vofN6aH6VQNn",
        "outputId": "bb328d9b-a963-4b39-994f-51b4dff6fb27"
      },
      "outputs": [
        {
          "output_type": "error",
          "ename": "ValueError",
          "evalue": "ignored",
          "traceback": [
            "\u001b[0;31m---------------------------------------------------------------------------\u001b[0m",
            "\u001b[0;31mValueError\u001b[0m                                Traceback (most recent call last)",
            "\u001b[0;32m<ipython-input-38-81049ceeea19>\u001b[0m in \u001b[0;36m<module>\u001b[0;34m()\u001b[0m\n\u001b[1;32m      5\u001b[0m \u001b[0msentenced_text\u001b[0m \u001b[0;34m=\u001b[0m \u001b[0msentence_tokenizer\u001b[0m\u001b[0;34m(\u001b[0m\u001b[0mhasil\u001b[0m\u001b[0;34m)\u001b[0m\u001b[0;34m\u001b[0m\u001b[0;34m\u001b[0m\u001b[0m\n\u001b[1;32m      6\u001b[0m \u001b[0msentence_vectors\u001b[0m \u001b[0;34m=\u001b[0m \u001b[0mvecr\u001b[0m\u001b[0;34m.\u001b[0m\u001b[0mtransform\u001b[0m\u001b[0;34m(\u001b[0m\u001b[0msentenced_text\u001b[0m\u001b[0;34m)\u001b[0m\u001b[0;34m.\u001b[0m\u001b[0mdot\u001b[0m\u001b[0;34m(\u001b[0m\u001b[0mwrdvecs\u001b[0m\u001b[0;34m)\u001b[0m\u001b[0;34m\u001b[0m\u001b[0;34m\u001b[0m\u001b[0m\n\u001b[0;32m----> 7\u001b[0;31m \u001b[0mpenalty\u001b[0m \u001b[0;34m=\u001b[0m \u001b[0mget_penalty\u001b[0m\u001b[0;34m(\u001b[0m\u001b[0;34m[\u001b[0m\u001b[0msentence_vectors\u001b[0m\u001b[0;34m]\u001b[0m\u001b[0;34m,\u001b[0m \u001b[0msegment_len\u001b[0m\u001b[0;34m)\u001b[0m\u001b[0;34m\u001b[0m\u001b[0;34m\u001b[0m\u001b[0m\n\u001b[0m\u001b[1;32m      8\u001b[0m \u001b[0mprint\u001b[0m\u001b[0;34m(\u001b[0m\u001b[0;34m'penalty %4.2f'\u001b[0m \u001b[0;34m%\u001b[0m \u001b[0mpenalty\u001b[0m\u001b[0;34m)\u001b[0m\u001b[0;34m\u001b[0m\u001b[0;34m\u001b[0m\u001b[0m\n\u001b[1;32m      9\u001b[0m \u001b[0moptimal_segmentation\u001b[0m \u001b[0;34m=\u001b[0m \u001b[0msplit_optimal\u001b[0m\u001b[0;34m(\u001b[0m\u001b[0msentence_vectors\u001b[0m\u001b[0;34m,\u001b[0m \u001b[0mpenalty\u001b[0m\u001b[0;34m,\u001b[0m \u001b[0mseg_limit\u001b[0m\u001b[0;34m=\u001b[0m\u001b[0;36m250\u001b[0m\u001b[0;34m)\u001b[0m\u001b[0;34m\u001b[0m\u001b[0;34m\u001b[0m\u001b[0m\n",
            "\u001b[0;32m/usr/local/lib/python3.7/dist-packages/textsplit/tools.py\u001b[0m in \u001b[0;36mget_penalty\u001b[0;34m(docmats, segment_len)\u001b[0m\n\u001b[1;32m     32\u001b[0m     \u001b[0;32mif\u001b[0m \u001b[0mlen\u001b[0m\u001b[0;34m(\u001b[0m\u001b[0mpenalties\u001b[0m\u001b[0;34m)\u001b[0m \u001b[0;34m>\u001b[0m \u001b[0;36m0\u001b[0m\u001b[0;34m:\u001b[0m\u001b[0;34m\u001b[0m\u001b[0;34m\u001b[0m\u001b[0m\n\u001b[1;32m     33\u001b[0m         \u001b[0;32mreturn\u001b[0m \u001b[0mnp\u001b[0m\u001b[0;34m.\u001b[0m\u001b[0mmean\u001b[0m\u001b[0;34m(\u001b[0m\u001b[0mpenalties\u001b[0m\u001b[0;34m)\u001b[0m\u001b[0;34m\u001b[0m\u001b[0;34m\u001b[0m\u001b[0m\n\u001b[0;32m---> 34\u001b[0;31m     \u001b[0;32mraise\u001b[0m \u001b[0mValueError\u001b[0m\u001b[0;34m(\u001b[0m\u001b[0;34m'All documents too short for given segment_len.'\u001b[0m\u001b[0;34m)\u001b[0m\u001b[0;34m\u001b[0m\u001b[0;34m\u001b[0m\u001b[0m\n\u001b[0m\u001b[1;32m     35\u001b[0m \u001b[0;34m\u001b[0m\u001b[0m\n\u001b[1;32m     36\u001b[0m \u001b[0;34m\u001b[0m\u001b[0m\n",
            "\u001b[0;31mValueError\u001b[0m: All documents too short for given segment_len."
          ]
        }
      ],
      "source": [
        "#UJI COBAKU\n",
        "segment_len = 3  # segment target length in sentences\n",
        "\n",
        "vecr = CountVectorizer(vocabulary=wrdvecs.index)\n",
        "sentenced_text = sentence_tokenizer(hasil)\n",
        "sentence_vectors = vecr.transform(sentenced_text).dot(wrdvecs)\n",
        "penalty = get_penalty([sentence_vectors], segment_len)\n",
        "print('penalty %4.2f' % penalty)\n",
        "optimal_segmentation = split_optimal(sentence_vectors, penalty, seg_limit=250)\n",
        "segmented_text = get_segments(sentenced_text, optimal_segmentation)\n",
        "print('%d sentences, %d segments, avg %4.2f sentences per segment' % (\n",
        "    len(sentenced_text), len(segmented_text), len(sentenced_text) / len(segmented_text)))"
      ]
    },
    {
      "cell_type": "code",
      "execution_count": null,
      "metadata": {
        "colab": {
          "base_uri": "https://localhost:8080/"
        },
        "id": "fPoF-4uiWtO3",
        "outputId": "a965ca17-138e-47e1-c6fb-5077e2c6506b"
      },
      "outputs": [
        {
          "data": {
            "text/plain": [
              "['Halo yayan, Terima kasih atas pertanyaannya. \\n',\n",
              " 'Berdasarkan riwayat keluhan istri Anda yang sudah Anda sampaikan, yaitu muntah - muntah dan diare lebih dari 5-10x,  terdapat kemungkinan kondisi yang dialami oleh istri Anda, salah satunya adalah keracunan makanan, infeksi saluran cerna, adanya malapsorbsi / intoleransi makanan yang ditandai dengan gejala - gejala yang Anda sebutkan tersebut. \\n',\n",
              " 'Gejala muntah dan diare pada dasarnya merupakan respon tubuh yang wajar sebagaimana tubuh berusaha mengeluarkan toksin / racun dari makanan / minuman yang terkontaminasi yang dikonsumsi sebelumnya. \\n',\n",
              " 'Kondisi ini dapat membaik dengan sendirinya dalam hitungan beberapa hari tanpa perlu pengobatan khusus dari dokter. \\n',\n",
              " 'Pantau terus gejala yang muncul, kembalikan cairan tubuh yang keluar, dan monitor tanda - tanda  dehidrasi seperti lemas, mata cowong, tidak buang air kecil lebih dari 6 jam atau urin berwarna pekat, mulut kering dan rasa sangat haus, dan adanya tanda - tanda  kebingungan. \\n',\n",
              " 'Selain itu, berikut anjuran yang dapat dilakukan untuk mengurangi keluhan: Menghindari makan terlebih dahulu selama beberapa jam. \\n',\n",
              " 'Minum air, sup, atau minuman elektrolit untuk membantu mengembalikan cairan yang keluar dari tubuh istri Anda. \\n',\n",
              " 'Ketika makan nanti, makan sedikit - sedikit dengan makanan yang tawar seperti roti - rotian, nasi / bubur, biskuit. \\n',\n",
              " 'Istirahat yang cukup. \\n',\n",
              " 'Menghindari susu dan produk susu, kopi, minuman bersoda, dan makanan asam / pedas / berlemak terlebih dahulu. \\n',\n",
              " 'Apabila gejala tidak membaik dalam waktu 3-5 hari, masih terus muntah atau diare dan terdapat darah di dalamnya, demam, lemas, langsung hubungi petugas fasilitas layanan kesehatan terdekat. \\n',\n",
              " 'Semoga informasi ini dapat membantu dan semoga lekas sembuh. \\n']"
            ]
          },
          "execution_count": 255,
          "metadata": {},
          "output_type": "execute_result"
        }
      ],
      "source": [
        "#UJI COBAKU\n",
        "sentenced_text"
      ]
    },
    {
      "cell_type": "code",
      "execution_count": null,
      "metadata": {
        "colab": {
          "base_uri": "https://localhost:8080/"
        },
        "id": "KsTGW8y-XELF",
        "outputId": "d6bb06c9-a457-49ab-e216-af48fe3dbbd9"
      },
      "outputs": [
        {
          "data": {
            "text/plain": [
              "[['Halo yayan, Terima kasih atas pertanyaannya. \\n'],\n",
              " ['Berdasarkan riwayat keluhan istri Anda yang sudah Anda sampaikan, yaitu muntah - muntah dan diare lebih dari 5-10x,  terdapat kemungkinan kondisi yang dialami oleh istri Anda, salah satunya adalah keracunan makanan, infeksi saluran cerna, adanya malapsorbsi / intoleransi makanan yang ditandai dengan gejala - gejala yang Anda sebutkan tersebut. \\n',\n",
              "  'Gejala muntah dan diare pada dasarnya merupakan respon tubuh yang wajar sebagaimana tubuh berusaha mengeluarkan toksin / racun dari makanan / minuman yang terkontaminasi yang dikonsumsi sebelumnya. \\n'],\n",
              " ['Kondisi ini dapat membaik dengan sendirinya dalam hitungan beberapa hari tanpa perlu pengobatan khusus dari dokter. \\n'],\n",
              " ['Pantau terus gejala yang muncul, kembalikan cairan tubuh yang keluar, dan monitor tanda - tanda  dehidrasi seperti lemas, mata cowong, tidak buang air kecil lebih dari 6 jam atau urin berwarna pekat, mulut kering dan rasa sangat haus, dan adanya tanda - tanda  kebingungan. \\n'],\n",
              " ['Selain itu, berikut anjuran yang dapat dilakukan untuk mengurangi keluhan: Menghindari makan terlebih dahulu selama beberapa jam. \\n',\n",
              "  'Minum air, sup, atau minuman elektrolit untuk membantu mengembalikan cairan yang keluar dari tubuh istri Anda. \\n',\n",
              "  'Ketika makan nanti, makan sedikit - sedikit dengan makanan yang tawar seperti roti - rotian, nasi / bubur, biskuit. \\n',\n",
              "  'Istirahat yang cukup. \\n'],\n",
              " ['Menghindari susu dan produk susu, kopi, minuman bersoda, dan makanan asam / pedas / berlemak terlebih dahulu. \\n',\n",
              "  'Apabila gejala tidak membaik dalam waktu 3-5 hari, masih terus muntah atau diare dan terdapat darah di dalamnya, demam, lemas, langsung hubungi petugas fasilitas layanan kesehatan terdekat. \\n',\n",
              "  'Semoga informasi ini dapat membantu dan semoga lekas sembuh. \\n']]"
            ]
          },
          "execution_count": 256,
          "metadata": {},
          "output_type": "execute_result"
        }
      ],
      "source": [
        "#UJI COBAKU\n",
        "segmented_text"
      ]
    },
    {
      "cell_type": "code",
      "execution_count": null,
      "metadata": {
        "colab": {
          "base_uri": "https://localhost:8080/"
        },
        "id": "WzajNwElXKsN",
        "outputId": "5fa5fa87-3cbb-4736-b4d2-9773f36a0a45"
      },
      "outputs": [
        {
          "name": "stdout",
          "output_type": "stream",
          "text": [
            "Segmentasi ke 0\n",
            "Halo yayan, Terima kasih atas pertanyaannya. \n",
            "\n",
            "\n",
            "Segmentasi ke 1\n",
            "Berdasarkan riwayat keluhan istri Anda yang sudah Anda sampaikan, yaitu muntah - muntah dan diare lebih dari 5-10x,  terdapat kemungkinan kondisi yang dialami oleh istri Anda, salah satunya adalah keracunan makanan, infeksi saluran cerna, adanya malapsorbsi / intoleransi makanan yang ditandai dengan gejala - gejala yang Anda sebutkan tersebut. \n",
            "\n",
            "Gejala muntah dan diare pada dasarnya merupakan respon tubuh yang wajar sebagaimana tubuh berusaha mengeluarkan toksin / racun dari makanan / minuman yang terkontaminasi yang dikonsumsi sebelumnya. \n",
            "\n",
            "\n",
            "Segmentasi ke 2\n",
            "Kondisi ini dapat membaik dengan sendirinya dalam hitungan beberapa hari tanpa perlu pengobatan khusus dari dokter. \n",
            "\n",
            "\n",
            "Segmentasi ke 3\n",
            "Pantau terus gejala yang muncul, kembalikan cairan tubuh yang keluar, dan monitor tanda - tanda  dehidrasi seperti lemas, mata cowong, tidak buang air kecil lebih dari 6 jam atau urin berwarna pekat, mulut kering dan rasa sangat haus, dan adanya tanda - tanda  kebingungan. \n",
            "\n",
            "\n",
            "Segmentasi ke 4\n",
            "Selain itu, berikut anjuran yang dapat dilakukan untuk mengurangi keluhan: Menghindari makan terlebih dahulu selama beberapa jam. \n",
            "\n",
            "Minum air, sup, atau minuman elektrolit untuk membantu mengembalikan cairan yang keluar dari tubuh istri Anda. \n",
            "\n",
            "Ketika makan nanti, makan sedikit - sedikit dengan makanan yang tawar seperti roti - rotian, nasi / bubur, biskuit. \n",
            "\n",
            "Istirahat yang cukup. \n",
            "\n",
            "\n",
            "Segmentasi ke 5\n",
            "Menghindari susu dan produk susu, kopi, minuman bersoda, dan makanan asam / pedas / berlemak terlebih dahulu. \n",
            "\n",
            "Apabila gejala tidak membaik dalam waktu 3-5 hari, masih terus muntah atau diare dan terdapat darah di dalamnya, demam, lemas, langsung hubungi petugas fasilitas layanan kesehatan terdekat. \n",
            "\n",
            "Semoga informasi ini dapat membantu dan semoga lekas sembuh. \n",
            "\n",
            "\n"
          ]
        }
      ],
      "source": [
        "#UJI COBAKU\n",
        "for i in range(0,len(segmented_text)):\n",
        "  print('Segmentasi ke',i)\n",
        "  for sentence in segmented_text[i]:\n",
        "    print(sentence)\n",
        "  print('')"
      ]
    },
    {
      "cell_type": "code",
      "execution_count": null,
      "metadata": {
        "colab": {
          "base_uri": "https://localhost:8080/"
        },
        "id": "4uLaxB_kXVy-",
        "outputId": "3173e937-41ad-438a-a9e4-e60ec1c44ea2"
      },
      "outputs": [
        {
          "data": {
            "text/plain": [
              "Segmentation(total=234.89125168733088, splits=[1, 3, 4, 5, 9], gains=[10.283857914870424, 8.92543823345936, 7.823380180635873, 8.449316401306092, 26.778067671381706], min_gain=None, optimal=True)"
            ]
          },
          "execution_count": 258,
          "metadata": {},
          "output_type": "execute_result"
        }
      ],
      "source": [
        "#UJI COBAKU\n",
        "optimal_segmentation"
      ]
    },
    {
      "cell_type": "code",
      "execution_count": null,
      "metadata": {
        "colab": {
          "base_uri": "https://localhost:8080/",
          "height": 452
        },
        "id": "sb7Z_1jhXcAU",
        "outputId": "264f0b9b-ecf3-4377-baa7-79039b52e68d"
      },
      "outputs": [
        {
          "name": "stdout",
          "output_type": "stream",
          "text": [
            "optimal score 234.89, greedy score 234.89\n",
            "ratio of scores 1.0000\n"
          ]
        },
        {
          "data": {
            "image/png": "[encoded data removed]",
            "text/plain": [
              "<Figure size 1296x216 with 1 Axes>"
            ]
          },
          "metadata": {},
          "output_type": "display_data"
        },
        {
          "data": {
            "image/png": "[encoded data removed]",
            "text/plain": [
              "<Figure size 720x216 with 1 Axes>"
            ]
          },
          "metadata": {},
          "output_type": "display_data"
        }
      ],
      "source": [
        "#UJI COBAKU\n",
        "greedy_segmentation = split_greedy(sentence_vectors, max_splits=len(optimal_segmentation.splits))\n",
        "greedy_segmented_text = get_segments(sentenced_text, greedy_segmentation)\n",
        "lengths_optimal = [len(segment) for segment in segmented_text for sentence in segment]\n",
        "lengths_greedy = [len(segment) for segment in greedy_segmented_text for sentence in segment]\n",
        "df = pd.DataFrame({'greedy':lengths_greedy, 'optimal': lengths_optimal})\n",
        "df.plot.line(figsize=(18, 3), title='Segment lenghts over text')\n",
        "df.plot.hist(bins=30, alpha=0.5, figsize=(10, 3), title='Histogram of segment lengths')\n",
        "\n",
        "totals = [get_total(sentence_vectors, seg.splits, penalty) \n",
        "          for seg in [optimal_segmentation, greedy_segmentation]]\n",
        "print('optimal score %4.2f, greedy score %4.2f' % tuple(totals))\n",
        "print('ratio of scores %5.4f' % (totals[0] / totals[1]))"
      ]
    },
    {
      "cell_type": "code",
      "execution_count": null,
      "metadata": {
        "colab": {
          "base_uri": "https://localhost:8080/"
        },
        "id": "ixOcRLxZXy3e",
        "outputId": "bf69de98-3e4d-4d77-f8c0-b5fd3fd8a15b"
      },
      "outputs": [
        {
          "data": {
            "text/plain": [
              "Segmentation(total=None, splits=[1, 3, 4, 5, 9], gains=[10.283857914870424, 8.92543823345936, 7.823380180635873, 8.449316401306092, 26.778067671381706], min_gain=5.134705666823066, optimal=None)"
            ]
          },
          "execution_count": 260,
          "metadata": {},
          "output_type": "execute_result"
        }
      ],
      "source": [
        "#UJI COBAKU\n",
        "greedy_segmentation"
      ]
    },
    {
      "cell_type": "code",
      "execution_count": null,
      "metadata": {
        "colab": {
          "base_uri": "https://localhost:8080/"
        },
        "id": "4CJKRpr_X3P-",
        "outputId": "5ca4b1f6-23fe-41e7-be60-a643533bc025"
      },
      "outputs": [
        {
          "data": {
            "text/plain": [
              "[['Halo yayan, Terima kasih atas pertanyaannya. \\n'],\n",
              " ['Berdasarkan riwayat keluhan istri Anda yang sudah Anda sampaikan, yaitu muntah - muntah dan diare lebih dari 5-10x,  terdapat kemungkinan kondisi yang dialami oleh istri Anda, salah satunya adalah keracunan makanan, infeksi saluran cerna, adanya malapsorbsi / intoleransi makanan yang ditandai dengan gejala - gejala yang Anda sebutkan tersebut. \\n',\n",
              "  'Gejala muntah dan diare pada dasarnya merupakan respon tubuh yang wajar sebagaimana tubuh berusaha mengeluarkan toksin / racun dari makanan / minuman yang terkontaminasi yang dikonsumsi sebelumnya. \\n'],\n",
              " ['Kondisi ini dapat membaik dengan sendirinya dalam hitungan beberapa hari tanpa perlu pengobatan khusus dari dokter. \\n'],\n",
              " ['Pantau terus gejala yang muncul, kembalikan cairan tubuh yang keluar, dan monitor tanda - tanda  dehidrasi seperti lemas, mata cowong, tidak buang air kecil lebih dari 6 jam atau urin berwarna pekat, mulut kering dan rasa sangat haus, dan adanya tanda - tanda  kebingungan. \\n'],\n",
              " ['Selain itu, berikut anjuran yang dapat dilakukan untuk mengurangi keluhan: Menghindari makan terlebih dahulu selama beberapa jam. \\n',\n",
              "  'Minum air, sup, atau minuman elektrolit untuk membantu mengembalikan cairan yang keluar dari tubuh istri Anda. \\n',\n",
              "  'Ketika makan nanti, makan sedikit - sedikit dengan makanan yang tawar seperti roti - rotian, nasi / bubur, biskuit. \\n',\n",
              "  'Istirahat yang cukup. \\n'],\n",
              " ['Menghindari susu dan produk susu, kopi, minuman bersoda, dan makanan asam / pedas / berlemak terlebih dahulu. \\n',\n",
              "  'Apabila gejala tidak membaik dalam waktu 3-5 hari, masih terus muntah atau diare dan terdapat darah di dalamnya, demam, lemas, langsung hubungi petugas fasilitas layanan kesehatan terdekat. \\n',\n",
              "  'Semoga informasi ini dapat membantu dan semoga lekas sembuh. \\n']]"
            ]
          },
          "execution_count": 261,
          "metadata": {},
          "output_type": "execute_result"
        }
      ],
      "source": [
        "#UJI COBAKU\n",
        "greedy_segmented_text"
      ]
    },
    {
      "cell_type": "code",
      "execution_count": null,
      "metadata": {
        "colab": {
          "base_uri": "https://localhost:8080/"
        },
        "id": "YnIp027_X74t",
        "outputId": "33f1c7a0-566b-4a44-b71c-f5cfacdbe688"
      },
      "outputs": [
        {
          "name": "stdout",
          "output_type": "stream",
          "text": [
            "Segmentasi ke 0\n",
            "Halo yayan, Terima kasih atas pertanyaannya. \n",
            "\n",
            "\n",
            "Segmentasi ke 1\n",
            "Berdasarkan riwayat keluhan istri Anda yang sudah Anda sampaikan, yaitu muntah - muntah dan diare lebih dari 5-10x,  terdapat kemungkinan kondisi yang dialami oleh istri Anda, salah satunya adalah keracunan makanan, infeksi saluran cerna, adanya malapsorbsi / intoleransi makanan yang ditandai dengan gejala - gejala yang Anda sebutkan tersebut. \n",
            "\n",
            "Gejala muntah dan diare pada dasarnya merupakan respon tubuh yang wajar sebagaimana tubuh berusaha mengeluarkan toksin / racun dari makanan / minuman yang terkontaminasi yang dikonsumsi sebelumnya. \n",
            "\n",
            "\n",
            "Segmentasi ke 2\n",
            "Kondisi ini dapat membaik dengan sendirinya dalam hitungan beberapa hari tanpa perlu pengobatan khusus dari dokter. \n",
            "\n",
            "\n",
            "Segmentasi ke 3\n",
            "Pantau terus gejala yang muncul, kembalikan cairan tubuh yang keluar, dan monitor tanda - tanda  dehidrasi seperti lemas, mata cowong, tidak buang air kecil lebih dari 6 jam atau urin berwarna pekat, mulut kering dan rasa sangat haus, dan adanya tanda - tanda  kebingungan. \n",
            "\n",
            "\n",
            "Segmentasi ke 4\n",
            "Selain itu, berikut anjuran yang dapat dilakukan untuk mengurangi keluhan: Menghindari makan terlebih dahulu selama beberapa jam. \n",
            "\n",
            "Minum air, sup, atau minuman elektrolit untuk membantu mengembalikan cairan yang keluar dari tubuh istri Anda. \n",
            "\n",
            "Ketika makan nanti, makan sedikit - sedikit dengan makanan yang tawar seperti roti - rotian, nasi / bubur, biskuit. \n",
            "\n",
            "Istirahat yang cukup. \n",
            "\n",
            "\n",
            "Segmentasi ke 5\n",
            "Menghindari susu dan produk susu, kopi, minuman bersoda, dan makanan asam / pedas / berlemak terlebih dahulu. \n",
            "\n",
            "Apabila gejala tidak membaik dalam waktu 3-5 hari, masih terus muntah atau diare dan terdapat darah di dalamnya, demam, lemas, langsung hubungi petugas fasilitas layanan kesehatan terdekat. \n",
            "\n",
            "Semoga informasi ini dapat membantu dan semoga lekas sembuh. \n",
            "\n",
            "\n"
          ]
        }
      ],
      "source": [
        "#UJI COBAKU\n",
        "for i in range(0,len(greedy_segmented_text)):\n",
        "  print('Segmentasi ke',i)\n",
        "  for sentence in greedy_segmented_text[i]:\n",
        "    print(sentence)\n",
        "  print('')"
      ]
    },
    {
      "cell_type": "code",
      "execution_count": null,
      "metadata": {
        "colab": {
          "base_uri": "https://localhost:8080/"
        },
        "id": "bZu3TL6TX_RI",
        "outputId": "9c2d46d2-38c1-4b4b-9818-ffc70a96827b"
      },
      "outputs": [
        {
          "data": {
            "text/plain": [
              "0.0"
            ]
          },
          "execution_count": 263,
          "metadata": {},
          "output_type": "execute_result"
        }
      ],
      "source": [
        "#UJI COBAKU \n",
        "#P_k\n",
        "pk = P_k(optimal_segmentation.splits, greedy_segmentation.splits, len(sentence))\n",
        "pk"
      ]
    },
    {
      "cell_type": "markdown",
      "metadata": {
        "id": "5nFxLxWhmsxF"
      },
      "source": [
        "# TextTiling"
      ]
    },
    {
      "cell_type": "code",
      "execution_count": null,
      "metadata": {
        "id": "DxJLOVsGmuyn"
      },
      "outputs": [],
      "source": [
        "import string\n",
        "import nltk\n",
        "import numpy as np\n",
        "from nltk.stem.porter import *\n",
        "from nltk.corpus import stopwords\n",
        "import sklearn\n",
        "from sklearn.metrics.pairwise import cosine_similarity\n",
        "from sklearn.feature_extraction.text import TfidfVectorizer\n",
        "from nltk.metrics import windowdiff"
      ]
    },
    {
      "cell_type": "code",
      "execution_count": null,
      "metadata": {
        "id": "Z4JQlSdTmydt"
      },
      "outputs": [],
      "source": [
        "#Function to plot graphs required for Text Tiling Algorithm\n",
        "def plot_fig(x,score,heading,fig_no):\n",
        "    fig = plt.figure(fig_no,figsize=(10,6))\n",
        "    ax = fig.add_subplot(111)\n",
        "    ax.plot(x,score,label=heading)\n",
        "    ax.legend()"
      ]
    },
    {
      "cell_type": "code",
      "execution_count": null,
      "metadata": {
        "id": "irlSkkEQnevl"
      },
      "outputs": [],
      "source": [
        "#Sen_length represents the desired sentence length that we are focusing on \n",
        "#Doc represents the corpus of text\n",
        "#Fig no represents the figure no that we want to give to the graph\n",
        "def text_tiling(doc,sen_len,fig_no):\n",
        "    \n",
        "    #Porter Stemming and removing stop words\n",
        "    sentences=[]\n",
        "    sentence=\"\"\n",
        "    j=0\n",
        "    for word in doc.split(\" \"):\n",
        "      j=j+1\n",
        "      sentence=sentence + word +' '\n",
        "      if j==sen_len:\n",
        "        sentences.append(sentence[:-1])\n",
        "        sentence=\"\"\n",
        "        j=0\n",
        "    #If the last sentence is of length less than sen_length\n",
        "    sentences.append(sentence[:-1])\n",
        " \n",
        "    #Vectorizing Sentences using Sklearn to determine Cosine Similarity between adjacent sentences\n",
        "    tfidf_vectorizer = TfidfVectorizer()\n",
        "    tfidf_matrix = tfidf_vectorizer.fit_transform(sentences)\n",
        "    score=[]\n",
        "    for i in range(0,tfidf_matrix.shape[0]-2):\n",
        "        score.append(cosine_similarity(tfidf_matrix[i:i+1], tfidf_matrix[i+1:i+2])[0][0])\n",
        "    \n",
        "    #Plotting Cosine Similarity \n",
        "    plot_fig(range(1,tfidf_matrix.shape[0]-1),score,'Lexical Similarity with Sentence Length '+ str(sen_len),fig_no)\n",
        "    \n",
        "    #Implementing Windowdiff measure\n",
        "    mean_score=np.mean(score)\n",
        "    std_score=np.std(score)\n",
        "    #Threshold is defined as Mean Score - Standard Deviation\n",
        "    threshold=mean_score-std_score\n",
        "    boundary=[]\n",
        "    for i in range(0,len(score)-2): \n",
        "        #score[0] represents the cosine similarity between sentence 1 and sentence 2, score[1] between 2 and 3 and score[2] between 3 and 4\n",
        "        #If depth is greater than threshold, then there will be a dissimilariy between sentence 2 and sentence 3, so we are marking sentence 2 as the boundary\n",
        "        depth=score[i]-score[i+1]+score[i+2]-score[i+1]\n",
        "        if depth>=threshold:\n",
        "            boundary.append(i+1) #Storing positions of Sentences that represent a boundary\n",
        "    #Replacing boundaries with 1 and words with 0\n",
        "    boundary_string=''\n",
        "    for i in range(0,len(sentences)):\n",
        "        boundary_string=boundary_string+sentences[i]+' '\n",
        "        if i in boundary:\n",
        "            boundary_string=boundary_string+' $$ '  \n",
        "        \n",
        "    return boundary_string"
      ]
    },
    {
      "cell_type": "code",
      "execution_count": null,
      "metadata": {
        "id": "f-R5RMxboqY2"
      },
      "outputs": [],
      "source": [
        "def window_diff(ref_word,doc,sen_len,fig_no):\n",
        "    #Call to TextTiling Function\n",
        "    hypo=text_tiling(doc,sen_len,fig_no)\n",
        "    #Splitting Hypothesis Words\n",
        "    hypo_words=[word for word in hypo.split(' ')]\n",
        "    #Storing supervised input\n",
        "    para_words=ref_word\n",
        "    i=0\n",
        "    j=0\n",
        "    hypo_string=''\n",
        "    para_string=''\n",
        "    # What this loop does can be explained by an example: Suppose we have total of 3 words and \n",
        "    # we have boundaries after two words in hypothesis  (hey man $$ yep) and after one word in training( hey $$ man yep)\n",
        "    # so this would represent hypothesis string as 00010(0(hey)0($$ in reference)0(man)1($$ in hypothesis)0(yep)) \n",
        "    # reference string as 01000 (0(hey)1($$ in ref)0(man)0($$ in hypothesis)0(yep))\n",
        "    while i<len(hypo_words) and j<len(para_words):\n",
        "        if hypo_words[i]==para_words[j]:\n",
        "            hypo_string=hypo_string+'0'\n",
        "            para_string=para_string+'0'\n",
        "            i=i+1\n",
        "            j=j+1\n",
        "        elif hypo_words[i]=='$$':\n",
        "            hypo_string=hypo_string+'1'\n",
        "            para_string=para_string+'0'\n",
        "            i=i+1\n",
        "        elif para_words[j]=='$$':\n",
        "            hypo_string=hypo_string+'0'\n",
        "            para_string=para_string+'1'\n",
        "            j=j+1\n",
        "    \n",
        "    #Small windows produce more negatives, thus WindowDiff recommends using a window size (k) of half the average segment length.\n",
        "    #Referred from this paper: Getting More from Segmentation Evaluation\n",
        "    \n",
        "    k=sen_len/2\n",
        "    return ('%.2f' % windowdiff(hypo_string,para_string,k))"
      ]
    },
    {
      "cell_type": "code",
      "execution_count": null,
      "metadata": {
        "id": "yFnrdeLZtmEi",
        "colab": {
          "base_uri": "https://localhost:8080/",
          "height": 502
        },
        "outputId": "b79302fa-9425-486f-d137-e92854d58617"
      },
      "outputs": [
        {
          "output_type": "error",
          "ename": "KeyError",
          "evalue": "ignored",
          "traceback": [
            "\u001b[0;31m---------------------------------------------------------------------------\u001b[0m",
            "\u001b[0;31mKeyError\u001b[0m                                  Traceback (most recent call last)",
            "\u001b[0;32m/usr/local/lib/python3.7/dist-packages/pandas/core/indexes/base.py\u001b[0m in \u001b[0;36mget_loc\u001b[0;34m(self, key, method, tolerance)\u001b[0m\n\u001b[1;32m   3360\u001b[0m             \u001b[0;32mtry\u001b[0m\u001b[0;34m:\u001b[0m\u001b[0;34m\u001b[0m\u001b[0;34m\u001b[0m\u001b[0m\n\u001b[0;32m-> 3361\u001b[0;31m                 \u001b[0;32mreturn\u001b[0m \u001b[0mself\u001b[0m\u001b[0;34m.\u001b[0m\u001b[0m_engine\u001b[0m\u001b[0;34m.\u001b[0m\u001b[0mget_loc\u001b[0m\u001b[0;34m(\u001b[0m\u001b[0mcasted_key\u001b[0m\u001b[0;34m)\u001b[0m\u001b[0;34m\u001b[0m\u001b[0;34m\u001b[0m\u001b[0m\n\u001b[0m\u001b[1;32m   3362\u001b[0m             \u001b[0;32mexcept\u001b[0m \u001b[0mKeyError\u001b[0m \u001b[0;32mas\u001b[0m \u001b[0merr\u001b[0m\u001b[0;34m:\u001b[0m\u001b[0;34m\u001b[0m\u001b[0;34m\u001b[0m\u001b[0m\n",
            "\u001b[0;32m/usr/local/lib/python3.7/dist-packages/pandas/_libs/index.pyx\u001b[0m in \u001b[0;36mpandas._libs.index.IndexEngine.get_loc\u001b[0;34m()\u001b[0m\n",
            "\u001b[0;32m/usr/local/lib/python3.7/dist-packages/pandas/_libs/index.pyx\u001b[0m in \u001b[0;36mpandas._libs.index.IndexEngine.get_loc\u001b[0;34m()\u001b[0m\n",
            "\u001b[0;32mpandas/_libs/hashtable_class_helper.pxi\u001b[0m in \u001b[0;36mpandas._libs.hashtable.PyObjectHashTable.get_item\u001b[0;34m()\u001b[0m\n",
            "\u001b[0;32mpandas/_libs/hashtable_class_helper.pxi\u001b[0m in \u001b[0;36mpandas._libs.hashtable.PyObjectHashTable.get_item\u001b[0;34m()\u001b[0m\n",
            "\u001b[0;31mKeyError\u001b[0m: 'stopwords'",
            "\nThe above exception was the direct cause of the following exception:\n",
            "\u001b[0;31mKeyError\u001b[0m                                  Traceback (most recent call last)",
            "\u001b[0;32m<ipython-input-62-a84d3423eb44>\u001b[0m in \u001b[0;36m<module>\u001b[0;34m()\u001b[0m\n\u001b[1;32m      1\u001b[0m \u001b[0mdoc\u001b[0m \u001b[0;34m=\u001b[0m \u001b[0;34m''\u001b[0m\u001b[0;34m\u001b[0m\u001b[0;34m\u001b[0m\u001b[0m\n\u001b[0;32m----> 2\u001b[0;31m \u001b[0;32mfor\u001b[0m \u001b[0msentence\u001b[0m \u001b[0;32min\u001b[0m \u001b[0mdataset\u001b[0m\u001b[0;34m[\u001b[0m\u001b[0;34m'stopwords'\u001b[0m\u001b[0;34m]\u001b[0m\u001b[0;34m:\u001b[0m\u001b[0;34m\u001b[0m\u001b[0;34m\u001b[0m\u001b[0m\n\u001b[0m\u001b[1;32m      3\u001b[0m   \u001b[0mdoc\u001b[0m \u001b[0;34m+=\u001b[0m \u001b[0msentence\u001b[0m \u001b[0;34m+\u001b[0m \u001b[0;34m''\u001b[0m\u001b[0;34m\u001b[0m\u001b[0;34m\u001b[0m\u001b[0m\n",
            "\u001b[0;32m/usr/local/lib/python3.7/dist-packages/pandas/core/frame.py\u001b[0m in \u001b[0;36m__getitem__\u001b[0;34m(self, key)\u001b[0m\n\u001b[1;32m   3456\u001b[0m             \u001b[0;32mif\u001b[0m \u001b[0mself\u001b[0m\u001b[0;34m.\u001b[0m\u001b[0mcolumns\u001b[0m\u001b[0;34m.\u001b[0m\u001b[0mnlevels\u001b[0m \u001b[0;34m>\u001b[0m \u001b[0;36m1\u001b[0m\u001b[0;34m:\u001b[0m\u001b[0;34m\u001b[0m\u001b[0;34m\u001b[0m\u001b[0m\n\u001b[1;32m   3457\u001b[0m                 \u001b[0;32mreturn\u001b[0m \u001b[0mself\u001b[0m\u001b[0;34m.\u001b[0m\u001b[0m_getitem_multilevel\u001b[0m\u001b[0;34m(\u001b[0m\u001b[0mkey\u001b[0m\u001b[0;34m)\u001b[0m\u001b[0;34m\u001b[0m\u001b[0;34m\u001b[0m\u001b[0m\n\u001b[0;32m-> 3458\u001b[0;31m             \u001b[0mindexer\u001b[0m \u001b[0;34m=\u001b[0m \u001b[0mself\u001b[0m\u001b[0;34m.\u001b[0m\u001b[0mcolumns\u001b[0m\u001b[0;34m.\u001b[0m\u001b[0mget_loc\u001b[0m\u001b[0;34m(\u001b[0m\u001b[0mkey\u001b[0m\u001b[0;34m)\u001b[0m\u001b[0;34m\u001b[0m\u001b[0;34m\u001b[0m\u001b[0m\n\u001b[0m\u001b[1;32m   3459\u001b[0m             \u001b[0;32mif\u001b[0m \u001b[0mis_integer\u001b[0m\u001b[0;34m(\u001b[0m\u001b[0mindexer\u001b[0m\u001b[0;34m)\u001b[0m\u001b[0;34m:\u001b[0m\u001b[0;34m\u001b[0m\u001b[0;34m\u001b[0m\u001b[0m\n\u001b[1;32m   3460\u001b[0m                 \u001b[0mindexer\u001b[0m \u001b[0;34m=\u001b[0m \u001b[0;34m[\u001b[0m\u001b[0mindexer\u001b[0m\u001b[0;34m]\u001b[0m\u001b[0;34m\u001b[0m\u001b[0;34m\u001b[0m\u001b[0m\n",
            "\u001b[0;32m/usr/local/lib/python3.7/dist-packages/pandas/core/indexes/base.py\u001b[0m in \u001b[0;36mget_loc\u001b[0;34m(self, key, method, tolerance)\u001b[0m\n\u001b[1;32m   3361\u001b[0m                 \u001b[0;32mreturn\u001b[0m \u001b[0mself\u001b[0m\u001b[0;34m.\u001b[0m\u001b[0m_engine\u001b[0m\u001b[0;34m.\u001b[0m\u001b[0mget_loc\u001b[0m\u001b[0;34m(\u001b[0m\u001b[0mcasted_key\u001b[0m\u001b[0;34m)\u001b[0m\u001b[0;34m\u001b[0m\u001b[0;34m\u001b[0m\u001b[0m\n\u001b[1;32m   3362\u001b[0m             \u001b[0;32mexcept\u001b[0m \u001b[0mKeyError\u001b[0m \u001b[0;32mas\u001b[0m \u001b[0merr\u001b[0m\u001b[0;34m:\u001b[0m\u001b[0;34m\u001b[0m\u001b[0;34m\u001b[0m\u001b[0m\n\u001b[0;32m-> 3363\u001b[0;31m                 \u001b[0;32mraise\u001b[0m \u001b[0mKeyError\u001b[0m\u001b[0;34m(\u001b[0m\u001b[0mkey\u001b[0m\u001b[0;34m)\u001b[0m \u001b[0;32mfrom\u001b[0m \u001b[0merr\u001b[0m\u001b[0;34m\u001b[0m\u001b[0;34m\u001b[0m\u001b[0m\n\u001b[0m\u001b[1;32m   3364\u001b[0m \u001b[0;34m\u001b[0m\u001b[0m\n\u001b[1;32m   3365\u001b[0m         \u001b[0;32mif\u001b[0m \u001b[0mis_scalar\u001b[0m\u001b[0;34m(\u001b[0m\u001b[0mkey\u001b[0m\u001b[0;34m)\u001b[0m \u001b[0;32mand\u001b[0m \u001b[0misna\u001b[0m\u001b[0;34m(\u001b[0m\u001b[0mkey\u001b[0m\u001b[0;34m)\u001b[0m \u001b[0;32mand\u001b[0m \u001b[0;32mnot\u001b[0m \u001b[0mself\u001b[0m\u001b[0;34m.\u001b[0m\u001b[0mhasnans\u001b[0m\u001b[0;34m:\u001b[0m\u001b[0;34m\u001b[0m\u001b[0;34m\u001b[0m\u001b[0m\n",
            "\u001b[0;31mKeyError\u001b[0m: 'stopwords'"
          ]
        }
      ],
      "source": [
        "doc = ''\n",
        "for sentence in dataset['stopwords']:\n",
        "  doc += sentence + ''"
      ]
    },
    {
      "cell_type": "code",
      "execution_count": null,
      "metadata": {
        "id": "j2lunHeLti4S"
      },
      "outputs": [],
      "source": [
        "doc_copy=doc\n",
        "ref_word=[]\n",
        "for word in doc_copy.split(\" \"):\n",
        "  ref_word.append(word)"
      ]
    },
    {
      "cell_type": "code",
      "execution_count": null,
      "metadata": {
        "id": "h7Hpy8pVzAsY"
      },
      "outputs": [],
      "source": [
        "for i in range(10,100,10):\n",
        "  text_tiling(doc,i,i/10)"
      ]
    },
    {
      "cell_type": "code",
      "execution_count": null,
      "metadata": {
        "id": "D1z0WbhHyor_"
      },
      "outputs": [],
      "source": [
        "window_diff_score=[]\n",
        "for i in range(10,100,10):\n",
        "    window_diff_score.append(window_diff(ref_word,doc,i,i/10))\n",
        "#plot_fig(range(10,110,10),window_diff_score,'Windowdiff Score variation with Change in Sentence Length')"
      ]
    }
  ],
  "metadata": {
    "colab": {
      "collapsed_sections": [
        "FJQdlZpURTBl",
        "cBCqLFiBRhVM",
        "P6snuexE9uoc",
        "xa_MeLjN90HI",
        "LYtXjDVZOdGj",
        "NkjnIE6iOjfa",
        "gb7MsYJOT4P3",
        "KNMhsQnzRou2",
        "dTM2EVhZVYbO",
        "QCeLCfCnY7R6",
        "5nFxLxWhmsxF"
      ],
      "provenance": [],
      "include_colab_link": true
    },
    "kernelspec": {
      "display_name": "Python 3",
      "name": "python3"
    },
    "language_info": {
      "name": "python"
    }
  },
  "nbformat": 4,
  "nbformat_minor": 0
}